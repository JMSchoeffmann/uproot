{
 "cells": [
  {
   "cell_type": "markdown",
   "metadata": {},
   "source": [
    "# Introduction\n",
    "\n",
    "This tutorial is designed to help you start using uproot. Unlike the [reference documentation](https://uproot.readthedocs.io/en/latest/), which defines every parameter of every function, this tutorial provides introductory examples to help you learn how to use them.\n",
    "\n",
    "The original tutorial [has been archived](https://github.com/scikit-hep/uproot/blob/master/docs/old-tutorial.rst)—this version was written in June 2019 in response to feedback from a series of tutorials I presented early this year and common questions in the [GitHub issues](https://github.com/scikit-hep/uproot/issues). The new tutorial is [executable on Binder](https://mybinder.org/v2/gh/scikit-hep/uproot/master?urlpath=lab/tree/binder%2Ftutorial.ipynb) and may be read in any order, though it has to be executed from top to bottom because some variables are reused."
   ]
  },
  {
   "cell_type": "markdown",
   "metadata": {},
   "source": [
    "# What is uproot?\n",
    "\n",
    "Uproot is a Python package; it is pip and conda-installable, and it only depends on other Python packages. Although it is similar in function to [root_numpy](https://pypi.org/project/root-numpy/) and [root_pandas](https://pypi.org/project/root_pandas/), it does not compile into ROOT and therefore avoids issues in which the version used in compilation differs from the version encountered at runtime.\n",
    "\n",
    "In short, you should never see a segmentation fault.\n",
    "\n",
    "<center><img src=\"https://raw.githubusercontent.com/scikit-hep/uproot/master/docs/abstraction-layers.png\" width=\"75%\"></center>"
   ]
  },
  {
   "cell_type": "markdown",
   "metadata": {},
   "source": [
    "Uproot is strictly concerned with file I/O only—all other functionality is handled by other libraries:\n",
    "\n",
    "   * [uproot-methods](https://github.com/scikit-hep/uproot-methods): physics methods for types read from ROOT files, such as histograms and Lorentz vectors. It is intended to be largely user-contributed (and is).\n",
    "   * [awkward-array](https://github.com/scikit-hep/awkward-array): array manipulation beyond [Numpy](https://docs.scipy.org/doc/numpy/reference/). Several are encountered in this tutorial, particularly lazy arrays and jagged arrays."
   ]
  },
  {
   "cell_type": "markdown",
   "metadata": {},
   "source": [
    "In the past year, uproot has become one of the most widely used Python packages made for particle physics, with users in all four LHC experiments, theory, neutrino experiments, XENON-nT (dark matter direct detection), MAGIC (gamma ray astronomy), and IceCube (neutrino astronomy).\n",
    "\n",
    "<center><img src=\"https://raw.githubusercontent.com/scikit-hep/uproot/master/docs/all_file_project.png\" width=\"75%\"></center>"
   ]
  },
  {
   "cell_type": "markdown",
   "metadata": {},
   "source": [
    "# Exploring a file\n",
    "\n",
    "[uproot.open](https://uproot.readthedocs.io/en/latest/opening-files.html#uproot-open) is the entry point for reading a single file.\n",
    "\n",
    "It takes a local filename path or a remote `http://` or `root://` URL. (HTTP requires the Python [requests](https://pypi.org/project/requests/) library and XRootD requires [pyxrootd](http://xrootd.org/), both of which have to be explicitly pip-installed if you installed uproot with pip, but are automatically installed if you installed uproot with conda.)"
   ]
  },
  {
   "cell_type": "code",
   "execution_count": 1,
   "metadata": {},
   "outputs": [
    {
     "data": {
      "text/plain": [
       "<ROOTDirectory b'tests/nesteddirs.root' at 0x7ac1a8c79320>"
      ]
     },
     "execution_count": 1,
     "metadata": {},
     "output_type": "execute_result"
    }
   ],
   "source": [
    "import uproot\n",
    "\n",
    "file = uproot.open(\"https://scikit-hep.org/uproot/examples/nesteddirs.root\")\n",
    "file"
   ]
  },
  {
   "cell_type": "markdown",
   "metadata": {},
   "source": [
    "[uproot.open](https://uproot.readthedocs.io/en/latest/opening-files.html#uproot-open) returns a [ROOTDirectory](https://uproot.readthedocs.io/en/latest/root-io.html#uproot-rootio-rootdirectory), which behaves like a Python dict; it has `keys()`, `values()`, and key-value access with square brackets."
   ]
  },
  {
   "cell_type": "code",
   "execution_count": 2,
   "metadata": {},
   "outputs": [
    {
     "data": {
      "text/plain": [
       "[b'one;1', b'three;1']"
      ]
     },
     "execution_count": 2,
     "metadata": {},
     "output_type": "execute_result"
    }
   ],
   "source": [
    "file.keys()"
   ]
  },
  {
   "cell_type": "code",
   "execution_count": 3,
   "metadata": {},
   "outputs": [
    {
     "data": {
      "text/plain": [
       "<ROOTDirectory b'one' at 0x7ac1a8c79ac8>"
      ]
     },
     "execution_count": 3,
     "metadata": {},
     "output_type": "execute_result"
    }
   ],
   "source": [
    "file[\"one\"]"
   ]
  },
  {
   "cell_type": "markdown",
   "metadata": {},
   "source": [
    "Subdirectories also have type [ROOTDirectory](https://uproot.readthedocs.io/en/latest/root-io.html#uproot-rootio-rootdirectory), so they behave like Python dicts, too."
   ]
  },
  {
   "cell_type": "code",
   "execution_count": 4,
   "metadata": {},
   "outputs": [
    {
     "data": {
      "text/plain": [
       "[b'two;1', b'tree;1']"
      ]
     },
     "execution_count": 4,
     "metadata": {},
     "output_type": "execute_result"
    }
   ],
   "source": [
    "file[\"one\"].keys()"
   ]
  },
  {
   "cell_type": "code",
   "execution_count": 5,
   "metadata": {},
   "outputs": [
    {
     "data": {
      "text/plain": [
       "[<ROOTDirectory b'two' at 0x7ac1a8d0e6d8>, <TTree b'tree' at 0x7ac1a8d0e400>]"
      ]
     },
     "execution_count": 5,
     "metadata": {},
     "output_type": "execute_result"
    }
   ],
   "source": [
    "file[\"one\"].values()"
   ]
  },
  {
   "cell_type": "markdown",
   "metadata": {},
   "source": [
    "**What's the `b` before each object name?** Python 3 distinguishes between bytestrings and encoded strings. ROOT object names have no encoding, such as Latin-1 or Unicode, so uproot presents them as raw bytestrings. However, if you enter a Python string (no `b`) and it matches an object name (interpreted as plain ASCII), it will count as a match, as `\"one\"` does above."
   ]
  },
  {
   "cell_type": "markdown",
   "metadata": {},
   "source": [
    "**What's the `;1` after each object name?** ROOT objects are versioned with a \"cycle number.\" If multiple objects are written to the ROOT file with the same name, they will have different cycle numbers, with the largest value being last. If you don't specify a cycle number, you'll get the latest one."
   ]
  },
  {
   "cell_type": "markdown",
   "metadata": {},
   "source": [
    "This file is deeply nested, so while you could find the TTree with"
   ]
  },
  {
   "cell_type": "code",
   "execution_count": 6,
   "metadata": {},
   "outputs": [
    {
     "data": {
      "text/plain": [
       "<TTree b'tree' at 0x7ac1a8d0ee80>"
      ]
     },
     "execution_count": 6,
     "metadata": {},
     "output_type": "execute_result"
    }
   ],
   "source": [
    "file[\"one\"][\"two\"][\"tree\"]"
   ]
  },
  {
   "cell_type": "markdown",
   "metadata": {},
   "source": [
    "you can also find it using a directory path, with slashes."
   ]
  },
  {
   "cell_type": "code",
   "execution_count": 7,
   "metadata": {},
   "outputs": [
    {
     "data": {
      "text/plain": [
       "<TTree b'tree' at 0x7ac1a8c79630>"
      ]
     },
     "execution_count": 7,
     "metadata": {},
     "output_type": "execute_result"
    }
   ],
   "source": [
    "file[\"one/two/tree\"]"
   ]
  },
  {
   "cell_type": "markdown",
   "metadata": {},
   "source": [
    "Here are a few more tricks for finding your way around a file:\n",
    "\n",
    "   * the `keys()`, `values()`, and `items()` methods have `allkeys()`, `allvalues()`, `allitems()` variants that recursively search through all subdirectories;\n",
    "   * all of these functions can be filtered by name or class: see [ROOTDirectory.keys](https://uproot.readthedocs.io/en/latest/root-io.html#uproot.rootio.ROOTDirectory.keys).\n",
    "\n",
    "Here's how you would search the subdirectories to find all TTrees:"
   ]
  },
  {
   "cell_type": "code",
   "execution_count": 8,
   "metadata": {},
   "outputs": [
    {
     "data": {
      "text/plain": [
       "[b'one/two/tree;1', b'one/tree;1', b'three/tree;1']"
      ]
     },
     "execution_count": 8,
     "metadata": {},
     "output_type": "execute_result"
    }
   ],
   "source": [
    "file.allkeys(filterclass=lambda cls: issubclass(cls, uproot.tree.TTreeMethods))"
   ]
  },
  {
   "cell_type": "markdown",
   "metadata": {},
   "source": [
    "Or get a Python dict of them:"
   ]
  },
  {
   "cell_type": "code",
   "execution_count": 9,
   "metadata": {},
   "outputs": [
    {
     "data": {
      "text/plain": [
       "{b'one/two/tree;1': <TTree b'tree' at 0x7ac1a8c5fac8>,\n",
       " b'one/tree;1': <TTree b'tree' at 0x7ac1a8c5fbe0>,\n",
       " b'three/tree;1': <TTree b'tree' at 0x7ac1a8c5f940>}"
      ]
     },
     "execution_count": 9,
     "metadata": {},
     "output_type": "execute_result"
    }
   ],
   "source": [
    "all_ttrees = dict(file.allitems(filterclass=lambda cls: issubclass(cls, uproot.tree.TTreeMethods)))\n",
    "all_ttrees"
   ]
  },
  {
   "cell_type": "markdown",
   "metadata": {},
   "source": [
    "Be careful: Python 3 is not as forgiving about matching key names. `all_ttrees` is a plain Python dict, so the key must be a bytestring and must include the cycle number."
   ]
  },
  {
   "cell_type": "code",
   "execution_count": 10,
   "metadata": {},
   "outputs": [
    {
     "data": {
      "text/plain": [
       "<TTree b'tree' at 0x7ac1a8c5fac8>"
      ]
     },
     "execution_count": 10,
     "metadata": {},
     "output_type": "execute_result"
    }
   ],
   "source": [
    "all_ttrees[b\"one/two/tree;1\"]"
   ]
  },
  {
   "cell_type": "markdown",
   "metadata": {},
   "source": [
    "## Compressed objects in ROOT files\n",
    "\n",
    "Objects in ROOT files can be uncompressed, compressed with ZLIB, compressed with LZMA, or compressed with LZ4. Uproot picks the right decompressor and gives you the objects transparently: you don't have to specify anything. However, if an object is compressed with LZ4 and you don't have the [lz4](https://pypi.org/project/lz4/) library installed, you'll get an error with installation instructions in the message. (It is automatically installed if you installed uproot with conda.) ZLIB is part of the Python Standard Library, and LZMA is part of the Python 3 Standard Library, so you won't get error messages about these except for LZMA in Python 2 (for which there is [backports.lzma](https://pypi.org/project/backports.lzma/), automatically installed if you installed uproot with conda).\n",
    "\n",
    "The [ROOTDirectory](https://uproot.readthedocs.io/en/latest/root-io.html#uproot-rootio-rootdirectory) class has a `compression` property that tells you the compression algorithm and level associated with this file,"
   ]
  },
  {
   "cell_type": "code",
   "execution_count": 11,
   "metadata": {},
   "outputs": [
    {
     "data": {
      "text/plain": [
       "<Compression 'zlib' 1>"
      ]
     },
     "execution_count": 11,
     "metadata": {},
     "output_type": "execute_result"
    }
   ],
   "source": [
    "file.compression"
   ]
  },
  {
   "cell_type": "markdown",
   "metadata": {},
   "source": [
    "but any object can be compressed with any algorithm at any level—this is only the default compression for the file. Some ROOT files are written with each TTree branch compressed using a different algorithm and level."
   ]
  },
  {
   "cell_type": "markdown",
   "metadata": {},
   "source": [
    "## Exploring a TTree\n",
    "\n",
    "TTrees are special objects in ROOT files: they contain most of the physics data. Uproot presents TTrees as subclasses of [TTreeMethods](https://uproot.readthedocs.io/en/latest/ttree-handling.html#uproot-tree-ttreemethods).\n",
    "\n",
    "(**Why subclass?** Different ROOT files can have different versions of a class, so uproot generates Python classes to fit the data, as needed. All TTrees inherit from [TTreeMethods](https://uproot.readthedocs.io/en/latest/ttree-handling.html#uproot-tree-ttreemethods) so that they get the same data-reading methods.)"
   ]
  },
  {
   "cell_type": "code",
   "execution_count": 12,
   "metadata": {},
   "outputs": [
    {
     "data": {
      "text/plain": [
       "<TTree b'events' at 0x7ac1a8c95198>"
      ]
     },
     "execution_count": 12,
     "metadata": {},
     "output_type": "execute_result"
    }
   ],
   "source": [
    "events = uproot.open(\"https://scikit-hep.org/uproot/examples/Zmumu.root\")[\"events\"]\n",
    "events"
   ]
  },
  {
   "cell_type": "markdown",
   "metadata": {},
   "source": [
    "Although [TTreeMethods](https://uproot.readthedocs.io/en/latest/ttree-handling.html#uproot-tree-ttreemethods) objects behave like Python dicts of [TBranchMethods](https://uproot.readthedocs.io/en/latest/ttree-handling.html#uproot-tree-tbranchmethods) objects, the easiest way to browse a TTree is by calling its `show()` method, which prints the branches and their interpretations as arrays."
   ]
  },
  {
   "cell_type": "code",
   "execution_count": 13,
   "metadata": {},
   "outputs": [
    {
     "data": {
      "text/plain": [
       "[b'Type',\n",
       " b'Run',\n",
       " b'Event',\n",
       " b'E1',\n",
       " b'px1',\n",
       " b'py1',\n",
       " b'pz1',\n",
       " b'pt1',\n",
       " b'eta1',\n",
       " b'phi1',\n",
       " b'Q1',\n",
       " b'E2',\n",
       " b'px2',\n",
       " b'py2',\n",
       " b'pz2',\n",
       " b'pt2',\n",
       " b'eta2',\n",
       " b'phi2',\n",
       " b'Q2',\n",
       " b'M']"
      ]
     },
     "execution_count": 13,
     "metadata": {},
     "output_type": "execute_result"
    }
   ],
   "source": [
    "events.keys()"
   ]
  },
  {
   "cell_type": "code",
   "execution_count": 14,
   "metadata": {},
   "outputs": [
    {
     "name": "stdout",
     "output_type": "stream",
     "text": [
      "Type                       (no streamer)              asstring()\n",
      "Run                        (no streamer)              asdtype('>i4')\n",
      "Event                      (no streamer)              asdtype('>i4')\n",
      "E1                         (no streamer)              asdtype('>f8')\n",
      "px1                        (no streamer)              asdtype('>f8')\n",
      "py1                        (no streamer)              asdtype('>f8')\n",
      "pz1                        (no streamer)              asdtype('>f8')\n",
      "pt1                        (no streamer)              asdtype('>f8')\n",
      "eta1                       (no streamer)              asdtype('>f8')\n",
      "phi1                       (no streamer)              asdtype('>f8')\n",
      "Q1                         (no streamer)              asdtype('>i4')\n",
      "E2                         (no streamer)              asdtype('>f8')\n",
      "px2                        (no streamer)              asdtype('>f8')\n",
      "py2                        (no streamer)              asdtype('>f8')\n",
      "pz2                        (no streamer)              asdtype('>f8')\n",
      "pt2                        (no streamer)              asdtype('>f8')\n",
      "eta2                       (no streamer)              asdtype('>f8')\n",
      "phi2                       (no streamer)              asdtype('>f8')\n",
      "Q2                         (no streamer)              asdtype('>i4')\n",
      "M                          (no streamer)              asdtype('>f8')\n"
     ]
    }
   ],
   "source": [
    "events.show()"
   ]
  },
  {
   "cell_type": "markdown",
   "metadata": {},
   "source": [
    "Basic information about the TTree, such as its number of entries, are available as properties."
   ]
  },
  {
   "cell_type": "code",
   "execution_count": 15,
   "metadata": {},
   "outputs": [
    {
     "data": {
      "text/plain": [
       "(b'events', b'Z -> mumu events', 2304)"
      ]
     },
     "execution_count": 15,
     "metadata": {},
     "output_type": "execute_result"
    }
   ],
   "source": [
    "events.name, events.title, events.numentries"
   ]
  },
  {
   "cell_type": "markdown",
   "metadata": {},
   "source": [
    "## Some terminology\n",
    "\n",
    "ROOT files contain objects internally referred to via `TKeys` (dict-like lookup in uproot). `TTree` organizes data in `TBranches`, and uproot interprets one `TBranch` as one array, either a [Numpy array](https://docs.scipy.org/doc/numpy/reference/generated/numpy.array.html) or an [awkward array](https://github.com/scikit-hep/awkward-array). `TBranch` data are stored in chunks called `TBaskets`, though uproot hides this level of granularity unless you dig into the details.\n",
    "\n",
    "<br>\n",
    "\n",
    "<center><img src=\"https://raw.githubusercontent.com/scikit-hep/uproot/master/docs/terminology.png\" width=\"75%\"></center>"
   ]
  },
  {
   "cell_type": "markdown",
   "metadata": {},
   "source": [
    "# Reading arrays from a TTree\n",
    "\n",
    "The bulk data in a TTree are not read until requested. There are many ways to do that:\n",
    "\n",
    "   * select a TBranch and call [TBranchMethods.array](https://uproot.readthedocs.io/en/latest/ttree-handling.html#id11);\n",
    "   * call [TTreeMethods.array](https://uproot.readthedocs.io/en/latest/ttree-handling.html#array) directly from the TTree object;\n",
    "   * call [TTreeMethods.arrays](https://uproot.readthedocs.io/en/latest/ttree-handling.html#arrays) to get several arrays at a time;\n",
    "   * call [TBranch.lazyarray](https://uproot.readthedocs.io/en/latest/ttree-handling.html#id13), [TTreeMethods.lazyarray](https://uproot.readthedocs.io/en/latest/ttree-handling.html#lazyarray), [TTreeMethods.lazyarrays](https://uproot.readthedocs.io/en/latest/ttree-handling.html#lazyarrays), or [uproot.lazyarrays](https://uproot.readthedocs.io/en/latest/opening-files.html#uproot-lazyarray-and-lazyarrays) to get array-like objects that read on demand;\n",
    "   * call [TTreeMethods.iterate](https://uproot.readthedocs.io/en/latest/ttree-handling.html#iterate) or [uproot.iterate](https://uproot.readthedocs.io/en/latest/opening-files.html#uproot-iterate) to explicitly iterate over chunks of data (to avoid reading more than would fit into memory);\n",
    "   * call [TTreeMethods.pandas](https://uproot.readthedocs.io/en/latest/ttree-handling.html#id7) or [uproot.pandas.iterate](https://uproot.readthedocs.io/en/latest/opening-files.html#uproot-pandas-iterate) to get Pandas DataFrames ([Pandas](https://pandas.pydata.org/) must be installed).\n",
    "\n",
    "Let's start with the simplest."
   ]
  },
  {
   "cell_type": "code",
   "execution_count": 16,
   "metadata": {},
   "outputs": [
    {
     "data": {
      "text/plain": [
       "array([82.20186639, 62.34492895, 62.34492895, ..., 81.27013558,\n",
       "       81.27013558, 81.56621735])"
      ]
     },
     "execution_count": 16,
     "metadata": {},
     "output_type": "execute_result"
    }
   ],
   "source": [
    "a = events.array(\"E1\")\n",
    "a"
   ]
  },
  {
   "cell_type": "markdown",
   "metadata": {},
   "source": [
    "Since `array` is singular, you specify one branch name and get one array back. This is a [Numpy array](https://docs.scipy.org/doc/numpy/reference/generated/numpy.array.html) of 8-byte floating point numbers, the [Numpy dtype](https://docs.scipy.org/doc/numpy/reference/arrays.dtypes.html) specified by the `\"E1\"` branch's interpretation."
   ]
  },
  {
   "cell_type": "code",
   "execution_count": 17,
   "metadata": {},
   "outputs": [
    {
     "data": {
      "text/plain": [
       "asdtype('>f8')"
      ]
     },
     "execution_count": 17,
     "metadata": {},
     "output_type": "execute_result"
    }
   ],
   "source": [
    "events[\"E1\"].interpretation"
   ]
  },
  {
   "cell_type": "markdown",
   "metadata": {},
   "source": [
    "We can use this array in Numpy calculations; see the [Numpy documentation](https://docs.scipy.org/doc/numpy/) for details."
   ]
  },
  {
   "cell_type": "code",
   "execution_count": 18,
   "metadata": {},
   "outputs": [
    {
     "data": {
      "text/plain": [
       "array([4.40917801, 4.13268234, 4.13268234, ..., 4.39777861, 4.39777861,\n",
       "       4.40141517])"
      ]
     },
     "execution_count": 18,
     "metadata": {},
     "output_type": "execute_result"
    }
   ],
   "source": [
    "import numpy\n",
    "\n",
    "numpy.log(a)"
   ]
  },
  {
   "cell_type": "markdown",
   "metadata": {},
   "source": [
    "Numpy arrays are also the standard container for entering data into machine learning frameworks; see this [Keras introduction](https://keras.io/), [PyTorch introduction](https://pytorch.org/tutorials/beginner/deep_learning_60min_blitz.html), [TensorFlow introduction](https://www.tensorflow.org/guide/low_level_intro), or [Scikit-Learn introduction](https://scikit-learn.org/stable/tutorial/basic/tutorial.html) to see how to put Numpy arrays to work in machine learning."
   ]
  },
  {
   "cell_type": "markdown",
   "metadata": {},
   "source": [
    "The [TBranchMethods.array](https://uproot.readthedocs.io/en/latest/ttree-handling.html#id11) method is the same as [TTreeMethods.array](https://uproot.readthedocs.io/en/latest/ttree-handling.html#array) except that you don't have to specify the TBranch name (naturally). Sometimes one is more convenient, sometimes the other."
   ]
  },
  {
   "cell_type": "code",
   "execution_count": 19,
   "metadata": {},
   "outputs": [
    {
     "data": {
      "text/plain": [
       "(array([82.20186639, 62.34492895, 62.34492895, ..., 81.27013558,\n",
       "        81.27013558, 81.56621735]),\n",
       " array([82.20186639, 62.34492895, 62.34492895, ..., 81.27013558,\n",
       "        81.27013558, 81.56621735]))"
      ]
     },
     "execution_count": 19,
     "metadata": {},
     "output_type": "execute_result"
    }
   ],
   "source": [
    "events.array(\"E1\"), events[\"E1\"].array()"
   ]
  },
  {
   "cell_type": "markdown",
   "metadata": {},
   "source": [
    "The plural `arrays` method is different. Whereas singular `array` could only return one array, plural `arrays` takes a list of names (possibly including wildcards) and returns them all in a Python dict."
   ]
  },
  {
   "cell_type": "code",
   "execution_count": 20,
   "metadata": {},
   "outputs": [
    {
     "data": {
      "text/plain": [
       "{b'px1': array([-41.19528764,  35.11804977,  35.11804977, ...,  32.37749196,\n",
       "         32.37749196,  32.48539387]),\n",
       " b'py1': array([ 17.4332439 , -16.57036233, -16.57036233, ...,   1.19940578,\n",
       "          1.19940578,   1.2013503 ]),\n",
       " b'pz1': array([-68.96496181, -48.77524654, -48.77524654, ..., -74.53243061,\n",
       "        -74.53243061, -74.80837247])}"
      ]
     },
     "execution_count": 20,
     "metadata": {},
     "output_type": "execute_result"
    }
   ],
   "source": [
    "events.arrays([\"px1\", \"py1\", \"pz1\"])"
   ]
  },
  {
   "cell_type": "code",
   "execution_count": 21,
   "metadata": {},
   "outputs": [
    {
     "data": {
      "text/plain": [
       "{b'px1': array([-41.19528764,  35.11804977,  35.11804977, ...,  32.37749196,\n",
       "         32.37749196,  32.48539387]),\n",
       " b'py1': array([ 17.4332439 , -16.57036233, -16.57036233, ...,   1.19940578,\n",
       "          1.19940578,   1.2013503 ]),\n",
       " b'pz1': array([-68.96496181, -48.77524654, -48.77524654, ..., -74.53243061,\n",
       "        -74.53243061, -74.80837247]),\n",
       " b'px2': array([ 34.14443725, -41.19528764, -40.88332344, ..., -68.04191497,\n",
       "        -68.79413604, -68.79413604]),\n",
       " b'py2': array([-16.11952457,  17.4332439 ,  17.29929704, ..., -26.10584737,\n",
       "        -26.39840043, -26.39840043]),\n",
       " b'pz2': array([ -47.42698439,  -68.96496181,  -68.44725519, ..., -152.2350181 ,\n",
       "        -153.84760383, -153.84760383])}"
      ]
     },
     "execution_count": 21,
     "metadata": {},
     "output_type": "execute_result"
    }
   ],
   "source": [
    "events.arrays([\"p[xyz]*\"])"
   ]
  },
  {
   "cell_type": "markdown",
   "metadata": {},
   "source": [
    "As with all ROOT object names, the TBranch names are bytestrings (prepended by `b`). If you know the encoding or it doesn't matter (`\"ascii\"` and `\"utf-8\"` are generic), pass a `namedecode` to get keys that are strings."
   ]
  },
  {
   "cell_type": "code",
   "execution_count": 22,
   "metadata": {},
   "outputs": [
    {
     "data": {
      "text/plain": [
       "{'px1': array([-41.19528764,  35.11804977,  35.11804977, ...,  32.37749196,\n",
       "         32.37749196,  32.48539387]),\n",
       " 'py1': array([ 17.4332439 , -16.57036233, -16.57036233, ...,   1.19940578,\n",
       "          1.19940578,   1.2013503 ]),\n",
       " 'pz1': array([-68.96496181, -48.77524654, -48.77524654, ..., -74.53243061,\n",
       "        -74.53243061, -74.80837247]),\n",
       " 'px2': array([ 34.14443725, -41.19528764, -40.88332344, ..., -68.04191497,\n",
       "        -68.79413604, -68.79413604]),\n",
       " 'py2': array([-16.11952457,  17.4332439 ,  17.29929704, ..., -26.10584737,\n",
       "        -26.39840043, -26.39840043]),\n",
       " 'pz2': array([ -47.42698439,  -68.96496181,  -68.44725519, ..., -152.2350181 ,\n",
       "        -153.84760383, -153.84760383])}"
      ]
     },
     "execution_count": 22,
     "metadata": {},
     "output_type": "execute_result"
    }
   ],
   "source": [
    "events.arrays([\"p[xyz]*\"], namedecode=\"utf-8\")"
   ]
  },
  {
   "cell_type": "markdown",
   "metadata": {},
   "source": [
    "These array-reading functions have many parameters, but most of them have the same names and meanings across all the functions. Rather than discuss all of them here, they'll be presented in context in sections on special features below."
   ]
  },
  {
   "cell_type": "markdown",
   "metadata": {},
   "source": [
    "# Caching data\n",
    "\n",
    "Every time you ask for arrays, uproot goes to the file and re-reads them. For especially large arrays, this can take a long time.\n",
    "\n",
    "For quicker access, uproot's array-reading functions have a **cache** parameter, which is an entry point for you to manage your own cache. The **cache** only needs to behave like a dict (many third-party Python caches do)."
   ]
  },
  {
   "cell_type": "code",
   "execution_count": 23,
   "metadata": {},
   "outputs": [],
   "source": [
    "mycache = {}\n",
    "\n",
    "# first time: reads from file\n",
    "events.arrays([\"p[xyz]*\"], cache=mycache);\n",
    "\n",
    "# any other time: reads from cache\n",
    "events.arrays([\"p[xyz]*\"], cache=mycache);"
   ]
  },
  {
   "cell_type": "markdown",
   "metadata": {},
   "source": [
    "In this example, the cache is a simple Python dict. Uproot has filled it with unique ID → array pairs, and it uses the unique ID to identify an array that it has previously read. You can see that it's full by looking at those keys:"
   ]
  },
  {
   "cell_type": "code",
   "execution_count": 24,
   "metadata": {},
   "outputs": [
    {
     "data": {
      "text/plain": [
       "{'AAGUS3fQmKsR56dpAQAAf77v;events;px1;asdtype(Bf8(),Lf8());0-2304': array([-41.19528764,  35.11804977,  35.11804977, ...,  32.37749196,\n",
       "         32.37749196,  32.48539387]),\n",
       " 'AAGUS3fQmKsR56dpAQAAf77v;events;py1;asdtype(Bf8(),Lf8());0-2304': array([ 17.4332439 , -16.57036233, -16.57036233, ...,   1.19940578,\n",
       "          1.19940578,   1.2013503 ]),\n",
       " 'AAGUS3fQmKsR56dpAQAAf77v;events;pz1;asdtype(Bf8(),Lf8());0-2304': array([-68.96496181, -48.77524654, -48.77524654, ..., -74.53243061,\n",
       "        -74.53243061, -74.80837247]),\n",
       " 'AAGUS3fQmKsR56dpAQAAf77v;events;px2;asdtype(Bf8(),Lf8());0-2304': array([ 34.14443725, -41.19528764, -40.88332344, ..., -68.04191497,\n",
       "        -68.79413604, -68.79413604]),\n",
       " 'AAGUS3fQmKsR56dpAQAAf77v;events;py2;asdtype(Bf8(),Lf8());0-2304': array([-16.11952457,  17.4332439 ,  17.29929704, ..., -26.10584737,\n",
       "        -26.39840043, -26.39840043]),\n",
       " 'AAGUS3fQmKsR56dpAQAAf77v;events;pz2;asdtype(Bf8(),Lf8());0-2304': array([ -47.42698439,  -68.96496181,  -68.44725519, ..., -152.2350181 ,\n",
       "        -153.84760383, -153.84760383])}"
      ]
     },
     "execution_count": 24,
     "metadata": {},
     "output_type": "execute_result"
    }
   ],
   "source": [
    "mycache"
   ]
  },
  {
   "cell_type": "markdown",
   "metadata": {},
   "source": [
    "though they're not very human-readable.\n",
    "\n",
    "If you're running out of memory, you could manually clear your cache by simply clearing the dict."
   ]
  },
  {
   "cell_type": "code",
   "execution_count": 25,
   "metadata": {},
   "outputs": [
    {
     "data": {
      "text/plain": [
       "{}"
      ]
     },
     "execution_count": 25,
     "metadata": {},
     "output_type": "execute_result"
    }
   ],
   "source": [
    "mycache.clear()\n",
    "mycache"
   ]
  },
  {
   "cell_type": "markdown",
   "metadata": {},
   "source": [
    "Now the same line of code reads from the file again."
   ]
  },
  {
   "cell_type": "code",
   "execution_count": 26,
   "metadata": {},
   "outputs": [],
   "source": [
    "# not in cache: reads from file\n",
    "events.arrays([\"p[xyz]*\"], cache=mycache);"
   ]
  },
  {
   "cell_type": "markdown",
   "metadata": {},
   "source": [
    "## Automatically managed caches\n",
    "\n",
    "This manual process of clearing the cache when you run out of memory is not very robust. What you want instead is a dict-like object that drops elements on its own when memory is scarce.\n",
    "\n",
    "Uproot has an [ArrayCache](https://uproot.readthedocs.io/en/latest/caches.html#uproot-cache-arraycache) class for this purpose, though it's a thin wrapper around the third-party [cachetools](https://pypi.org/project/cachetools/) library. Whereas [cachetools](https://pypi.org/project/cachetools/) drops old data from cache when a maximum number of items is reached, [ArrayCache](https://uproot.readthedocs.io/en/latest/caches.html#uproot-cache-arraycache) drops old data when the data usage reaches a limit, specified in bytes."
   ]
  },
  {
   "cell_type": "code",
   "execution_count": 27,
   "metadata": {},
   "outputs": [
    {
     "data": {
      "text/plain": [
       "(6, 20)"
      ]
     },
     "execution_count": 27,
     "metadata": {},
     "output_type": "execute_result"
    }
   ],
   "source": [
    "mycache = uproot.ArrayCache(\"100 kB\")\n",
    "events.arrays(\"*\", cache=mycache);\n",
    "\n",
    "len(mycache), len(events.keys())"
   ]
  },
  {
   "cell_type": "markdown",
   "metadata": {},
   "source": [
    "With a limit of 100 kB, only 6 of the 20 arrays fit into cache, the rest have been evicted.\n",
    "\n",
    "All data sizes in uproot are specified as an integer in bytes (integers) or a string with the appropriate unit (interpreted as powers of 1024, not 1000)."
   ]
  },
  {
   "cell_type": "markdown",
   "metadata": {},
   "source": [
    "The fact that any dict-like object may be a cache opens many possibilities. If you're struggling with a script that takes a long time to load data, then crashes, you may want to try a process-independent cache like [memcached](https://realpython.com/python-memcache-efficient-caching/). If you have a small, fast disk, you may want to consider [diskcache](http://www.grantjenks.com/docs/diskcache/tutorial.html) to temporarily hold arrays from ROOT files on the big, slow disk."
   ]
  },
  {
   "cell_type": "markdown",
   "metadata": {},
   "source": [
    "## Caching at all levels of abstraction\n",
    "\n",
    "All of the array-reading functions have a **cache** parameter to accept a cache object. This is the high-level cache, which caches data after it has been fully interpreted. These functions also have a **basketcache** parameter to cache data after reading and decompressing baskets, but before interpretation as high-level arrays. The main purpose of this is to avoid reading TBaskets twice when an iteration step falls in the middle of a basket (see below). There is also a **keycache** for caching ROOT's TKey objects, which use negligible memory but would be a bottleneck to re-read when TBaskets are provided by a **basketcache**.\n",
    "\n",
    "For more on these high and mid-level caching parameters, see [reference documentation](https://uproot.readthedocs.io/en/latest/caches.html).\n",
    "\n",
    "At the lowest level of abstraction, raw bytes are cached by the HTTP and XRootD remote file readers. You can control the memory remote file memory use with `uproot.HTTPSource.defaults[\"limitbytes\"]` and `uproot.XRootDSource.defaults[\"limitbytes\"]`, either by globally setting these parameters before opening a file, or by passing them to [uproot.open](https://uproot.readthedocs.io/en/latest/opening-files.html#uproot-open) through the **limitbytes** parameter."
   ]
  },
  {
   "cell_type": "code",
   "execution_count": 28,
   "metadata": {},
   "outputs": [
    {
     "data": {
      "text/plain": [
       "(100.0, 100.0)"
      ]
     },
     "execution_count": 28,
     "metadata": {},
     "output_type": "execute_result"
    }
   ],
   "source": [
    "# default remote file caches in MB\n",
    "uproot.HTTPSource.defaults[\"limitbytes\"] / 1024**2, uproot.XRootDSource.defaults[\"limitbytes\"] / 1024**2"
   ]
  },
  {
   "cell_type": "markdown",
   "metadata": {},
   "source": [
    "If you want to limit this cache to less than the default **chunkbytes** of 1 MB, be sure to make the **chunkbytes** smaller, so that it's able to load at least one chunk!"
   ]
  },
  {
   "cell_type": "code",
   "execution_count": 29,
   "metadata": {},
   "outputs": [
    {
     "data": {
      "text/plain": [
       "<ROOTDirectory b'Zmumu.root' at 0x7ac1a8c65da0>"
      ]
     },
     "execution_count": 29,
     "metadata": {},
     "output_type": "execute_result"
    }
   ],
   "source": [
    "uproot.open(\"https://scikit-hep.org/uproot/examples/Zmumu.root\", limitbytes=\"100 kB\", chunkbytes=\"10 kB\")"
   ]
  },
  {
   "cell_type": "markdown",
   "metadata": {},
   "source": [
    "By default (unless **localsource** is overridden), local files are memory-mapped, so the operating system manages its byte-level cache."
   ]
  },
  {
   "cell_type": "markdown",
   "metadata": {},
   "source": [
    "# Lazy arrays\n",
    "\n",
    "If you call [TBranchMethods.array](https://uproot.readthedocs.io/en/latest/ttree-handling.html#id11), [TTreeMethods.array](https://uproot.readthedocs.io/en/latest/ttree-handling.html#array), or [TTreeMethods.arrays](https://uproot.readthedocs.io/en/latest/ttree-handling.html#arrays), uproot reads the file or cache immediately and returns an in-memory array. For exploratory work or to control memory usage, you might want to let the data be read on demand.\n",
    "\n",
    "The [TBranch.lazyarray](https://uproot.readthedocs.io/en/latest/ttree-handling.html#id13), [TTreeMethods.lazyarray](https://uproot.readthedocs.io/en/latest/ttree-handling.html#lazyarray), [TTreeMethods.lazyarrays](https://uproot.readthedocs.io/en/latest/ttree-handling.html#lazyarrays), and [uproot.lazyarrays](https://uproot.readthedocs.io/en/latest/opening-files.html#uproot-lazyarray-and-lazyarrays) functions take most of the same parameters but return lazy array objects, rather than Numpy arrays."
   ]
  },
  {
   "cell_type": "code",
   "execution_count": 30,
   "metadata": {},
   "outputs": [
    {
     "data": {
      "text/plain": [
       "<Table [<Row 0> <Row 1> <Row 2> ... <Row 2301> <Row 2302> <Row 2303>] at 0x7ac1a8404d30>"
      ]
     },
     "execution_count": 30,
     "metadata": {},
     "output_type": "execute_result"
    }
   ],
   "source": [
    "data = events.lazyarrays(\"*\")\n",
    "data"
   ]
  },
  {
   "cell_type": "markdown",
   "metadata": {},
   "source": [
    "This `ChunkedArray` represents all the data in the file in chunks specified by ROOT's internal baskets (specifically, the places where the baskets align, called \"clusters\"). Each chunk contains a `VirtualArray`, which is read when any element from it is accessed."
   ]
  },
  {
   "cell_type": "code",
   "execution_count": 31,
   "metadata": {},
   "outputs": [
    {
     "data": {
      "text/plain": [
       "<ChunkedArray [82.2018663875 62.3449289481 62.3449289481 ... 81.2701355756 81.2701355756 81.5662173543] at 0x7ac1a83f3ba8>"
      ]
     },
     "execution_count": 31,
     "metadata": {},
     "output_type": "execute_result"
    }
   ],
   "source": [
    "data = events.lazyarrays(entrysteps=500)   # chunks of 500 events each\n",
    "dataE1 = data[\"E1\"]\n",
    "dataE1"
   ]
  },
  {
   "cell_type": "markdown",
   "metadata": {},
   "source": [
    "Requesting `\"E1\"` through all the chunks and printing it (above) has caused the first and last chunks of the array to be read, because that's all that got written to the screen. (See the `...`?)"
   ]
  },
  {
   "cell_type": "code",
   "execution_count": 32,
   "metadata": {},
   "outputs": [
    {
     "data": {
      "text/plain": [
       "[True, False, False, False, True]"
      ]
     },
     "execution_count": 32,
     "metadata": {},
     "output_type": "execute_result"
    }
   ],
   "source": [
    "[chunk.ismaterialized for chunk in dataE1.chunks]"
   ]
  },
  {
   "cell_type": "markdown",
   "metadata": {},
   "source": [
    "These arrays can be used with [Numpy's universal functions](https://docs.scipy.org/doc/numpy/reference/ufuncs.html) (ufuncs), which are the mathematical functions that perform elementwise mathematics."
   ]
  },
  {
   "cell_type": "code",
   "execution_count": 33,
   "metadata": {},
   "outputs": [
    {
     "data": {
      "text/plain": [
       "<ChunkedArray [4.409178007248409 4.132682336791151 4.132682336791151 4.104655794838432 3.733527454020269 3.891440776178839 3.891440776178839 ...] at 0x7ac1a83a1278>"
      ]
     },
     "execution_count": 33,
     "metadata": {},
     "output_type": "execute_result"
    }
   ],
   "source": [
    "numpy.log(dataE1)"
   ]
  },
  {
   "cell_type": "markdown",
   "metadata": {},
   "source": [
    "Now all of the chunks have been read, because the values were needed to compute `log(E1)` for all `E1`."
   ]
  },
  {
   "cell_type": "code",
   "execution_count": 34,
   "metadata": {},
   "outputs": [
    {
     "data": {
      "text/plain": [
       "[True, True, True, True, True]"
      ]
     },
     "execution_count": 34,
     "metadata": {},
     "output_type": "execute_result"
    }
   ],
   "source": [
    "[chunk.ismaterialized for chunk in dataE1.chunks]"
   ]
  },
  {
   "cell_type": "markdown",
   "metadata": {},
   "source": [
    "(**Note:** only ufuncs recognize these lazy arrays because Numpy provides a [mechanism to override ufuncs](https://www.numpy.org/neps/nep-0013-ufunc-overrides.html) but a [similar mechanism for high-level functions](https://www.numpy.org/neps/nep-0018-array-function-protocol.html) is still in development. To turn lazy arrays into Numpy arrays, pass them to the Numpy constructor, as shown below. This causes the whole array to be loaded into memory and to be stitched together into a contiguous whole.)"
   ]
  },
  {
   "cell_type": "code",
   "execution_count": 35,
   "metadata": {},
   "outputs": [
    {
     "data": {
      "text/plain": [
       "array([82.20186639, 62.34492895, 62.34492895, ..., 81.27013558,\n",
       "       81.27013558, 81.56621735])"
      ]
     },
     "execution_count": 35,
     "metadata": {},
     "output_type": "execute_result"
    }
   ],
   "source": [
    "numpy.array(dataE1)"
   ]
  },
  {
   "cell_type": "markdown",
   "metadata": {},
   "source": [
    "## Lazy array of many files\n",
    "\n",
    "There's a lazy version of each of the array-reading functions in [TTreeMethods](https://uproot.readthedocs.io/en/latest/ttree-handling.html#uproot-tree-ttreemethods) and [TBranchMethods](https://uproot.readthedocs.io/en/latest/ttree-handling.html#uproot-tree-tbranchmethods), but there's also module-level [uproot.lazyarray](https://uproot.readthedocs.io/en/latest/opening-files.html#uproot.tree.lazyarray) and [uproot.lazyarrays](https://uproot.readthedocs.io/en/latest/opening-files.html#uproot.tree.lazyarrays). These functions let you make a lazy array that spans many files.\n",
    "\n",
    "These functions may be thought of as alternatives to ROOT's TChain: a TChain presents many files as though they were a single TTree, and a file-spanning lazy array presents many files as though they were a single array. See Iteration below as a more explicit TChain alternative."
   ]
  },
  {
   "cell_type": "code",
   "execution_count": 36,
   "metadata": {},
   "outputs": [
    {
     "data": {
      "text/plain": [
       "<ChunkedArray [-14.9 -13.9 -12.9 ... 12.1 13.1 14.1] at 0x7ac1a8364400>"
      ]
     },
     "execution_count": 36,
     "metadata": {},
     "output_type": "execute_result"
    }
   ],
   "source": [
    "data = uproot.lazyarray(\n",
    "    # list of files; local files can have wildcards (*)\n",
    "    [\"samples/sample-%s-zlib.root\" % x\n",
    "        for x in [\"5.23.02\", \"5.24.00\", \"5.25.02\", \"5.26.00\", \"5.27.02\", \"5.28.00\",\n",
    "                  \"5.29.02\", \"5.30.00\", \"6.08.04\", \"6.10.05\", \"6.14.00\"]],\n",
    "    # TTree name in each file\n",
    "    \"sample\",\n",
    "    # branch(s) in each file for lazyarray(s)\n",
    "    \"f8\")\n",
    "data"
   ]
  },
  {
   "cell_type": "markdown",
   "metadata": {},
   "source": [
    "This `data` represents the entire set of files, and the only up-front processing that had to be done was to find out how many entries each TTree contains.\n",
    "\n",
    "It uses the [uproot.numentries](https://uproot.readthedocs.io/en/latest/opening-files.html#uproot-numentries) shortcut method (which reads less data than normal file-opening):"
   ]
  },
  {
   "cell_type": "code",
   "execution_count": 37,
   "metadata": {},
   "outputs": [
    {
     "data": {
      "text/plain": [
       "{'samples/sample-5.23.02-zlib.root': 30,\n",
       " 'samples/sample-5.24.00-zlib.root': 30,\n",
       " 'samples/sample-5.25.02-zlib.root': 30,\n",
       " 'samples/sample-5.26.00-zlib.root': 30,\n",
       " 'samples/sample-5.27.02-zlib.root': 30,\n",
       " 'samples/sample-5.28.00-zlib.root': 30,\n",
       " 'samples/sample-5.29.02-zlib.root': 30,\n",
       " 'samples/sample-5.30.00-zlib.root': 30,\n",
       " 'samples/sample-6.08.04-zlib.root': 30,\n",
       " 'samples/sample-6.10.05-zlib.root': 30,\n",
       " 'samples/sample-6.14.00-zlib.root': 30}"
      ]
     },
     "execution_count": 37,
     "metadata": {},
     "output_type": "execute_result"
    }
   ],
   "source": [
    "dict(uproot.numentries(\n",
    "    # list of files; local files can have wildcards (*)\n",
    "    [\"samples/sample-%s-zlib.root\" % x\n",
    "        for x in [\"5.23.02\", \"5.24.00\", \"5.25.02\", \"5.26.00\", \"5.27.02\", \"5.28.00\",\n",
    "                  \"5.29.02\", \"5.30.00\", \"6.08.04\", \"6.10.05\", \"6.14.00\"]],\n",
    "    # TTree name in each file\n",
    "    \"sample\",\n",
    "    # total=True adds all values; total=False leaves them as a dict\n",
    "    total=False))"
   ]
  },
  {
   "cell_type": "markdown",
   "metadata": {},
   "source": [
    "## Lazy arrays with caching\n",
    "\n",
    "By default, lazy arrays hold onto all data that have been read as long as the lazy array continues to exist. To use a lazy array as a window into a very large dataset, you'll have to limit how much it's allowed to keep in memory at a time.\n",
    "\n",
    "This is caching, and the caching mechanism is the same as before:"
   ]
  },
  {
   "cell_type": "code",
   "execution_count": 38,
   "metadata": {},
   "outputs": [
    {
     "data": {
      "text/plain": [
       "<Table [<Row 0> <Row 1> <Row 2> ... <Row 2301> <Row 2302> <Row 2303>] at 0x7ac1a831e710>"
      ]
     },
     "execution_count": 38,
     "metadata": {},
     "output_type": "execute_result"
    }
   ],
   "source": [
    "mycache = uproot.cache.ArrayCache(100*1024)   # 100 kB\n",
    "\n",
    "data = events.lazyarrays(entrysteps=500, cache=mycache)\n",
    "data"
   ]
  },
  {
   "cell_type": "markdown",
   "metadata": {},
   "source": [
    "Before performing a calculation, the cache is empty."
   ]
  },
  {
   "cell_type": "code",
   "execution_count": 39,
   "metadata": {},
   "outputs": [
    {
     "data": {
      "text/plain": [
       "0"
      ]
     },
     "execution_count": 39,
     "metadata": {},
     "output_type": "execute_result"
    }
   ],
   "source": [
    "len(mycache)"
   ]
  },
  {
   "cell_type": "code",
   "execution_count": 40,
   "metadata": {},
   "outputs": [
    {
     "data": {
      "text/plain": [
       "<ChunkedArray [82.46269155513643 83.62620400526137 83.30846466680981 82.14937288090277 90.46912303551746 89.75766317061574 89.77394317215372 ...] at 0x7ac1a83a1e10>"
      ]
     },
     "execution_count": 40,
     "metadata": {},
     "output_type": "execute_result"
    }
   ],
   "source": [
    "numpy.sqrt((data[\"E1\"] + data[\"E2\"])**2 - (data[\"px1\"] + data[\"px2\"])**2 -\n",
    "           (data[\"py1\"] + data[\"py2\"])**2 - (data[\"pz1\"] + data[\"pz2\"])**2)"
   ]
  },
  {
   "cell_type": "markdown",
   "metadata": {},
   "source": [
    "After performing the calculation, the cache contains only as many chunks as it could hold."
   ]
  },
  {
   "cell_type": "code",
   "execution_count": 41,
   "metadata": {},
   "outputs": [
    {
     "data": {
      "text/plain": [
       "(27, 40)"
      ]
     },
     "execution_count": 41,
     "metadata": {},
     "output_type": "execute_result"
    }
   ],
   "source": [
    "# chunks in cache  chunks touched to compute (E1 + E2)**2 - (px1 + px2)**2 - (py1 + py2)**2 - (pz1 + pz2)**2\n",
    "len(mycache),      len(data[\"E1\"].chunks) * 8"
   ]
  },
  {
   "cell_type": "markdown",
   "metadata": {},
   "source": [
    "## Lazy arrays as lightweight skims\n",
    "\n",
    "The `ChunkedArray` and `VirtualArray` classes are defined in the [awkward-array](https://github.com/scikit-hep/awkward-array#awkward-array) library installed with uproot. These arrays can be saved to files in a way that preserves their virtualness, which allows you to save a \"diff\" with respect to the original ROOT files.\n",
    "\n",
    "Below, we load lazy arrays from a ROOT file with **persistvirtual=True** and add a derived feature:"
   ]
  },
  {
   "cell_type": "code",
   "execution_count": 42,
   "metadata": {},
   "outputs": [],
   "source": [
    "data = events.lazyarrays([\"E*\", \"p[xyz]*\"], persistvirtual=True)\n",
    "\n",
    "data[\"mass\"] = numpy.sqrt((data[\"E1\"] + data[\"E2\"])**2 - (data[\"px1\"] + data[\"px2\"])**2 -\n",
    "                          (data[\"py1\"] + data[\"py2\"])**2 - (data[\"pz1\"] + data[\"pz2\"])**2)"
   ]
  },
  {
   "cell_type": "markdown",
   "metadata": {},
   "source": [
    "and save the whole thing to an awkward-array file (`.awkd`)."
   ]
  },
  {
   "cell_type": "code",
   "execution_count": 43,
   "metadata": {},
   "outputs": [],
   "source": [
    "import awkward\n",
    "\n",
    "awkward.save(\"derived-feature.awkd\", data, mode=\"w\")"
   ]
  },
  {
   "cell_type": "markdown",
   "metadata": {},
   "source": [
    "When we read it back, the derived features come from the awkward-array file but the original features are loaded as pointers to the original ROOT files (`VirtualArrays` whose array-making function knows the original ROOT filenames—don't move them!)."
   ]
  },
  {
   "cell_type": "code",
   "execution_count": 44,
   "metadata": {},
   "outputs": [],
   "source": [
    "data2 = awkward.load(\"derived-feature.awkd\")"
   ]
  },
  {
   "cell_type": "code",
   "execution_count": 45,
   "metadata": {},
   "outputs": [
    {
     "data": {
      "text/plain": [
       "<ChunkedArray [82.46269155513643 83.62620400526137 83.30846466680981 ... 95.96547966432459 96.49594381502096 96.6567276548945] at 0x7ac1a8278320>"
      ]
     },
     "execution_count": 45,
     "metadata": {},
     "output_type": "execute_result"
    }
   ],
   "source": [
    "# reads from derived-feature.awkd\n",
    "data2[\"mass\"]"
   ]
  },
  {
   "cell_type": "code",
   "execution_count": 46,
   "metadata": {},
   "outputs": [
    {
     "data": {
      "text/plain": [
       "<ChunkedArray [82.2018663875 62.3449289481 62.3449289481 ... 81.2701355756 81.2701355756 81.5662173543] at 0x7ac1a8c31518>"
      ]
     },
     "execution_count": 46,
     "metadata": {},
     "output_type": "execute_result"
    }
   ],
   "source": [
    "# reads from the original ROOT flies\n",
    "data2[\"E1\"]"
   ]
  },
  {
   "cell_type": "markdown",
   "metadata": {},
   "source": [
    "Similarly, a dataset with a cut applied saves the identities of the selected events but only pointers to the original ROOT data. This acts as a lightweight skim."
   ]
  },
  {
   "cell_type": "code",
   "execution_count": 47,
   "metadata": {},
   "outputs": [
    {
     "data": {
      "text/plain": [
       "<Table [<Row 16> <Row 17> <Row 18> ... <Row 2297> <Row 2298> <Row 2299>] at 0x7ac1a8278c18>"
      ]
     },
     "execution_count": 47,
     "metadata": {},
     "output_type": "execute_result"
    }
   ],
   "source": [
    "selected = data[data[\"mass\"] < 80]\n",
    "selected"
   ]
  },
  {
   "cell_type": "code",
   "execution_count": 48,
   "metadata": {},
   "outputs": [],
   "source": [
    "awkward.save(\"selected-events.awkd\", selected, mode=\"w\")"
   ]
  },
  {
   "cell_type": "code",
   "execution_count": 49,
   "metadata": {},
   "outputs": [
    {
     "data": {
      "text/plain": [
       "<Table [<Row 16> <Row 17> <Row 18> ... <Row 2297> <Row 2298> <Row 2299>] at 0x7ac1a8278668>"
      ]
     },
     "execution_count": 49,
     "metadata": {},
     "output_type": "execute_result"
    }
   ],
   "source": [
    "data3 = awkward.load(\"selected-events.awkd\")\n",
    "data3"
   ]
  },
  {
   "cell_type": "markdown",
   "metadata": {},
   "source": [
    "## Lazy arrays in Dask\n",
    "\n",
    "[Dask](https://dask.org/) is a framework for delayed and distributed computation with lazy array and dataframe interfaces. To turn uproot's lazy arrays into Dask objects, use the [uproot.daskarray](https://uproot.readthedocs.io/en/latest/opening-files.html#uproot.tree.daskarray) and [uproot.daskframe](https://uproot.readthedocs.io/en/latest/opening-files.html#uproot.tree.daskframe) functions."
   ]
  },
  {
   "cell_type": "code",
   "execution_count": 50,
   "metadata": {},
   "outputs": [
    {
     "data": {
      "text/html": [
       "<table>\n",
       "<tr>\n",
       "<td>\n",
       "<table>\n",
       "  <thead>\n",
       "    <tr><td> </td><th> Array </th><th> Chunk </th></tr>\n",
       "  </thead>\n",
       "  <tbody>\n",
       "    <tr><th> Bytes </th><td> 18.43 kB </td> <td> 18.43 kB </td></tr>\n",
       "    <tr><th> Shape </th><td> (2304,) </td> <td> (2304,) </td></tr>\n",
       "    <tr><th> Count </th><td> 2 Tasks </td><td> 1 Chunks </td></tr>\n",
       "    <tr><th> Type </th><td> float64 </td><td> awkward.ChunkedArray </td></tr>\n",
       "  </tbody>\n",
       "</table>\n",
       "</td>\n",
       "<td>\n",
       "<svg width=\"170\" height=\"75\" style=\"stroke:rgb(0,0,0);stroke-width:1\" >\n",
       "\n",
       "  <!-- Horizontal lines -->\n",
       "  <line x1=\"0\" y1=\"0\" x2=\"120\" y2=\"0\" style=\"stroke-width:2\" />\n",
       "  <line x1=\"0\" y1=\"25\" x2=\"120\" y2=\"25\" style=\"stroke-width:2\" />\n",
       "\n",
       "  <!-- Vertical lines -->\n",
       "  <line x1=\"0\" y1=\"0\" x2=\"0\" y2=\"25\" style=\"stroke-width:2\" />\n",
       "  <line x1=\"120\" y1=\"0\" x2=\"120\" y2=\"25\" style=\"stroke-width:2\" />\n",
       "\n",
       "  <!-- Colored Rectangle -->\n",
       "  <polygon points=\"0.000000,0.000000 120.000000,0.000000 120.000000,25.412617 0.000000,25.412617\" style=\"fill:#ECB172A0;stroke-width:0\"/>\n",
       "\n",
       "  <!-- Text -->\n",
       "  <text x=\"60.000000\" y=\"45.412617\" font-size=\"1.0rem\" font-weight=\"100\" text-anchor=\"middle\" >2304</text>\n",
       "  <text x=\"140.000000\" y=\"12.706308\" font-size=\"1.0rem\" font-weight=\"100\" text-anchor=\"middle\" transform=\"rotate(0,140.000000,12.706308)\">1</text>\n",
       "</svg>\n",
       "</td>\n",
       "</tr>\n",
       "</table>"
      ],
      "text/plain": [
       "dask.array<array, shape=(2304,), dtype=float64, chunksize=(2304,), chunktype=awkward.ChunkedArray>"
      ]
     },
     "execution_count": 50,
     "metadata": {},
     "output_type": "execute_result"
    }
   ],
   "source": [
    "uproot.daskarray(\"https://scikit-hep.org/uproot/examples/Zmumu.root\", \"events\", \"E1\")"
   ]
  },
  {
   "cell_type": "code",
   "execution_count": 51,
   "metadata": {},
   "outputs": [
    {
     "data": {
      "text/html": [
       "<div><strong>Dask DataFrame Structure:</strong></div>\n",
       "<div>\n",
       "<style scoped>\n",
       "    .dataframe tbody tr th:only-of-type {\n",
       "        vertical-align: middle;\n",
       "    }\n",
       "\n",
       "    .dataframe tbody tr th {\n",
       "        vertical-align: top;\n",
       "    }\n",
       "\n",
       "    .dataframe thead th {\n",
       "        text-align: right;\n",
       "    }\n",
       "</style>\n",
       "<table border=\"1\" class=\"dataframe\">\n",
       "  <thead>\n",
       "    <tr style=\"text-align: right;\">\n",
       "      <th></th>\n",
       "      <th>Type</th>\n",
       "      <th>Run</th>\n",
       "      <th>Event</th>\n",
       "      <th>E1</th>\n",
       "      <th>px1</th>\n",
       "      <th>py1</th>\n",
       "      <th>pz1</th>\n",
       "      <th>pt1</th>\n",
       "      <th>eta1</th>\n",
       "      <th>phi1</th>\n",
       "      <th>Q1</th>\n",
       "      <th>E2</th>\n",
       "      <th>px2</th>\n",
       "      <th>py2</th>\n",
       "      <th>pz2</th>\n",
       "      <th>pt2</th>\n",
       "      <th>eta2</th>\n",
       "      <th>phi2</th>\n",
       "      <th>Q2</th>\n",
       "      <th>M</th>\n",
       "    </tr>\n",
       "    <tr>\n",
       "      <th>npartitions=1</th>\n",
       "      <th></th>\n",
       "      <th></th>\n",
       "      <th></th>\n",
       "      <th></th>\n",
       "      <th></th>\n",
       "      <th></th>\n",
       "      <th></th>\n",
       "      <th></th>\n",
       "      <th></th>\n",
       "      <th></th>\n",
       "      <th></th>\n",
       "      <th></th>\n",
       "      <th></th>\n",
       "      <th></th>\n",
       "      <th></th>\n",
       "      <th></th>\n",
       "      <th></th>\n",
       "      <th></th>\n",
       "      <th></th>\n",
       "      <th></th>\n",
       "    </tr>\n",
       "  </thead>\n",
       "  <tbody>\n",
       "    <tr>\n",
       "      <th>0</th>\n",
       "      <td>float64</td>\n",
       "      <td>float64</td>\n",
       "      <td>float64</td>\n",
       "      <td>float64</td>\n",
       "      <td>float64</td>\n",
       "      <td>float64</td>\n",
       "      <td>float64</td>\n",
       "      <td>float64</td>\n",
       "      <td>float64</td>\n",
       "      <td>float64</td>\n",
       "      <td>float64</td>\n",
       "      <td>float64</td>\n",
       "      <td>float64</td>\n",
       "      <td>float64</td>\n",
       "      <td>float64</td>\n",
       "      <td>float64</td>\n",
       "      <td>float64</td>\n",
       "      <td>float64</td>\n",
       "      <td>float64</td>\n",
       "      <td>float64</td>\n",
       "    </tr>\n",
       "    <tr>\n",
       "      <th>2303</th>\n",
       "      <td>...</td>\n",
       "      <td>...</td>\n",
       "      <td>...</td>\n",
       "      <td>...</td>\n",
       "      <td>...</td>\n",
       "      <td>...</td>\n",
       "      <td>...</td>\n",
       "      <td>...</td>\n",
       "      <td>...</td>\n",
       "      <td>...</td>\n",
       "      <td>...</td>\n",
       "      <td>...</td>\n",
       "      <td>...</td>\n",
       "      <td>...</td>\n",
       "      <td>...</td>\n",
       "      <td>...</td>\n",
       "      <td>...</td>\n",
       "      <td>...</td>\n",
       "      <td>...</td>\n",
       "      <td>...</td>\n",
       "    </tr>\n",
       "  </tbody>\n",
       "</table>\n",
       "</div>\n",
       "<div>Dask Name: concat-indexed, 101 tasks</div>"
      ],
      "text/plain": [
       "Dask DataFrame Structure:\n",
       "                  Type      Run    Event       E1      px1      py1      pz1      pt1     eta1     phi1       Q1       E2      px2      py2      pz2      pt2     eta2     phi2       Q2        M\n",
       "npartitions=1                                                                                                                                                                                    \n",
       "0              float64  float64  float64  float64  float64  float64  float64  float64  float64  float64  float64  float64  float64  float64  float64  float64  float64  float64  float64  float64\n",
       "2303               ...      ...      ...      ...      ...      ...      ...      ...      ...      ...      ...      ...      ...      ...      ...      ...      ...      ...      ...      ...\n",
       "Dask Name: concat-indexed, 101 tasks"
      ]
     },
     "execution_count": 51,
     "metadata": {},
     "output_type": "execute_result"
    }
   ],
   "source": [
    "uproot.daskframe(\"https://scikit-hep.org/uproot/examples/Zmumu.root\", \"events\")"
   ]
  },
  {
   "cell_type": "markdown",
   "metadata": {},
   "source": [
    "# Iteration\n",
    "\n",
    "Lazy arrays _implicitly_ step through chunks of data to give you the impression that you have a larger array than memory can hold all at once. The next two methods _explicitly_ step through chunks of data, to give you more control over the process.\n",
    "\n",
    "[TTreeMethods.iterate](https://uproot.readthedocs.io/en/latest/ttree-handling.html#iterate) iterates over chunks of a TTree and [uproot.iterate](https://uproot.readthedocs.io/en/latest/opening-files.html#uproot-iterate) iterates through files.\n",
    "\n",
    "Like a file-spanning lazy array, a file-spanning iterator erases the difference between files and may be used as a TChain alternative. However, the iteration is over _chunks of many events_, not _single events_."
   ]
  },
  {
   "cell_type": "code",
   "execution_count": 52,
   "metadata": {},
   "outputs": [],
   "source": [
    "histogram = None\n",
    "\n",
    "for data in events.iterate([\"E*\", \"p[xyz]*\"], namedecode=\"utf-8\"):\n",
    "    # operate on a batch of data in the loop\n",
    "    mass = numpy.sqrt((data[\"E1\"] + data[\"E2\"])**2 - (data[\"px1\"] + data[\"px2\"])**2 -\n",
    "                      (data[\"py1\"] + data[\"py2\"])**2 - (data[\"pz1\"] + data[\"pz2\"])**2)\n",
    "\n",
    "    # accumulate results\n",
    "    counts, edges = numpy.histogram(mass, bins=120, range=(0, 120))\n",
    "    if histogram is None:\n",
    "        histogram = counts, edges\n",
    "    else:\n",
    "        histogram = histogram[0] + counts, edges"
   ]
  },
  {
   "cell_type": "code",
   "execution_count": 53,
   "metadata": {},
   "outputs": [
    {
     "data": {
      "image/png": "[encoded data removed]",
      "text/plain": [
       "<Figure size 432x288 with 1 Axes>"
      ]
     },
     "metadata": {
      "needs_background": "light"
     },
     "output_type": "display_data"
    }
   ],
   "source": [
    "%matplotlib inline\n",
    "import matplotlib.pyplot\n",
    "\n",
    "counts, edges = histogram\n",
    "\n",
    "matplotlib.pyplot.step(x=edges, y=numpy.append(counts, 0), where=\"post\");\n",
    "matplotlib.pyplot.xlim(edges[0], edges[-1]);\n",
    "matplotlib.pyplot.ylim(0, counts.max() * 1.1);\n",
    "matplotlib.pyplot.xlabel(\"mass\");\n",
    "matplotlib.pyplot.ylabel(\"events per bin\");"
   ]
  },
  {
   "cell_type": "markdown",
   "metadata": {},
   "source": [
    "This differs from the lazy array approach in that you need to explicitly manage the iteration, as in this histogram accumulation. However, since we aren't caching, the previous array batch is deleted as soon as `data` goes out of scope, so it is easier to control which arrays are in memory and which aren't.\n",
    "\n",
    "Choose lazy arrays or iteration according to the degree of control you need."
   ]
  },
  {
   "cell_type": "markdown",
   "metadata": {},
   "source": [
    "## Filenames and entry numbers while iterating\n",
    "\n",
    "[uproot.iterate](https://uproot.readthedocs.io/en/latest/opening-files.html#uproot.tree.iterate) crosses file boundaries as part of its iteration, and that's information we might need in the loop. If the following are `True`, each step in iteration is a tuple containing the arrays and the additional information.\n",
    "\n",
    "   * **reportpath:** the full path or URL of the (possibly remote) file;\n",
    "   * **reportfile:** the [ROOTDirectory](https://uproot.readthedocs.io/en/latest/root-io.html#uproot-rootio-rootdirectory) object itself (so that you don't need to re-open it at each iteration step);\n",
    "   * **reportentries:** the starting and stopping entry numbers for this chunk of data. In a multi-file iteration, these are global (always increasing, not returning to zero as we start the next file)."
   ]
  },
  {
   "cell_type": "code",
   "execution_count": 54,
   "metadata": {},
   "outputs": [
    {
     "name": "stdout",
     "output_type": "stream",
     "text": [
      "https://scikit-hep.org/uproot/examples/sample-5.23.02-zlib.root <ROOTDirectory b'sample-5.23.02-zlib.root' at 0x7ac1160de470> 0 30 1\n",
      "https://scikit-hep.org/uproot/examples/sample-5.24.00-zlib.root <ROOTDirectory b'sample-5.24.00-zlib.root' at 0x7ac1160c6160> 30 60 1\n",
      "https://scikit-hep.org/uproot/examples/sample-5.25.02-zlib.root <ROOTDirectory b'sample-5.25.02-zlib.root' at 0x7ac116029cf8> 60 90 1\n",
      "https://scikit-hep.org/uproot/examples/sample-5.26.00-zlib.root <ROOTDirectory b'sample-5.26.00-zlib.root' at 0x7ac116053b70> 90 120 1\n",
      "https://scikit-hep.org/uproot/examples/sample-5.27.02-zlib.root <ROOTDirectory b'sample-5.27.02-zlib.root' at 0x7ac115fae7b8> 120 150 1\n",
      "https://scikit-hep.org/uproot/examples/sample-5.28.00-zlib.root <ROOTDirectory b'sample-5.28.00-zlib.root' at 0x7ac115f9c5c0> 150 180 1\n",
      "https://scikit-hep.org/uproot/examples/sample-5.29.02-zlib.root <ROOTDirectory b'sample-5.29.02-zlib.root' at 0x7ac115ff88d0> 180 210 1\n",
      "https://scikit-hep.org/uproot/examples/sample-5.30.00-zlib.root <ROOTDirectory b'sample-5.30.00-zlib.root' at 0x7ac11604cf60> 210 240 1\n",
      "https://scikit-hep.org/uproot/examples/sample-6.08.04-zlib.root <ROOTDirectory b'sample-6.08.04-zlib.root' at 0x7ac1160b3ef0> 240 270 1\n",
      "https://scikit-hep.org/uproot/examples/sample-6.10.05-zlib.root <ROOTDirectory b'sample-6.10.05-zlib.root' at 0x7ac115f79320> 270 300 1\n",
      "https://scikit-hep.org/uproot/examples/sample-6.14.00-zlib.root <ROOTDirectory b'sample-6.14.00-zlib.root' at 0x7ac115f81828> 300 330 1\n"
     ]
    }
   ],
   "source": [
    "for path, file, start, stop, arrays in uproot.iterate(\n",
    "    [\"https://scikit-hep.org/uproot/examples/sample-%s-zlib.root\" % x\n",
    "        for x in [\"5.23.02\", \"5.24.00\", \"5.25.02\", \"5.26.00\", \"5.27.02\", \"5.28.00\",\n",
    "                  \"5.29.02\", \"5.30.00\", \"6.08.04\", \"6.10.05\", \"6.14.00\"]],\n",
    "    \"sample\",\n",
    "    \"f8\",\n",
    "     reportpath=True, reportfile=True, reportentries=True):\n",
    "    print(path, file, start, stop, len(arrays))"
   ]
  },
  {
   "cell_type": "markdown",
   "metadata": {},
   "source": [
    "## Limiting the number of entries to be read\n",
    "\n",
    "All array-reading functions have the following parameters:\n",
    "\n",
    "   * **entrystart:** the first entry to read, by default `0`;\n",
    "   * **entrystop:** one after the last entry to read, by default `numentries`.\n",
    "\n",
    "Setting **entrystart** and/or **entrystop** differs from slicing the resulting array in that slicing reads, then discards, but these parameters minimize the data to read."
   ]
  },
  {
   "cell_type": "code",
   "execution_count": 55,
   "metadata": {},
   "outputs": [
    {
     "data": {
      "text/plain": [
       "200"
      ]
     },
     "execution_count": 55,
     "metadata": {},
     "output_type": "execute_result"
    }
   ],
   "source": [
    "len(events.array(\"E1\", entrystart=100, entrystop=300))"
   ]
  },
  {
   "cell_type": "markdown",
   "metadata": {},
   "source": [
    "As with Python slices, the **entrystart** and **entrystop** can be negative to count from the end of the TTree."
   ]
  },
  {
   "cell_type": "code",
   "execution_count": 56,
   "metadata": {},
   "outputs": [
    {
     "data": {
      "text/plain": [
       "array([ 35.36458334,  35.46037568,  27.74254176,  32.67634359,\n",
       "        32.67634359,  32.70165023, 168.78012134,  81.27013558,\n",
       "        81.27013558,  81.56621735])"
      ]
     },
     "execution_count": 56,
     "metadata": {},
     "output_type": "execute_result"
    }
   ],
   "source": [
    "events.array(\"E1\", entrystart=-10)"
   ]
  },
  {
   "cell_type": "markdown",
   "metadata": {},
   "source": [
    "Internally, ROOT files are written in chunks and whole chunks must be read, so the best places to set **entrystart** and **entrystop** are between basket boundaries."
   ]
  },
  {
   "cell_type": "code",
   "execution_count": 57,
   "metadata": {},
   "outputs": [
    {
     "data": {
      "text/plain": [
       "[6, 6, 6, 6, 6, 6, 6, 4]"
      ]
     },
     "execution_count": 57,
     "metadata": {},
     "output_type": "execute_result"
    }
   ],
   "source": [
    "# This file has small TBaskets\n",
    "tree = uproot.open(\"https://scikit-hep.org/uproot/examples/foriter.root\")[\"foriter\"]\n",
    "branch = tree[\"data\"]\n",
    "[branch.basket_numentries(i) for i in range(branch.numbaskets)]"
   ]
  },
  {
   "cell_type": "code",
   "execution_count": 58,
   "metadata": {},
   "outputs": [
    {
     "data": {
      "text/plain": [
       "[(0, 6), (6, 12), (12, 18), (18, 24), (24, 30), (30, 36), (36, 42), (42, 46)]"
      ]
     },
     "execution_count": 58,
     "metadata": {},
     "output_type": "execute_result"
    }
   ],
   "source": [
    "# (entrystart, entrystop) pairs where ALL the TBranches' TBaskets align\n",
    "list(tree.clusters())"
   ]
  },
  {
   "cell_type": "markdown",
   "metadata": {},
   "source": [
    "Or simply,"
   ]
  },
  {
   "cell_type": "code",
   "execution_count": 59,
   "metadata": {},
   "outputs": [
    {
     "data": {
      "text/plain": [
       "[array([0, 1, 2, 3, 4, 5], dtype=int32),\n",
       " array([ 6,  7,  8,  9, 10, 11], dtype=int32),\n",
       " array([12, 13, 14, 15, 16, 17], dtype=int32),\n",
       " array([18, 19, 20, 21, 22, 23], dtype=int32),\n",
       " array([24, 25, 26, 27, 28, 29], dtype=int32),\n",
       " array([30, 31, 32, 33, 34, 35], dtype=int32),\n",
       " array([36, 37, 38, 39, 40, 41], dtype=int32),\n",
       " array([42, 43, 44, 45], dtype=int32)]"
      ]
     },
     "execution_count": 59,
     "metadata": {},
     "output_type": "execute_result"
    }
   ],
   "source": [
    "branch.baskets()"
   ]
  },
  {
   "cell_type": "markdown",
   "metadata": {},
   "source": [
    "## Controlling lazy chunk and iteration step sizes\n",
    "\n",
    "In addition to **entrystart** and **entrystop**, the lazy array and iteration functions also have:\n",
    "\n",
    "   * **entrysteps:** the number of entries to read in each chunk or step, `numpy.inf` for make the chunks/steps as big as possible (limited by file boundaries), a memory size string, or a list of `(entrystart, entrystop)` pairs to be explicit."
   ]
  },
  {
   "cell_type": "code",
   "execution_count": 60,
   "metadata": {},
   "outputs": [
    {
     "data": {
      "text/plain": [
       "[500, 500, 500, 500, 304]"
      ]
     },
     "execution_count": 60,
     "metadata": {},
     "output_type": "execute_result"
    }
   ],
   "source": [
    "[len(chunk) for chunk in events.lazyarrays(entrysteps=500)[\"E1\"].chunks]"
   ]
  },
  {
   "cell_type": "code",
   "execution_count": 61,
   "metadata": {},
   "outputs": [
    {
     "data": {
      "text/plain": [
       "[500, 500, 500, 500, 304]"
      ]
     },
     "execution_count": 61,
     "metadata": {},
     "output_type": "execute_result"
    }
   ],
   "source": [
    "[len(data[b\"E1\"]) for data in events.iterate([\"E*\", \"p[xyz]*\"], entrysteps=500)]"
   ]
  },
  {
   "cell_type": "markdown",
   "metadata": {},
   "source": [
    "The TTree lazy array/iteration functions ([TTreeMethods.array](https://uproot.readthedocs.io/en/latest/ttree-handling.html#array), [TTreeMethods.arrays](https://uproot.readthedocs.io/en/latest/ttree-handling.html#arrays), [TBranch.lazyarray](https://uproot.readthedocs.io/en/latest/ttree-handling.html#id13), [TTreeMethods.lazyarray](https://uproot.readthedocs.io/en/latest/ttree-handling.html#lazyarray), and [TTreeMethods.lazyarrays](https://uproot.readthedocs.io/en/latest/ttree-handling.html#lazyarrays)) use basket or cluster sizes as a default **entrysteps**, while multi-file lazy array/iteration functions ([uproot.lazyarrays](https://uproot.readthedocs.io/en/latest/opening-files.html#uproot-lazyarray-and-lazyarrays) and [uproot.iterate](https://uproot.readthedocs.io/en/latest/opening-files.html#uproot-iterate)) use the maximum per file: `numpy.inf`."
   ]
  },
  {
   "cell_type": "code",
   "execution_count": 62,
   "metadata": {},
   "outputs": [
    {
     "data": {
      "text/plain": [
       "[6, 6, 6, 6, 6, 6, 6, 4]"
      ]
     },
     "execution_count": 62,
     "metadata": {},
     "output_type": "execute_result"
    }
   ],
   "source": [
    "# This file has small TBaskets\n",
    "tree = uproot.open(\"https://scikit-hep.org/uproot/examples/foriter.root\")[\"foriter\"]\n",
    "branch = tree[\"data\"]\n",
    "[len(a[\"data\"]) for a in tree.iterate(namedecode=\"utf-8\")]"
   ]
  },
  {
   "cell_type": "code",
   "execution_count": 63,
   "metadata": {},
   "outputs": [
    {
     "data": {
      "text/plain": [
       "[46, 46, 46]"
      ]
     },
     "execution_count": 63,
     "metadata": {},
     "output_type": "execute_result"
    }
   ],
   "source": [
    "# This file has small TBaskets\n",
    "[len(a[\"data\"]) for a in uproot.iterate([\"https://scikit-hep.org/uproot/examples/foriter.root\"] * 3,\n",
    "                                        \"foriter\", namedecode=\"utf-8\")]"
   ]
  },
  {
   "cell_type": "markdown",
   "metadata": {},
   "source": [
    "One particularly useful way to specify the **entrysteps** is with a memory size string. This string consists of a number followed by a memory unit: `B` for bytes, `kB` for kilobytes, `MB`, `GB`, and so on (whitespace and case insensitive).\n",
    "\n",
    "The chunks are not guaranteed to fit the memory size perfectly or even be less than the target size. Uproot picks a fixed number of events that approximates this size on average. The result depends on the number of branches chosen because it is the total size of the set of branches that are chosen for the memory target."
   ]
  },
  {
   "cell_type": "code",
   "execution_count": 64,
   "metadata": {},
   "outputs": [
    {
     "data": {
      "text/plain": [
       "[753, 753, 753, 45]"
      ]
     },
     "execution_count": 64,
     "metadata": {},
     "output_type": "execute_result"
    }
   ],
   "source": [
    "[len(data[b\"E1\"]) for data in events.iterate([\"E*\", \"p[xyz]*\"], entrysteps=\"50 kB\")]"
   ]
  },
  {
   "cell_type": "code",
   "execution_count": 65,
   "metadata": {},
   "outputs": [
    {
     "data": {
      "text/plain": [
       "[359, 359, 359, 359, 359, 359, 150]"
      ]
     },
     "execution_count": 65,
     "metadata": {},
     "output_type": "execute_result"
    }
   ],
   "source": [
    "[len(data[b\"E1\"]) for data in events.iterate(entrysteps=\"50 kB\")]"
   ]
  },
  {
   "cell_type": "markdown",
   "metadata": {},
   "source": [
    "Since lazy arrays represent all branches but we won't necessarily be reading all branches, memory size chunking is less useful for lazy arrays, but you can do it because all function parameters are treated consistently."
   ]
  },
  {
   "cell_type": "code",
   "execution_count": 66,
   "metadata": {},
   "outputs": [
    {
     "data": {
      "text/plain": [
       "[359, 359, 359, 359, 359, 359, 150]"
      ]
     },
     "execution_count": 66,
     "metadata": {},
     "output_type": "execute_result"
    }
   ],
   "source": [
    "[len(chunk) for chunk in events.lazyarrays(entrysteps=\"50 kB\")[\"E1\"].chunks]"
   ]
  },
  {
   "cell_type": "markdown",
   "metadata": {},
   "source": [
    "## Caching and iteration\n",
    "\n",
    "Since iteration gives you more precise control over which set of events you're processing at a given time, caching with the **cache** parameter is less useful than it is with lazy arrays. For consistency's sake, the [TTreeMethods.iterate](https://uproot.readthedocs.io/en/latest/ttree-handling.html#iterate) and [uproot.iterate](https://uproot.readthedocs.io/en/latest/opening-files.html#uproot-iterate) functions provide a **cache** parameter and it works the same way that it does in other array-reading functions, but its effect would be to retain the previous step's arrays while working on a new step in the iteration. Presumably, the reason you're iterating is because only the current step fits into memory, so this is not a useful feature.\n",
    "\n",
    "However, the **basketcache** is very useful for iteration, more so than it is for lazy arrays. If an iteration step falls in the middle of a TBasket, the whole TBasket must be read in that step, despite the fact that only part of it is incorporated into the output array. The remainder of the TBasket will be used in the next iteration step, so caching it for exactly one iteration step is ideal: it avoids the need to reread it and decompress it again.\n",
    "\n",
    "It is such a useful feature that it's built into [TTreeMethods.iterate](https://uproot.readthedocs.io/en/latest/ttree-handling.html#iterate) and [uproot.iterate](https://uproot.readthedocs.io/en/latest/opening-files.html#uproot-iterate) by default. If you don't set a **basketcache**, these functions will create one with no memory limit and save TBaskets in it for exactly one iteration step, eliminating that temporary cache at the end of iteration. (The same is true of the **keycache**; see [reference documentation](https://uproot.readthedocs.io/en/latest/caches.html) for detail.)\n",
    "\n",
    "Thus, you probably don't want to set any explicit caches while iterating. Setting an explicit **basketcache** would introduce an upper limit on how much it can store, but it would lose the property of evicting after exactly one iteration step (because the connection between the cache object and the iterator would be lost). If you're running out of memory during iteration, try reducing the **entrysteps**."
   ]
  },
  {
   "cell_type": "markdown",
   "metadata": {},
   "source": [
    "# Changing the output container type\n",
    "\n",
    "When we ask for [TTreeMethods.arrays](https://uproot.readthedocs.io/en/latest/ttree-handling.html#arrays) (plural), [TTreeMethods.iterate](https://uproot.readthedocs.io/en/latest/ttree-handling.html#iterate), or [uproot.iterate](https://uproot.readthedocs.io/en/latest/opening-files.html#uproot-iterate), we get a Python dict mapping branch names to arrays. (As a reminder, **namedecode=\"utf-8\"** makes those branch names Python strings, rather than bytestrings.) Sometimes, we want a different kind of container.\n",
    "\n",
    "   * **outputtype:** the _type_ of the container to hold the output arrays.\n",
    "\n",
    "One particularly useful container is `tuple`, which can be unpacked by a tuple-assignment."
   ]
  },
  {
   "cell_type": "code",
   "execution_count": 67,
   "metadata": {},
   "outputs": [],
   "source": [
    "px, py, pz = events.arrays(\"p[xyz]1\", outputtype=tuple)"
   ]
  },
  {
   "cell_type": "code",
   "execution_count": 68,
   "metadata": {},
   "outputs": [
    {
     "data": {
      "text/plain": [
       "array([-41.19528764,  35.11804977,  35.11804977, ...,  32.37749196,\n",
       "        32.37749196,  32.48539387])"
      ]
     },
     "execution_count": 68,
     "metadata": {},
     "output_type": "execute_result"
    }
   ],
   "source": [
    "px"
   ]
  },
  {
   "cell_type": "markdown",
   "metadata": {},
   "source": [
    "Using `tuple` as an **outputtype** in [TTreeMethods.iterate](https://uproot.readthedocs.io/en/latest/ttree-handling.html#iterate) and [uproot.iterate](https://uproot.readthedocs.io/en/latest/opening-files.html#uproot-iterate) lets us unpack the arrays in Python's for statement."
   ]
  },
  {
   "cell_type": "code",
   "execution_count": 69,
   "metadata": {},
   "outputs": [],
   "source": [
    "for px, py, pz in events.iterate(\"p[xyz]1\", outputtype=tuple):\n",
    "    px**2 + py**2 + pz**2"
   ]
  },
  {
   "cell_type": "markdown",
   "metadata": {},
   "source": [
    "Another useful type is `collections.namedtuple`, which packs everything into a single object, but the fields are accessible by name."
   ]
  },
  {
   "cell_type": "code",
   "execution_count": 70,
   "metadata": {},
   "outputs": [],
   "source": [
    "import collections    # from the Python standard library\n",
    "\n",
    "a = events.arrays(\"p[xyz]1\", outputtype=collections.namedtuple)"
   ]
  },
  {
   "cell_type": "code",
   "execution_count": 71,
   "metadata": {},
   "outputs": [
    {
     "data": {
      "text/plain": [
       "array([-41.19528764,  35.11804977,  35.11804977, ...,  32.37749196,\n",
       "        32.37749196,  32.48539387])"
      ]
     },
     "execution_count": 71,
     "metadata": {},
     "output_type": "execute_result"
    }
   ],
   "source": [
    "a.px1"
   ]
  },
  {
   "cell_type": "markdown",
   "metadata": {},
   "source": [
    "You can also use your own classes."
   ]
  },
  {
   "cell_type": "code",
   "execution_count": 72,
   "metadata": {},
   "outputs": [
    {
     "data": {
      "text/plain": [
       "<Stuff array([82.20179848, 62.34483942, 62.34483942, ..., 81.27006689,\n",
       "       81.27006689, 81.56614892])>"
      ]
     },
     "execution_count": 72,
     "metadata": {},
     "output_type": "execute_result"
    }
   ],
   "source": [
    "class Stuff:\n",
    "    def __init__(self, px, py, pz):\n",
    "        self.p = numpy.sqrt(px**2 + py**2 + pz**2)\n",
    "    def __repr__(self):\n",
    "        return \"<Stuff %r>\" % self.p\n",
    "\n",
    "events.arrays(\"p[xyz]1\", outputtype=Stuff)"
   ]
  },
  {
   "cell_type": "markdown",
   "metadata": {},
   "source": [
    "And perhaps most importantly, you can pass in [pandas.DataFrame](https://pandas.pydata.org/pandas-docs/stable/reference/api/pandas.DataFrame.html)."
   ]
  },
  {
   "cell_type": "code",
   "execution_count": 73,
   "metadata": {},
   "outputs": [
    {
     "data": {
      "text/html": [
       "<div>\n",
       "<style scoped>\n",
       "    .dataframe tbody tr th:only-of-type {\n",
       "        vertical-align: middle;\n",
       "    }\n",
       "\n",
       "    .dataframe tbody tr th {\n",
       "        vertical-align: top;\n",
       "    }\n",
       "\n",
       "    .dataframe thead th {\n",
       "        text-align: right;\n",
       "    }\n",
       "</style>\n",
       "<table border=\"1\" class=\"dataframe\">\n",
       "  <thead>\n",
       "    <tr style=\"text-align: right;\">\n",
       "      <th></th>\n",
       "      <th>px1</th>\n",
       "      <th>py1</th>\n",
       "      <th>pz1</th>\n",
       "    </tr>\n",
       "    <tr>\n",
       "      <th>entry</th>\n",
       "      <th></th>\n",
       "      <th></th>\n",
       "      <th></th>\n",
       "    </tr>\n",
       "  </thead>\n",
       "  <tbody>\n",
       "    <tr>\n",
       "      <th>0</th>\n",
       "      <td>-41.195288</td>\n",
       "      <td>17.433244</td>\n",
       "      <td>-68.964962</td>\n",
       "    </tr>\n",
       "    <tr>\n",
       "      <th>1</th>\n",
       "      <td>35.118050</td>\n",
       "      <td>-16.570362</td>\n",
       "      <td>-48.775247</td>\n",
       "    </tr>\n",
       "    <tr>\n",
       "      <th>2</th>\n",
       "      <td>35.118050</td>\n",
       "      <td>-16.570362</td>\n",
       "      <td>-48.775247</td>\n",
       "    </tr>\n",
       "    <tr>\n",
       "      <th>3</th>\n",
       "      <td>34.144437</td>\n",
       "      <td>-16.119525</td>\n",
       "      <td>-47.426984</td>\n",
       "    </tr>\n",
       "    <tr>\n",
       "      <th>4</th>\n",
       "      <td>22.783582</td>\n",
       "      <td>15.036444</td>\n",
       "      <td>-31.689894</td>\n",
       "    </tr>\n",
       "    <tr>\n",
       "      <th>5</th>\n",
       "      <td>-19.862307</td>\n",
       "      <td>-9.204225</td>\n",
       "      <td>43.817098</td>\n",
       "    </tr>\n",
       "    <tr>\n",
       "      <th>6</th>\n",
       "      <td>-19.862307</td>\n",
       "      <td>-9.204225</td>\n",
       "      <td>43.817098</td>\n",
       "    </tr>\n",
       "    <tr>\n",
       "      <th>7</th>\n",
       "      <td>-20.177373</td>\n",
       "      <td>-9.354149</td>\n",
       "      <td>44.513955</td>\n",
       "    </tr>\n",
       "    <tr>\n",
       "      <th>8</th>\n",
       "      <td>71.143711</td>\n",
       "      <td>29.542308</td>\n",
       "      <td>-108.150553</td>\n",
       "    </tr>\n",
       "    <tr>\n",
       "      <th>9</th>\n",
       "      <td>51.050486</td>\n",
       "      <td>-51.849400</td>\n",
       "      <td>-49.631328</td>\n",
       "    </tr>\n",
       "  </tbody>\n",
       "</table>\n",
       "</div>"
      ],
      "text/plain": [
       "             px1        py1         pz1\n",
       "entry                                  \n",
       "0     -41.195288  17.433244  -68.964962\n",
       "1      35.118050 -16.570362  -48.775247\n",
       "2      35.118050 -16.570362  -48.775247\n",
       "3      34.144437 -16.119525  -47.426984\n",
       "4      22.783582  15.036444  -31.689894\n",
       "5     -19.862307  -9.204225   43.817098\n",
       "6     -19.862307  -9.204225   43.817098\n",
       "7     -20.177373  -9.354149   44.513955\n",
       "8      71.143711  29.542308 -108.150553\n",
       "9      51.050486 -51.849400  -49.631328"
      ]
     },
     "execution_count": 73,
     "metadata": {},
     "output_type": "execute_result"
    }
   ],
   "source": [
    "import pandas\n",
    "\n",
    "events.arrays(\"p[xyz]1\", outputtype=pandas.DataFrame, entrystop=10)"
   ]
  },
  {
   "cell_type": "markdown",
   "metadata": {},
   "source": [
    "# Filling Pandas DataFrames\n",
    "\n",
    "The previous example filled a [pandas.DataFrame](https://pandas.pydata.org/pandas-docs/stable/reference/api/pandas.DataFrame.html) by explicitly passing it as an **outputtype**. Pandas is such an important container type that there are specialized functions for it: [TTreeMethods.pandas.df](https://uproot.readthedocs.io/en/latest/ttree-handling.html#id7) and [uproot.pandas.df](https://uproot.readthedocs.io/en/latest/opening-files.html#uproot-pandas-iterate)."
   ]
  },
  {
   "cell_type": "code",
   "execution_count": 74,
   "metadata": {},
   "outputs": [
    {
     "data": {
      "text/html": [
       "<div>\n",
       "<style scoped>\n",
       "    .dataframe tbody tr th:only-of-type {\n",
       "        vertical-align: middle;\n",
       "    }\n",
       "\n",
       "    .dataframe tbody tr th {\n",
       "        vertical-align: top;\n",
       "    }\n",
       "\n",
       "    .dataframe thead th {\n",
       "        text-align: right;\n",
       "    }\n",
       "</style>\n",
       "<table border=\"1\" class=\"dataframe\">\n",
       "  <thead>\n",
       "    <tr style=\"text-align: right;\">\n",
       "      <th></th>\n",
       "      <th>px1</th>\n",
       "      <th>py1</th>\n",
       "      <th>pz1</th>\n",
       "    </tr>\n",
       "    <tr>\n",
       "      <th>entry</th>\n",
       "      <th></th>\n",
       "      <th></th>\n",
       "      <th></th>\n",
       "    </tr>\n",
       "  </thead>\n",
       "  <tbody>\n",
       "    <tr>\n",
       "      <th>0</th>\n",
       "      <td>-41.195288</td>\n",
       "      <td>17.433244</td>\n",
       "      <td>-68.964962</td>\n",
       "    </tr>\n",
       "    <tr>\n",
       "      <th>1</th>\n",
       "      <td>35.118050</td>\n",
       "      <td>-16.570362</td>\n",
       "      <td>-48.775247</td>\n",
       "    </tr>\n",
       "    <tr>\n",
       "      <th>2</th>\n",
       "      <td>35.118050</td>\n",
       "      <td>-16.570362</td>\n",
       "      <td>-48.775247</td>\n",
       "    </tr>\n",
       "    <tr>\n",
       "      <th>3</th>\n",
       "      <td>34.144437</td>\n",
       "      <td>-16.119525</td>\n",
       "      <td>-47.426984</td>\n",
       "    </tr>\n",
       "    <tr>\n",
       "      <th>4</th>\n",
       "      <td>22.783582</td>\n",
       "      <td>15.036444</td>\n",
       "      <td>-31.689894</td>\n",
       "    </tr>\n",
       "    <tr>\n",
       "      <th>5</th>\n",
       "      <td>-19.862307</td>\n",
       "      <td>-9.204225</td>\n",
       "      <td>43.817098</td>\n",
       "    </tr>\n",
       "    <tr>\n",
       "      <th>6</th>\n",
       "      <td>-19.862307</td>\n",
       "      <td>-9.204225</td>\n",
       "      <td>43.817098</td>\n",
       "    </tr>\n",
       "    <tr>\n",
       "      <th>7</th>\n",
       "      <td>-20.177373</td>\n",
       "      <td>-9.354149</td>\n",
       "      <td>44.513955</td>\n",
       "    </tr>\n",
       "    <tr>\n",
       "      <th>8</th>\n",
       "      <td>71.143711</td>\n",
       "      <td>29.542308</td>\n",
       "      <td>-108.150553</td>\n",
       "    </tr>\n",
       "    <tr>\n",
       "      <th>9</th>\n",
       "      <td>51.050486</td>\n",
       "      <td>-51.849400</td>\n",
       "      <td>-49.631328</td>\n",
       "    </tr>\n",
       "  </tbody>\n",
       "</table>\n",
       "</div>"
      ],
      "text/plain": [
       "             px1        py1         pz1\n",
       "entry                                  \n",
       "0     -41.195288  17.433244  -68.964962\n",
       "1      35.118050 -16.570362  -48.775247\n",
       "2      35.118050 -16.570362  -48.775247\n",
       "3      34.144437 -16.119525  -47.426984\n",
       "4      22.783582  15.036444  -31.689894\n",
       "5     -19.862307  -9.204225   43.817098\n",
       "6     -19.862307  -9.204225   43.817098\n",
       "7     -20.177373  -9.354149   44.513955\n",
       "8      71.143711  29.542308 -108.150553\n",
       "9      51.050486 -51.849400  -49.631328"
      ]
     },
     "execution_count": 74,
     "metadata": {},
     "output_type": "execute_result"
    }
   ],
   "source": [
    "events.pandas.df(\"p[xyz]1\", entrystop=10)"
   ]
  },
  {
   "cell_type": "markdown",
   "metadata": {},
   "source": [
    "The **entry** index in the resulting DataFrame represents the actual entry numbers in the file. For instance, counting from the end:"
   ]
  },
  {
   "cell_type": "code",
   "execution_count": 75,
   "metadata": {},
   "outputs": [
    {
     "data": {
      "text/html": [
       "<div>\n",
       "<style scoped>\n",
       "    .dataframe tbody tr th:only-of-type {\n",
       "        vertical-align: middle;\n",
       "    }\n",
       "\n",
       "    .dataframe tbody tr th {\n",
       "        vertical-align: top;\n",
       "    }\n",
       "\n",
       "    .dataframe thead th {\n",
       "        text-align: right;\n",
       "    }\n",
       "</style>\n",
       "<table border=\"1\" class=\"dataframe\">\n",
       "  <thead>\n",
       "    <tr style=\"text-align: right;\">\n",
       "      <th></th>\n",
       "      <th>px1</th>\n",
       "      <th>py1</th>\n",
       "      <th>pz1</th>\n",
       "    </tr>\n",
       "    <tr>\n",
       "      <th>entry</th>\n",
       "      <th></th>\n",
       "      <th></th>\n",
       "      <th></th>\n",
       "    </tr>\n",
       "  </thead>\n",
       "  <tbody>\n",
       "    <tr>\n",
       "      <th>2294</th>\n",
       "      <td>12.966984</td>\n",
       "      <td>30.974506</td>\n",
       "      <td>11.094139</td>\n",
       "    </tr>\n",
       "    <tr>\n",
       "      <th>2295</th>\n",
       "      <td>13.001270</td>\n",
       "      <td>31.059021</td>\n",
       "      <td>11.123455</td>\n",
       "    </tr>\n",
       "    <tr>\n",
       "      <th>2296</th>\n",
       "      <td>-16.891371</td>\n",
       "      <td>-15.335677</td>\n",
       "      <td>-15.784044</td>\n",
       "    </tr>\n",
       "    <tr>\n",
       "      <th>2297</th>\n",
       "      <td>19.037577</td>\n",
       "      <td>14.820723</td>\n",
       "      <td>22.037447</td>\n",
       "    </tr>\n",
       "    <tr>\n",
       "      <th>2298</th>\n",
       "      <td>19.037577</td>\n",
       "      <td>14.820723</td>\n",
       "      <td>22.037447</td>\n",
       "    </tr>\n",
       "    <tr>\n",
       "      <th>2299</th>\n",
       "      <td>19.054651</td>\n",
       "      <td>14.833954</td>\n",
       "      <td>22.051323</td>\n",
       "    </tr>\n",
       "    <tr>\n",
       "      <th>2300</th>\n",
       "      <td>-68.041915</td>\n",
       "      <td>-26.105847</td>\n",
       "      <td>-152.235018</td>\n",
       "    </tr>\n",
       "    <tr>\n",
       "      <th>2301</th>\n",
       "      <td>32.377492</td>\n",
       "      <td>1.199406</td>\n",
       "      <td>-74.532431</td>\n",
       "    </tr>\n",
       "    <tr>\n",
       "      <th>2302</th>\n",
       "      <td>32.377492</td>\n",
       "      <td>1.199406</td>\n",
       "      <td>-74.532431</td>\n",
       "    </tr>\n",
       "    <tr>\n",
       "      <th>2303</th>\n",
       "      <td>32.485394</td>\n",
       "      <td>1.201350</td>\n",
       "      <td>-74.808372</td>\n",
       "    </tr>\n",
       "  </tbody>\n",
       "</table>\n",
       "</div>"
      ],
      "text/plain": [
       "             px1        py1         pz1\n",
       "entry                                  \n",
       "2294   12.966984  30.974506   11.094139\n",
       "2295   13.001270  31.059021   11.123455\n",
       "2296  -16.891371 -15.335677  -15.784044\n",
       "2297   19.037577  14.820723   22.037447\n",
       "2298   19.037577  14.820723   22.037447\n",
       "2299   19.054651  14.833954   22.051323\n",
       "2300  -68.041915 -26.105847 -152.235018\n",
       "2301   32.377492   1.199406  -74.532431\n",
       "2302   32.377492   1.199406  -74.532431\n",
       "2303   32.485394   1.201350  -74.808372"
      ]
     },
     "execution_count": 75,
     "metadata": {},
     "output_type": "execute_result"
    }
   ],
   "source": [
    "events.pandas.df(\"p[xyz]1\", entrystart=-10)"
   ]
  },
  {
   "cell_type": "markdown",
   "metadata": {},
   "source": [
    "The [uproot.pandas.df](https://uproot.readthedocs.io/en/latest/opening-files.html#uproot-pandas-iterate) function doesn't have a **reportentries** because they're included in the DataFrame itself."
   ]
  },
  {
   "cell_type": "code",
   "execution_count": 76,
   "metadata": {},
   "outputs": [
    {
     "name": "stdout",
     "output_type": "stream",
     "text": [
      "         px1        py1        pz1\n",
      "0 -41.195288  17.433244 -68.964962\n",
      "1  35.118050 -16.570362 -48.775247\n",
      "2  35.118050 -16.570362 -48.775247\n",
      "           px1        py1        pz1\n",
      "500  39.163212 -19.185280 -13.979333\n",
      "501  39.094970 -19.152964 -13.936115\n",
      "502  -7.656437 -33.431880  91.840257\n",
      "            px1        py1       pz1\n",
      "1000  26.043759 -17.618814 -0.567176\n",
      "1001  26.043759 -17.618814 -0.567176\n",
      "1002  25.996204 -17.585241 -0.568920\n",
      "            px1        py1        pz1\n",
      "1500  82.816840  13.262734  27.797909\n",
      "1501 -11.416911  39.815352  32.349893\n",
      "1502 -11.416911  39.815352  32.349893\n",
      "            px1        py1       pz1\n",
      "2000 -43.378378 -15.235422  3.019698\n",
      "2001 -43.378378 -15.235422  3.019698\n",
      "2002 -43.244422 -15.187402  3.003985\n"
     ]
    }
   ],
   "source": [
    "for df in uproot.pandas.iterate(\"https://scikit-hep.org/uproot/examples/Zmumu.root\", \"events\", \"p[xyz]1\", entrysteps=500):\n",
    "    print(df[:3])"
   ]
  },
  {
   "cell_type": "markdown",
   "metadata": {},
   "source": [
    "Part of the motivation for a special function is that it's the first of potentially many external connectors (Dask is another: see above). The other part is that these functions have more Pandas-friendly default parameters, such as **flatten=True**.\n",
    "\n",
    "Flattening turns multiple values per entry (i.e. multiple particles per event) into separate DataFrame rows, maintaining the nested structure in the DataFrame index. Flattening is usually undesirable for arrays—because arrays don't have an index to record that information—but it's usually desirable for DataFrames."
   ]
  },
  {
   "cell_type": "code",
   "execution_count": 77,
   "metadata": {},
   "outputs": [],
   "source": [
    "events2 = uproot.open(\"https://scikit-hep.org/uproot/examples/HZZ.root\")[\"events\"]   # non-flat data"
   ]
  },
  {
   "cell_type": "code",
   "execution_count": 78,
   "metadata": {},
   "outputs": [
    {
     "data": {
      "text/html": [
       "<div>\n",
       "<style scoped>\n",
       "    .dataframe tbody tr th:only-of-type {\n",
       "        vertical-align: middle;\n",
       "    }\n",
       "\n",
       "    .dataframe tbody tr th {\n",
       "        vertical-align: top;\n",
       "    }\n",
       "\n",
       "    .dataframe thead th {\n",
       "        text-align: right;\n",
       "    }\n",
       "</style>\n",
       "<table border=\"1\" class=\"dataframe\">\n",
       "  <thead>\n",
       "    <tr style=\"text-align: right;\">\n",
       "      <th></th>\n",
       "      <th>MET_px</th>\n",
       "      <th>MET_py</th>\n",
       "      <th>Muon_Px</th>\n",
       "      <th>Muon_Py</th>\n",
       "      <th>Muon_Pz</th>\n",
       "    </tr>\n",
       "    <tr>\n",
       "      <th>entry</th>\n",
       "      <th></th>\n",
       "      <th></th>\n",
       "      <th></th>\n",
       "      <th></th>\n",
       "      <th></th>\n",
       "    </tr>\n",
       "  </thead>\n",
       "  <tbody>\n",
       "    <tr>\n",
       "      <th>0</th>\n",
       "      <td>5.912771</td>\n",
       "      <td>2.563633</td>\n",
       "      <td>[-52.899456, 37.73778]</td>\n",
       "      <td>[-11.654672, 0.6934736]</td>\n",
       "      <td>[-8.160793, -11.307582]</td>\n",
       "    </tr>\n",
       "    <tr>\n",
       "      <th>1</th>\n",
       "      <td>24.765203</td>\n",
       "      <td>-16.349110</td>\n",
       "      <td>[-0.81645936]</td>\n",
       "      <td>[-24.404259]</td>\n",
       "      <td>[20.199968]</td>\n",
       "    </tr>\n",
       "    <tr>\n",
       "      <th>2</th>\n",
       "      <td>-25.785088</td>\n",
       "      <td>16.237131</td>\n",
       "      <td>[48.98783, 0.8275667]</td>\n",
       "      <td>[-21.723139, 29.800508]</td>\n",
       "      <td>[11.168285, 36.96519]</td>\n",
       "    </tr>\n",
       "    <tr>\n",
       "      <th>3</th>\n",
       "      <td>8.619896</td>\n",
       "      <td>-22.786547</td>\n",
       "      <td>[22.088331, 76.69192]</td>\n",
       "      <td>[-85.835464, -13.956494]</td>\n",
       "      <td>[403.84845, 335.0942]</td>\n",
       "    </tr>\n",
       "    <tr>\n",
       "      <th>4</th>\n",
       "      <td>5.393139</td>\n",
       "      <td>-1.310052</td>\n",
       "      <td>[45.17132, 39.750957]</td>\n",
       "      <td>[67.24879, 25.403667]</td>\n",
       "      <td>[-89.69573, 20.115053]</td>\n",
       "    </tr>\n",
       "    <tr>\n",
       "      <th>5</th>\n",
       "      <td>-3.759475</td>\n",
       "      <td>-19.417021</td>\n",
       "      <td>[9.22811, -5.793715]</td>\n",
       "      <td>[40.55438, -30.295189]</td>\n",
       "      <td>[-14.642164, 42.954376]</td>\n",
       "    </tr>\n",
       "    <tr>\n",
       "      <th>6</th>\n",
       "      <td>23.962149</td>\n",
       "      <td>-9.049156</td>\n",
       "      <td>[12.538717, 29.54184]</td>\n",
       "      <td>[-42.54871, -4.4455166]</td>\n",
       "      <td>[-124.44899, -26.356554]</td>\n",
       "    </tr>\n",
       "    <tr>\n",
       "      <th>7</th>\n",
       "      <td>-57.533348</td>\n",
       "      <td>-20.487679</td>\n",
       "      <td>[34.88376]</td>\n",
       "      <td>[-15.982724]</td>\n",
       "      <td>[155.53117]</td>\n",
       "    </tr>\n",
       "    <tr>\n",
       "      <th>8</th>\n",
       "      <td>42.416195</td>\n",
       "      <td>-94.350861</td>\n",
       "      <td>[-53.166973, 11.49187]</td>\n",
       "      <td>[92.02971, -4.4173865]</td>\n",
       "      <td>[35.638836, -17.473787]</td>\n",
       "    </tr>\n",
       "    <tr>\n",
       "      <th>9</th>\n",
       "      <td>-1.914469</td>\n",
       "      <td>-23.963034</td>\n",
       "      <td>[-67.014854, -18.118755]</td>\n",
       "      <td>[53.159172, -35.106167]</td>\n",
       "      <td>[54.41294, 58.036896]</td>\n",
       "    </tr>\n",
       "  </tbody>\n",
       "</table>\n",
       "</div>"
      ],
      "text/plain": [
       "          MET_px     MET_py                   Muon_Px  \\\n",
       "entry                                                   \n",
       "0       5.912771   2.563633    [-52.899456, 37.73778]   \n",
       "1      24.765203 -16.349110             [-0.81645936]   \n",
       "2     -25.785088  16.237131     [48.98783, 0.8275667]   \n",
       "3       8.619896 -22.786547     [22.088331, 76.69192]   \n",
       "4       5.393139  -1.310052     [45.17132, 39.750957]   \n",
       "5      -3.759475 -19.417021      [9.22811, -5.793715]   \n",
       "6      23.962149  -9.049156     [12.538717, 29.54184]   \n",
       "7     -57.533348 -20.487679                [34.88376]   \n",
       "8      42.416195 -94.350861    [-53.166973, 11.49187]   \n",
       "9      -1.914469 -23.963034  [-67.014854, -18.118755]   \n",
       "\n",
       "                        Muon_Py                   Muon_Pz  \n",
       "entry                                                      \n",
       "0       [-11.654672, 0.6934736]   [-8.160793, -11.307582]  \n",
       "1                  [-24.404259]               [20.199968]  \n",
       "2       [-21.723139, 29.800508]     [11.168285, 36.96519]  \n",
       "3      [-85.835464, -13.956494]     [403.84845, 335.0942]  \n",
       "4         [67.24879, 25.403667]    [-89.69573, 20.115053]  \n",
       "5        [40.55438, -30.295189]   [-14.642164, 42.954376]  \n",
       "6       [-42.54871, -4.4455166]  [-124.44899, -26.356554]  \n",
       "7                  [-15.982724]               [155.53117]  \n",
       "8        [92.02971, -4.4173865]   [35.638836, -17.473787]  \n",
       "9       [53.159172, -35.106167]     [54.41294, 58.036896]  "
      ]
     },
     "execution_count": 78,
     "metadata": {},
     "output_type": "execute_result"
    }
   ],
   "source": [
    "events2.pandas.df([\"MET_p*\", \"Muon_P*\"], entrystop=10, flatten=False)   # not the default"
   ]
  },
  {
   "cell_type": "markdown",
   "metadata": {},
   "source": [
    "DataFrames like the above are slow (the cell entries are Python lists) and difficult to use in Pandas. Pandas doesn't have specialized functions for manipulating this kind of structure.\n",
    "\n",
    "However, if we use the default **flatten=True**:"
   ]
  },
  {
   "cell_type": "code",
   "execution_count": 79,
   "metadata": {},
   "outputs": [
    {
     "data": {
      "text/html": [
       "<div>\n",
       "<style scoped>\n",
       "    .dataframe tbody tr th:only-of-type {\n",
       "        vertical-align: middle;\n",
       "    }\n",
       "\n",
       "    .dataframe tbody tr th {\n",
       "        vertical-align: top;\n",
       "    }\n",
       "\n",
       "    .dataframe thead th {\n",
       "        text-align: right;\n",
       "    }\n",
       "</style>\n",
       "<table border=\"1\" class=\"dataframe\">\n",
       "  <thead>\n",
       "    <tr style=\"text-align: right;\">\n",
       "      <th></th>\n",
       "      <th></th>\n",
       "      <th>MET_px</th>\n",
       "      <th>MET_py</th>\n",
       "      <th>Muon_Px</th>\n",
       "      <th>Muon_Py</th>\n",
       "      <th>Muon_Pz</th>\n",
       "    </tr>\n",
       "    <tr>\n",
       "      <th>entry</th>\n",
       "      <th>subentry</th>\n",
       "      <th></th>\n",
       "      <th></th>\n",
       "      <th></th>\n",
       "      <th></th>\n",
       "      <th></th>\n",
       "    </tr>\n",
       "  </thead>\n",
       "  <tbody>\n",
       "    <tr>\n",
       "      <th rowspan=\"2\" valign=\"top\">0</th>\n",
       "      <th>0</th>\n",
       "      <td>5.912771</td>\n",
       "      <td>2.563633</td>\n",
       "      <td>-52.899456</td>\n",
       "      <td>-11.654672</td>\n",
       "      <td>-8.160793</td>\n",
       "    </tr>\n",
       "    <tr>\n",
       "      <th>1</th>\n",
       "      <td>5.912771</td>\n",
       "      <td>2.563633</td>\n",
       "      <td>37.737782</td>\n",
       "      <td>0.693474</td>\n",
       "      <td>-11.307582</td>\n",
       "    </tr>\n",
       "    <tr>\n",
       "      <th>1</th>\n",
       "      <th>0</th>\n",
       "      <td>24.765203</td>\n",
       "      <td>-16.349110</td>\n",
       "      <td>-0.816459</td>\n",
       "      <td>-24.404259</td>\n",
       "      <td>20.199968</td>\n",
       "    </tr>\n",
       "    <tr>\n",
       "      <th rowspan=\"2\" valign=\"top\">2</th>\n",
       "      <th>0</th>\n",
       "      <td>-25.785088</td>\n",
       "      <td>16.237131</td>\n",
       "      <td>48.987831</td>\n",
       "      <td>-21.723139</td>\n",
       "      <td>11.168285</td>\n",
       "    </tr>\n",
       "    <tr>\n",
       "      <th>1</th>\n",
       "      <td>-25.785088</td>\n",
       "      <td>16.237131</td>\n",
       "      <td>0.827567</td>\n",
       "      <td>29.800508</td>\n",
       "      <td>36.965191</td>\n",
       "    </tr>\n",
       "    <tr>\n",
       "      <th rowspan=\"2\" valign=\"top\">3</th>\n",
       "      <th>0</th>\n",
       "      <td>8.619896</td>\n",
       "      <td>-22.786547</td>\n",
       "      <td>22.088331</td>\n",
       "      <td>-85.835464</td>\n",
       "      <td>403.848450</td>\n",
       "    </tr>\n",
       "    <tr>\n",
       "      <th>1</th>\n",
       "      <td>8.619896</td>\n",
       "      <td>-22.786547</td>\n",
       "      <td>76.691917</td>\n",
       "      <td>-13.956494</td>\n",
       "      <td>335.094208</td>\n",
       "    </tr>\n",
       "    <tr>\n",
       "      <th rowspan=\"2\" valign=\"top\">4</th>\n",
       "      <th>0</th>\n",
       "      <td>5.393139</td>\n",
       "      <td>-1.310052</td>\n",
       "      <td>45.171322</td>\n",
       "      <td>67.248787</td>\n",
       "      <td>-89.695732</td>\n",
       "    </tr>\n",
       "    <tr>\n",
       "      <th>1</th>\n",
       "      <td>5.393139</td>\n",
       "      <td>-1.310052</td>\n",
       "      <td>39.750957</td>\n",
       "      <td>25.403667</td>\n",
       "      <td>20.115053</td>\n",
       "    </tr>\n",
       "    <tr>\n",
       "      <th rowspan=\"2\" valign=\"top\">5</th>\n",
       "      <th>0</th>\n",
       "      <td>-3.759475</td>\n",
       "      <td>-19.417021</td>\n",
       "      <td>9.228110</td>\n",
       "      <td>40.554379</td>\n",
       "      <td>-14.642164</td>\n",
       "    </tr>\n",
       "    <tr>\n",
       "      <th>1</th>\n",
       "      <td>-3.759475</td>\n",
       "      <td>-19.417021</td>\n",
       "      <td>-5.793715</td>\n",
       "      <td>-30.295189</td>\n",
       "      <td>42.954376</td>\n",
       "    </tr>\n",
       "    <tr>\n",
       "      <th rowspan=\"2\" valign=\"top\">6</th>\n",
       "      <th>0</th>\n",
       "      <td>23.962149</td>\n",
       "      <td>-9.049156</td>\n",
       "      <td>12.538717</td>\n",
       "      <td>-42.548710</td>\n",
       "      <td>-124.448990</td>\n",
       "    </tr>\n",
       "    <tr>\n",
       "      <th>1</th>\n",
       "      <td>23.962149</td>\n",
       "      <td>-9.049156</td>\n",
       "      <td>29.541840</td>\n",
       "      <td>-4.445517</td>\n",
       "      <td>-26.356554</td>\n",
       "    </tr>\n",
       "    <tr>\n",
       "      <th>7</th>\n",
       "      <th>0</th>\n",
       "      <td>-57.533348</td>\n",
       "      <td>-20.487679</td>\n",
       "      <td>34.883759</td>\n",
       "      <td>-15.982724</td>\n",
       "      <td>155.531174</td>\n",
       "    </tr>\n",
       "    <tr>\n",
       "      <th rowspan=\"2\" valign=\"top\">8</th>\n",
       "      <th>0</th>\n",
       "      <td>42.416195</td>\n",
       "      <td>-94.350861</td>\n",
       "      <td>-53.166973</td>\n",
       "      <td>92.029709</td>\n",
       "      <td>35.638836</td>\n",
       "    </tr>\n",
       "    <tr>\n",
       "      <th>1</th>\n",
       "      <td>42.416195</td>\n",
       "      <td>-94.350861</td>\n",
       "      <td>11.491870</td>\n",
       "      <td>-4.417387</td>\n",
       "      <td>-17.473787</td>\n",
       "    </tr>\n",
       "    <tr>\n",
       "      <th rowspan=\"2\" valign=\"top\">9</th>\n",
       "      <th>0</th>\n",
       "      <td>-1.914469</td>\n",
       "      <td>-23.963034</td>\n",
       "      <td>-67.014854</td>\n",
       "      <td>53.159172</td>\n",
       "      <td>54.412941</td>\n",
       "    </tr>\n",
       "    <tr>\n",
       "      <th>1</th>\n",
       "      <td>-1.914469</td>\n",
       "      <td>-23.963034</td>\n",
       "      <td>-18.118755</td>\n",
       "      <td>-35.106167</td>\n",
       "      <td>58.036896</td>\n",
       "    </tr>\n",
       "  </tbody>\n",
       "</table>\n",
       "</div>"
      ],
      "text/plain": [
       "                   MET_px     MET_py    Muon_Px    Muon_Py     Muon_Pz\n",
       "entry subentry                                                        \n",
       "0     0          5.912771   2.563633 -52.899456 -11.654672   -8.160793\n",
       "      1          5.912771   2.563633  37.737782   0.693474  -11.307582\n",
       "1     0         24.765203 -16.349110  -0.816459 -24.404259   20.199968\n",
       "2     0        -25.785088  16.237131  48.987831 -21.723139   11.168285\n",
       "      1        -25.785088  16.237131   0.827567  29.800508   36.965191\n",
       "3     0          8.619896 -22.786547  22.088331 -85.835464  403.848450\n",
       "      1          8.619896 -22.786547  76.691917 -13.956494  335.094208\n",
       "4     0          5.393139  -1.310052  45.171322  67.248787  -89.695732\n",
       "      1          5.393139  -1.310052  39.750957  25.403667   20.115053\n",
       "5     0         -3.759475 -19.417021   9.228110  40.554379  -14.642164\n",
       "      1         -3.759475 -19.417021  -5.793715 -30.295189   42.954376\n",
       "6     0         23.962149  -9.049156  12.538717 -42.548710 -124.448990\n",
       "      1         23.962149  -9.049156  29.541840  -4.445517  -26.356554\n",
       "7     0        -57.533348 -20.487679  34.883759 -15.982724  155.531174\n",
       "8     0         42.416195 -94.350861 -53.166973  92.029709   35.638836\n",
       "      1         42.416195 -94.350861  11.491870  -4.417387  -17.473787\n",
       "9     0         -1.914469 -23.963034 -67.014854  53.159172   54.412941\n",
       "      1         -1.914469 -23.963034 -18.118755 -35.106167   58.036896"
      ]
     },
     "execution_count": 79,
     "metadata": {},
     "output_type": "execute_result"
    }
   ],
   "source": [
    "df = events2.pandas.df([\"MET_p*\", \"Muon_P*\"], entrystop=10)\n",
    "df"
   ]
  },
  {
   "cell_type": "markdown",
   "metadata": {},
   "source": [
    "The particles-within-events structure is encoded in the [pandas.MultiIndex](https://pandas.pydata.org/pandas-docs/stable/user_guide/advanced.html), and we can use Pandas functions like [DataFrame.unstack](https://pandas.pydata.org/pandas-docs/stable/reference/api/pandas.DataFrame.unstack.html) to manipulate that structure."
   ]
  },
  {
   "cell_type": "code",
   "execution_count": 80,
   "metadata": {},
   "outputs": [
    {
     "data": {
      "text/html": [
       "<div>\n",
       "<style scoped>\n",
       "    .dataframe tbody tr th:only-of-type {\n",
       "        vertical-align: middle;\n",
       "    }\n",
       "\n",
       "    .dataframe tbody tr th {\n",
       "        vertical-align: top;\n",
       "    }\n",
       "\n",
       "    .dataframe thead tr th {\n",
       "        text-align: left;\n",
       "    }\n",
       "\n",
       "    .dataframe thead tr:last-of-type th {\n",
       "        text-align: right;\n",
       "    }\n",
       "</style>\n",
       "<table border=\"1\" class=\"dataframe\">\n",
       "  <thead>\n",
       "    <tr>\n",
       "      <th></th>\n",
       "      <th colspan=\"2\" halign=\"left\">MET_px</th>\n",
       "      <th colspan=\"2\" halign=\"left\">MET_py</th>\n",
       "      <th colspan=\"2\" halign=\"left\">Muon_Px</th>\n",
       "      <th colspan=\"2\" halign=\"left\">Muon_Py</th>\n",
       "      <th colspan=\"2\" halign=\"left\">Muon_Pz</th>\n",
       "    </tr>\n",
       "    <tr>\n",
       "      <th>subentry</th>\n",
       "      <th>0</th>\n",
       "      <th>1</th>\n",
       "      <th>0</th>\n",
       "      <th>1</th>\n",
       "      <th>0</th>\n",
       "      <th>1</th>\n",
       "      <th>0</th>\n",
       "      <th>1</th>\n",
       "      <th>0</th>\n",
       "      <th>1</th>\n",
       "    </tr>\n",
       "    <tr>\n",
       "      <th>entry</th>\n",
       "      <th></th>\n",
       "      <th></th>\n",
       "      <th></th>\n",
       "      <th></th>\n",
       "      <th></th>\n",
       "      <th></th>\n",
       "      <th></th>\n",
       "      <th></th>\n",
       "      <th></th>\n",
       "      <th></th>\n",
       "    </tr>\n",
       "  </thead>\n",
       "  <tbody>\n",
       "    <tr>\n",
       "      <th>0</th>\n",
       "      <td>5.912771</td>\n",
       "      <td>5.912771</td>\n",
       "      <td>2.563633</td>\n",
       "      <td>2.563633</td>\n",
       "      <td>-52.899456</td>\n",
       "      <td>37.737782</td>\n",
       "      <td>-11.654672</td>\n",
       "      <td>0.693474</td>\n",
       "      <td>-8.160793</td>\n",
       "      <td>-11.307582</td>\n",
       "    </tr>\n",
       "    <tr>\n",
       "      <th>1</th>\n",
       "      <td>24.765203</td>\n",
       "      <td>NaN</td>\n",
       "      <td>-16.349110</td>\n",
       "      <td>NaN</td>\n",
       "      <td>-0.816459</td>\n",
       "      <td>NaN</td>\n",
       "      <td>-24.404259</td>\n",
       "      <td>NaN</td>\n",
       "      <td>20.199968</td>\n",
       "      <td>NaN</td>\n",
       "    </tr>\n",
       "    <tr>\n",
       "      <th>2</th>\n",
       "      <td>-25.785088</td>\n",
       "      <td>-25.785088</td>\n",
       "      <td>16.237131</td>\n",
       "      <td>16.237131</td>\n",
       "      <td>48.987831</td>\n",
       "      <td>0.827567</td>\n",
       "      <td>-21.723139</td>\n",
       "      <td>29.800508</td>\n",
       "      <td>11.168285</td>\n",
       "      <td>36.965191</td>\n",
       "    </tr>\n",
       "    <tr>\n",
       "      <th>3</th>\n",
       "      <td>8.619896</td>\n",
       "      <td>8.619896</td>\n",
       "      <td>-22.786547</td>\n",
       "      <td>-22.786547</td>\n",
       "      <td>22.088331</td>\n",
       "      <td>76.691917</td>\n",
       "      <td>-85.835464</td>\n",
       "      <td>-13.956494</td>\n",
       "      <td>403.848450</td>\n",
       "      <td>335.094208</td>\n",
       "    </tr>\n",
       "    <tr>\n",
       "      <th>4</th>\n",
       "      <td>5.393139</td>\n",
       "      <td>5.393139</td>\n",
       "      <td>-1.310052</td>\n",
       "      <td>-1.310052</td>\n",
       "      <td>45.171322</td>\n",
       "      <td>39.750957</td>\n",
       "      <td>67.248787</td>\n",
       "      <td>25.403667</td>\n",
       "      <td>-89.695732</td>\n",
       "      <td>20.115053</td>\n",
       "    </tr>\n",
       "    <tr>\n",
       "      <th>5</th>\n",
       "      <td>-3.759475</td>\n",
       "      <td>-3.759475</td>\n",
       "      <td>-19.417021</td>\n",
       "      <td>-19.417021</td>\n",
       "      <td>9.228110</td>\n",
       "      <td>-5.793715</td>\n",
       "      <td>40.554379</td>\n",
       "      <td>-30.295189</td>\n",
       "      <td>-14.642164</td>\n",
       "      <td>42.954376</td>\n",
       "    </tr>\n",
       "    <tr>\n",
       "      <th>6</th>\n",
       "      <td>23.962149</td>\n",
       "      <td>23.962149</td>\n",
       "      <td>-9.049156</td>\n",
       "      <td>-9.049156</td>\n",
       "      <td>12.538717</td>\n",
       "      <td>29.541840</td>\n",
       "      <td>-42.548710</td>\n",
       "      <td>-4.445517</td>\n",
       "      <td>-124.448990</td>\n",
       "      <td>-26.356554</td>\n",
       "    </tr>\n",
       "    <tr>\n",
       "      <th>7</th>\n",
       "      <td>-57.533348</td>\n",
       "      <td>NaN</td>\n",
       "      <td>-20.487679</td>\n",
       "      <td>NaN</td>\n",
       "      <td>34.883759</td>\n",
       "      <td>NaN</td>\n",
       "      <td>-15.982724</td>\n",
       "      <td>NaN</td>\n",
       "      <td>155.531174</td>\n",
       "      <td>NaN</td>\n",
       "    </tr>\n",
       "    <tr>\n",
       "      <th>8</th>\n",
       "      <td>42.416195</td>\n",
       "      <td>42.416195</td>\n",
       "      <td>-94.350861</td>\n",
       "      <td>-94.350861</td>\n",
       "      <td>-53.166973</td>\n",
       "      <td>11.491870</td>\n",
       "      <td>92.029709</td>\n",
       "      <td>-4.417387</td>\n",
       "      <td>35.638836</td>\n",
       "      <td>-17.473787</td>\n",
       "    </tr>\n",
       "    <tr>\n",
       "      <th>9</th>\n",
       "      <td>-1.914469</td>\n",
       "      <td>-1.914469</td>\n",
       "      <td>-23.963034</td>\n",
       "      <td>-23.963034</td>\n",
       "      <td>-67.014854</td>\n",
       "      <td>-18.118755</td>\n",
       "      <td>53.159172</td>\n",
       "      <td>-35.106167</td>\n",
       "      <td>54.412941</td>\n",
       "      <td>58.036896</td>\n",
       "    </tr>\n",
       "  </tbody>\n",
       "</table>\n",
       "</div>"
      ],
      "text/plain": [
       "             MET_px                MET_py               Muon_Px             \\\n",
       "subentry          0          1          0          1          0          1   \n",
       "entry                                                                        \n",
       "0          5.912771   5.912771   2.563633   2.563633 -52.899456  37.737782   \n",
       "1         24.765203        NaN -16.349110        NaN  -0.816459        NaN   \n",
       "2        -25.785088 -25.785088  16.237131  16.237131  48.987831   0.827567   \n",
       "3          8.619896   8.619896 -22.786547 -22.786547  22.088331  76.691917   \n",
       "4          5.393139   5.393139  -1.310052  -1.310052  45.171322  39.750957   \n",
       "5         -3.759475  -3.759475 -19.417021 -19.417021   9.228110  -5.793715   \n",
       "6         23.962149  23.962149  -9.049156  -9.049156  12.538717  29.541840   \n",
       "7        -57.533348        NaN -20.487679        NaN  34.883759        NaN   \n",
       "8         42.416195  42.416195 -94.350861 -94.350861 -53.166973  11.491870   \n",
       "9         -1.914469  -1.914469 -23.963034 -23.963034 -67.014854 -18.118755   \n",
       "\n",
       "            Muon_Py                Muon_Pz              \n",
       "subentry          0          1           0           1  \n",
       "entry                                                   \n",
       "0        -11.654672   0.693474   -8.160793  -11.307582  \n",
       "1        -24.404259        NaN   20.199968         NaN  \n",
       "2        -21.723139  29.800508   11.168285   36.965191  \n",
       "3        -85.835464 -13.956494  403.848450  335.094208  \n",
       "4         67.248787  25.403667  -89.695732   20.115053  \n",
       "5         40.554379 -30.295189  -14.642164   42.954376  \n",
       "6        -42.548710  -4.445517 -124.448990  -26.356554  \n",
       "7        -15.982724        NaN  155.531174         NaN  \n",
       "8         92.029709  -4.417387   35.638836  -17.473787  \n",
       "9         53.159172 -35.106167   54.412941   58.036896  "
      ]
     },
     "execution_count": 80,
     "metadata": {},
     "output_type": "execute_result"
    }
   ],
   "source": [
    "df.unstack()"
   ]
  },
  {
   "cell_type": "markdown",
   "metadata": {},
   "source": [
    "There's also a **flatten=None** that skips all non-flat TBranches, included as a convenience against overzealous branch selection."
   ]
  },
  {
   "cell_type": "code",
   "execution_count": 81,
   "metadata": {},
   "outputs": [
    {
     "data": {
      "text/html": [
       "<div>\n",
       "<style scoped>\n",
       "    .dataframe tbody tr th:only-of-type {\n",
       "        vertical-align: middle;\n",
       "    }\n",
       "\n",
       "    .dataframe tbody tr th {\n",
       "        vertical-align: top;\n",
       "    }\n",
       "\n",
       "    .dataframe thead th {\n",
       "        text-align: right;\n",
       "    }\n",
       "</style>\n",
       "<table border=\"1\" class=\"dataframe\">\n",
       "  <thead>\n",
       "    <tr style=\"text-align: right;\">\n",
       "      <th></th>\n",
       "      <th>MET_px</th>\n",
       "      <th>MET_py</th>\n",
       "    </tr>\n",
       "    <tr>\n",
       "      <th>entry</th>\n",
       "      <th></th>\n",
       "      <th></th>\n",
       "    </tr>\n",
       "  </thead>\n",
       "  <tbody>\n",
       "    <tr>\n",
       "      <th>0</th>\n",
       "      <td>5.912771</td>\n",
       "      <td>2.563633</td>\n",
       "    </tr>\n",
       "    <tr>\n",
       "      <th>1</th>\n",
       "      <td>24.765203</td>\n",
       "      <td>-16.349110</td>\n",
       "    </tr>\n",
       "    <tr>\n",
       "      <th>2</th>\n",
       "      <td>-25.785088</td>\n",
       "      <td>16.237131</td>\n",
       "    </tr>\n",
       "    <tr>\n",
       "      <th>3</th>\n",
       "      <td>8.619896</td>\n",
       "      <td>-22.786547</td>\n",
       "    </tr>\n",
       "    <tr>\n",
       "      <th>4</th>\n",
       "      <td>5.393139</td>\n",
       "      <td>-1.310052</td>\n",
       "    </tr>\n",
       "    <tr>\n",
       "      <th>5</th>\n",
       "      <td>-3.759475</td>\n",
       "      <td>-19.417021</td>\n",
       "    </tr>\n",
       "    <tr>\n",
       "      <th>6</th>\n",
       "      <td>23.962149</td>\n",
       "      <td>-9.049156</td>\n",
       "    </tr>\n",
       "    <tr>\n",
       "      <th>7</th>\n",
       "      <td>-57.533348</td>\n",
       "      <td>-20.487679</td>\n",
       "    </tr>\n",
       "    <tr>\n",
       "      <th>8</th>\n",
       "      <td>42.416195</td>\n",
       "      <td>-94.350861</td>\n",
       "    </tr>\n",
       "    <tr>\n",
       "      <th>9</th>\n",
       "      <td>-1.914469</td>\n",
       "      <td>-23.963034</td>\n",
       "    </tr>\n",
       "  </tbody>\n",
       "</table>\n",
       "</div>"
      ],
      "text/plain": [
       "          MET_px     MET_py\n",
       "entry                      \n",
       "0       5.912771   2.563633\n",
       "1      24.765203 -16.349110\n",
       "2     -25.785088  16.237131\n",
       "3       8.619896 -22.786547\n",
       "4       5.393139  -1.310052\n",
       "5      -3.759475 -19.417021\n",
       "6      23.962149  -9.049156\n",
       "7     -57.533348 -20.487679\n",
       "8      42.416195 -94.350861\n",
       "9      -1.914469 -23.963034"
      ]
     },
     "execution_count": 81,
     "metadata": {},
     "output_type": "execute_result"
    }
   ],
   "source": [
    "events2.pandas.df([\"MET_p*\", \"Muon_P*\"], entrystop=10, flatten=None)"
   ]
  },
  {
   "cell_type": "markdown",
   "metadata": {},
   "source": [
    "# Selecting and interpreting branches\n",
    "\n",
    "We have already seen that TBranches can be selected as lists of strings and with wildcards. This is the same wildcard pattern that filesystems use to match file lists: `*` can be replaced with any text (or none), `?` can be replaced by one character, and `[...]` specifies a list of alternate characters.\n",
    "\n",
    "Wildcard patters are quick to write, but limited relative to regular expressions. Any branch request between slashes (`/` inside the quotation marks) will be interpreted as regular expressions instead (i.e. `.*` instead of `*`)."
   ]
  },
  {
   "cell_type": "code",
   "execution_count": 82,
   "metadata": {},
   "outputs": [
    {
     "data": {
      "text/plain": [
       "dict_keys([b'px1', b'py1', b'pz1', b'px2', b'py2', b'pz2'])"
      ]
     },
     "execution_count": 82,
     "metadata": {},
     "output_type": "execute_result"
    }
   ],
   "source": [
    "events.arrays(\"p[xyz]?\").keys()      # using wildcards"
   ]
  },
  {
   "cell_type": "code",
   "execution_count": 83,
   "metadata": {},
   "outputs": [
    {
     "data": {
      "text/plain": [
       "dict_keys([b'px1', b'py1', b'pz1', b'px2', b'py2', b'pz2'])"
      ]
     },
     "execution_count": 83,
     "metadata": {},
     "output_type": "execute_result"
    }
   ],
   "source": [
    "events.arrays(\"/p[x-z].?/\").keys()   # using regular expressions"
   ]
  },
  {
   "cell_type": "markdown",
   "metadata": {},
   "source": [
    "If, instead of strings, you pass a function from branch objects to `True` or `False`, the branches will be selected by evaluating the function as a filter. This is a way of selecting branches based on properties other than their names."
   ]
  },
  {
   "cell_type": "code",
   "execution_count": 84,
   "metadata": {},
   "outputs": [
    {
     "data": {
      "text/plain": [
       "dict_keys([b'Type', b'Run', b'Event', b'Q1', b'Q2'])"
      ]
     },
     "execution_count": 84,
     "metadata": {},
     "output_type": "execute_result"
    }
   ],
   "source": [
    "events.arrays(lambda branch: branch.compressionratio() > 3).keys()"
   ]
  },
  {
   "cell_type": "markdown",
   "metadata": {},
   "source": [
    "Note that the return values must be strictly `True` and `False`, not anything that [Python evaluates to true or false](https://itnext.io/you-shouldnt-use-truthy-tests-753b39ef8893). If the function returns anything else, it will be used as a new [Interpretation](https://uproot.readthedocs.io/en/latest/interpretation.html) for the branch."
   ]
  },
  {
   "cell_type": "markdown",
   "metadata": {},
   "source": [
    "## TBranch interpretations\n",
    "\n",
    "The very first thing we looked at when we opened a TTree was its TBranches and their interpretations with the `show` method:"
   ]
  },
  {
   "cell_type": "code",
   "execution_count": 85,
   "metadata": {},
   "outputs": [
    {
     "name": "stdout",
     "output_type": "stream",
     "text": [
      "Type                       (no streamer)              asstring()\n",
      "Run                        (no streamer)              asdtype('>i4')\n",
      "Event                      (no streamer)              asdtype('>i4')\n",
      "E1                         (no streamer)              asdtype('>f8')\n",
      "px1                        (no streamer)              asdtype('>f8')\n",
      "py1                        (no streamer)              asdtype('>f8')\n",
      "pz1                        (no streamer)              asdtype('>f8')\n",
      "pt1                        (no streamer)              asdtype('>f8')\n",
      "eta1                       (no streamer)              asdtype('>f8')\n",
      "phi1                       (no streamer)              asdtype('>f8')\n",
      "Q1                         (no streamer)              asdtype('>i4')\n",
      "E2                         (no streamer)              asdtype('>f8')\n",
      "px2                        (no streamer)              asdtype('>f8')\n",
      "py2                        (no streamer)              asdtype('>f8')\n",
      "pz2                        (no streamer)              asdtype('>f8')\n",
      "pt2                        (no streamer)              asdtype('>f8')\n",
      "eta2                       (no streamer)              asdtype('>f8')\n",
      "phi2                       (no streamer)              asdtype('>f8')\n",
      "Q2                         (no streamer)              asdtype('>i4')\n",
      "M                          (no streamer)              asdtype('>f8')\n"
     ]
    }
   ],
   "source": [
    "events.show()"
   ]
  },
  {
   "cell_type": "markdown",
   "metadata": {},
   "source": [
    "Every branch has a default interpretation, such as"
   ]
  },
  {
   "cell_type": "code",
   "execution_count": 86,
   "metadata": {},
   "outputs": [
    {
     "data": {
      "text/plain": [
       "asdtype('>f8')"
      ]
     },
     "execution_count": 86,
     "metadata": {},
     "output_type": "execute_result"
    }
   ],
   "source": [
    "events[\"E1\"].interpretation"
   ]
  },
  {
   "cell_type": "markdown",
   "metadata": {},
   "source": [
    "meaning big-endian, 8-byte floating point numbers as a [Numpy dtype](https://docs.scipy.org/doc/numpy/reference/arrays.dtypes.html). We could interpret this branch with a different [Numpy dtype](https://docs.scipy.org/doc/numpy/reference/arrays.dtypes.html), but it wouldn't be meaningful."
   ]
  },
  {
   "cell_type": "code",
   "execution_count": 87,
   "metadata": {},
   "outputs": [
    {
     "data": {
      "text/plain": [
       "array([4635484859043618393, 4633971086021346367, 4633971086021346367, ...,\n",
       "       4635419294316473354, 4635419294316473354, 4635440129219414362])"
      ]
     },
     "execution_count": 87,
     "metadata": {},
     "output_type": "execute_result"
    }
   ],
   "source": [
    "events[\"E1\"].array(uproot.asdtype(\">i8\"))"
   ]
  },
  {
   "cell_type": "markdown",
   "metadata": {},
   "source": [
    "Instead of reading the values as floating point numbers, we've read them as integers. It's unlikely that you'd ever want to do that, unless the default interpretation is wrong."
   ]
  },
  {
   "cell_type": "markdown",
   "metadata": {},
   "source": [
    "## Reading data into a preexisting array\n",
    "\n",
    "One actually useful TBranch reinterpretation is [uproot.asarray](https://uproot.readthedocs.io/en/latest/interpretation.html#uproot-interp-numerical-asarray). It differs from [uproot.asdtype](https://uproot.readthedocs.io/en/latest/interpretation.html#uproot-interp-numerical-asdtype) only in that the latter creates a new array when reading data while the former fills a user-specified array."
   ]
  },
  {
   "cell_type": "code",
   "execution_count": 88,
   "metadata": {},
   "outputs": [
    {
     "data": {
      "text/plain": [
       "asarray('>f8', <array float32 (2304,) at 0x7ac115f23490>)"
      ]
     },
     "execution_count": 88,
     "metadata": {},
     "output_type": "execute_result"
    }
   ],
   "source": [
    "myarray = numpy.zeros(events.numentries, dtype=numpy.float32)    # (different size)\n",
    "reinterpretation = events[\"E1\"].interpretation.toarray(myarray)\n",
    "reinterpretation"
   ]
  },
  {
   "cell_type": "markdown",
   "metadata": {},
   "source": [
    "Passing the new [uproot.asarray](https://uproot.readthedocs.io/en/latest/interpretation.html#uproot-interp-numerical-asarray) interpretation to the array-reading function"
   ]
  },
  {
   "cell_type": "code",
   "execution_count": 89,
   "metadata": {},
   "outputs": [
    {
     "data": {
      "text/plain": [
       "array([82.201866, 62.34493 , 62.34493 , ..., 81.270134, 81.270134,\n",
       "       81.566216], dtype=float32)"
      ]
     },
     "execution_count": 89,
     "metadata": {},
     "output_type": "execute_result"
    }
   ],
   "source": [
    "events[\"E1\"].array(reinterpretation)"
   ]
  },
  {
   "cell_type": "markdown",
   "metadata": {},
   "source": [
    "fills and returns that array. When you look at my array object, you can see that it is now filled, overwriting whatever might have been in it before."
   ]
  },
  {
   "cell_type": "code",
   "execution_count": 90,
   "metadata": {},
   "outputs": [
    {
     "data": {
      "text/plain": [
       "array([82.201866, 62.34493 , 62.34493 , ..., 81.270134, 81.270134,\n",
       "       81.566216], dtype=float32)"
      ]
     },
     "execution_count": 90,
     "metadata": {},
     "output_type": "execute_result"
    }
   ],
   "source": [
    "myarray"
   ]
  },
  {
   "cell_type": "markdown",
   "metadata": {},
   "source": [
    "This is useful for speed-critical applications or ones in which the array is managed by an external system. The array could be NUMA-allocated in a supercomputer or CPU/GPU managed by PyTorch, for instance.\n",
    "\n",
    "As the provider of the array, it is your responsibility to ensure that it has enough elements to hold the (possibly type-converted) output. (Failure to do so only results in an exception, not a segmentation fault or anything.)"
   ]
  },
  {
   "cell_type": "markdown",
   "metadata": {},
   "source": [
    "## Passing many new interpretations in one call\n",
    "\n",
    "Above, you saw what happens when a TBranch selector is a function returning `True` or `False`, and I stressed that it must be literally `True`, not an object that Python would evaluate to `True`."
   ]
  },
  {
   "cell_type": "code",
   "execution_count": 91,
   "metadata": {},
   "outputs": [
    {
     "data": {
      "text/plain": [
       "dict_keys([b'E1', b'px1', b'py1', b'pz1', b'pt1', b'eta1', b'phi1', b'E2', b'px2', b'py2', b'pz2', b'pt2', b'eta2', b'phi2', b'M'])"
      ]
     },
     "execution_count": 91,
     "metadata": {},
     "output_type": "execute_result"
    }
   ],
   "source": [
    "events.arrays(lambda branch: isinstance(branch.interpretation, uproot.asdtype) and\n",
    "                             str(branch.interpretation.fromdtype) == \">f8\").keys()"
   ]
  },
  {
   "cell_type": "markdown",
   "metadata": {},
   "source": [
    "This is because a function that returns objects selects branches and sets their interpretations in one pass."
   ]
  },
  {
   "cell_type": "code",
   "execution_count": 92,
   "metadata": {},
   "outputs": [
    {
     "data": {
      "text/plain": [
       "{b'px1': array([-41.195286,  35.11805 ,  35.11805 , ...,  32.37749 ,  32.37749 ,\n",
       "         32.485394], dtype=float32),\n",
       " b'px2': array([ 34.144436, -41.195286, -40.883324, ..., -68.041916, -68.794136,\n",
       "        -68.794136], dtype=float32)}"
      ]
     },
     "execution_count": 92,
     "metadata": {},
     "output_type": "execute_result"
    }
   ],
   "source": [
    "events.arrays(lambda branch: uproot.asdtype(\">f8\", \"<f4\") if branch.name.startswith(b\"px\") else None)"
   ]
  },
  {
   "cell_type": "markdown",
   "metadata": {},
   "source": [
    "The above selects TBranch names that start with `\"px\"`, read-interprets them as big-endian 8-byte floats and writes them as little-endian 4-byte floats. The selector returns `None` for the TBranches to exclude and an [Interpretation](https://uproot.readthedocs.io/en/latest/interpretation.html) for the ones to reinterpret.\n",
    "\n",
    "The same could have been said in a less functional way with a dict:"
   ]
  },
  {
   "cell_type": "code",
   "execution_count": 93,
   "metadata": {},
   "outputs": [
    {
     "data": {
      "text/plain": [
       "{b'px1': array([-41.195286,  35.11805 ,  35.11805 , ...,  32.37749 ,  32.37749 ,\n",
       "         32.485394], dtype=float32),\n",
       " b'px2': array([ 34.144436, -41.195286, -40.883324, ..., -68.041916, -68.794136,\n",
       "        -68.794136], dtype=float32)}"
      ]
     },
     "execution_count": 93,
     "metadata": {},
     "output_type": "execute_result"
    }
   ],
   "source": [
    "events.arrays({\"px1\": uproot.asdtype(\">f8\", \"<f4\"),\n",
    "               \"px2\": uproot.asdtype(\">f8\", \"<f4\")})"
   ]
  },
  {
   "cell_type": "markdown",
   "metadata": {},
   "source": [
    "## Multiple values per event: fixed size arrays\n",
    "\n",
    "So far, you've seen a lot of examples with one value per event, but multiple values per event are very common. In the simplest case, the value in each event is a vector, matrix, or tensor with a fixed number of dimensions, such as a 3-vector or a set of parton weights from a Monte Carlo.\n",
    "\n",
    "Here's an artificial example:"
   ]
  },
  {
   "cell_type": "code",
   "execution_count": 94,
   "metadata": {},
   "outputs": [
    {
     "data": {
      "text/plain": [
       "array([[ 0,  0,  0,  0,  0,  0,  0,  0,  0,  0],\n",
       "       [ 1,  1,  1,  1,  1,  1,  1,  1,  1,  1],\n",
       "       [ 2,  2,  2,  2,  2,  2,  2,  2,  2,  2],\n",
       "       [ 3,  3,  3,  3,  3,  3,  3,  3,  3,  3],\n",
       "       [ 4,  4,  4,  4,  4,  4,  4,  4,  4,  4],\n",
       "       [ 5,  5,  5,  5,  5,  5,  5,  5,  5,  5],\n",
       "       [ 6,  6,  6,  6,  6,  6,  6,  6,  6,  6],\n",
       "       [ 7,  7,  7,  7,  7,  7,  7,  7,  7,  7],\n",
       "       [ 8,  8,  8,  8,  8,  8,  8,  8,  8,  8],\n",
       "       [ 9,  9,  9,  9,  9,  9,  9,  9,  9,  9],\n",
       "       [10, 10, 10, 10, 10, 10, 10, 10, 10, 10],\n",
       "       [11, 11, 11, 11, 11, 11, 11, 11, 11, 11],\n",
       "       [12, 12, 12, 12, 12, 12, 12, 12, 12, 12],\n",
       "       [13, 13, 13, 13, 13, 13, 13, 13, 13, 13],\n",
       "       [14, 14, 14, 14, 14, 14, 14, 14, 14, 14],\n",
       "       [15, 15, 15, 15, 15, 15, 15, 15, 15, 15],\n",
       "       [16, 16, 16, 16, 16, 16, 16, 16, 16, 16],\n",
       "       [17, 17, 17, 17, 17, 17, 17, 17, 17, 17],\n",
       "       [18, 18, 18, 18, 18, 18, 18, 18, 18, 18],\n",
       "       [19, 19, 19, 19, 19, 19, 19, 19, 19, 19]])"
      ]
     },
     "execution_count": 94,
     "metadata": {},
     "output_type": "execute_result"
    }
   ],
   "source": [
    "tree = uproot.open(\"https://scikit-hep.org/uproot/examples/nesteddirs.root\")[\"one/two/tree\"]\n",
    "array = tree.array(\"ArrayInt64\", entrystop=20)\n",
    "array"
   ]
  },
  {
   "cell_type": "markdown",
   "metadata": {},
   "source": [
    "The resulting array has a non-trivial [Numpy shape](https://docs.scipy.org/doc/numpy/reference/generated/numpy.ndarray.shape.html), but otherwise, it has the same [Numpy array type](https://docs.scipy.org/doc/numpy/reference/generated/numpy.array.html) as the other arrays you've seen (apart from lazy arrays—`ChunkedArray` and `VirtualArray`—which are not Numpy objects)."
   ]
  },
  {
   "cell_type": "code",
   "execution_count": 95,
   "metadata": {},
   "outputs": [
    {
     "data": {
      "text/plain": [
       "(20, 10)"
      ]
     },
     "execution_count": 95,
     "metadata": {},
     "output_type": "execute_result"
    }
   ],
   "source": [
    "array.shape"
   ]
  },
  {
   "cell_type": "markdown",
   "metadata": {},
   "source": [
    "All but the first dimension of the shape parameter (the \"length\") is known before reading the array: it's the [dtype shape](https://docs.scipy.org/doc/numpy/reference/generated/numpy.dtype.shape.html)."
   ]
  },
  {
   "cell_type": "code",
   "execution_count": 96,
   "metadata": {},
   "outputs": [
    {
     "data": {
      "text/plain": [
       "asdtype(\"('>i8', (10,))\")"
      ]
     },
     "execution_count": 96,
     "metadata": {},
     "output_type": "execute_result"
    }
   ],
   "source": [
    "tree[\"ArrayInt64\"].interpretation"
   ]
  },
  {
   "cell_type": "code",
   "execution_count": 97,
   "metadata": {},
   "outputs": [
    {
     "data": {
      "text/plain": [
       "(10,)"
      ]
     },
     "execution_count": 97,
     "metadata": {},
     "output_type": "execute_result"
    }
   ],
   "source": [
    "tree[\"ArrayInt64\"].interpretation.todtype.shape"
   ]
  },
  {
   "cell_type": "markdown",
   "metadata": {},
   "source": [
    "The [dtype shape](https://docs.scipy.org/doc/numpy/reference/generated/numpy.dtype.shape.html) of a TBranch with one value per event (simple, 1-dimensional arrays) is an empty tuple."
   ]
  },
  {
   "cell_type": "code",
   "execution_count": 98,
   "metadata": {},
   "outputs": [
    {
     "data": {
      "text/plain": [
       "()"
      ]
     },
     "execution_count": 98,
     "metadata": {},
     "output_type": "execute_result"
    }
   ],
   "source": [
    "tree[\"Int64\"].interpretation.todtype.shape"
   ]
  },
  {
   "cell_type": "markdown",
   "metadata": {},
   "source": [
    "Fixed-width arrays are exploded into one column per element when viewed as a [pandas.DataFrame](https://pandas.pydata.org/pandas-docs/stable/reference/api/pandas.DataFrame.html)."
   ]
  },
  {
   "cell_type": "code",
   "execution_count": 99,
   "metadata": {},
   "outputs": [
    {
     "data": {
      "text/html": [
       "<div>\n",
       "<style scoped>\n",
       "    .dataframe tbody tr th:only-of-type {\n",
       "        vertical-align: middle;\n",
       "    }\n",
       "\n",
       "    .dataframe tbody tr th {\n",
       "        vertical-align: top;\n",
       "    }\n",
       "\n",
       "    .dataframe thead th {\n",
       "        text-align: right;\n",
       "    }\n",
       "</style>\n",
       "<table border=\"1\" class=\"dataframe\">\n",
       "  <thead>\n",
       "    <tr style=\"text-align: right;\">\n",
       "      <th></th>\n",
       "      <th>ArrayInt64[0]</th>\n",
       "      <th>ArrayInt64[1]</th>\n",
       "      <th>ArrayInt64[2]</th>\n",
       "      <th>ArrayInt64[3]</th>\n",
       "      <th>ArrayInt64[4]</th>\n",
       "      <th>ArrayInt64[5]</th>\n",
       "      <th>ArrayInt64[6]</th>\n",
       "      <th>ArrayInt64[7]</th>\n",
       "      <th>ArrayInt64[8]</th>\n",
       "      <th>ArrayInt64[9]</th>\n",
       "    </tr>\n",
       "    <tr>\n",
       "      <th>entry</th>\n",
       "      <th></th>\n",
       "      <th></th>\n",
       "      <th></th>\n",
       "      <th></th>\n",
       "      <th></th>\n",
       "      <th></th>\n",
       "      <th></th>\n",
       "      <th></th>\n",
       "      <th></th>\n",
       "      <th></th>\n",
       "    </tr>\n",
       "  </thead>\n",
       "  <tbody>\n",
       "    <tr>\n",
       "      <th>0</th>\n",
       "      <td>0</td>\n",
       "      <td>0</td>\n",
       "      <td>0</td>\n",
       "      <td>0</td>\n",
       "      <td>0</td>\n",
       "      <td>0</td>\n",
       "      <td>0</td>\n",
       "      <td>0</td>\n",
       "      <td>0</td>\n",
       "      <td>0</td>\n",
       "    </tr>\n",
       "    <tr>\n",
       "      <th>1</th>\n",
       "      <td>1</td>\n",
       "      <td>1</td>\n",
       "      <td>1</td>\n",
       "      <td>1</td>\n",
       "      <td>1</td>\n",
       "      <td>1</td>\n",
       "      <td>1</td>\n",
       "      <td>1</td>\n",
       "      <td>1</td>\n",
       "      <td>1</td>\n",
       "    </tr>\n",
       "    <tr>\n",
       "      <th>2</th>\n",
       "      <td>2</td>\n",
       "      <td>2</td>\n",
       "      <td>2</td>\n",
       "      <td>2</td>\n",
       "      <td>2</td>\n",
       "      <td>2</td>\n",
       "      <td>2</td>\n",
       "      <td>2</td>\n",
       "      <td>2</td>\n",
       "      <td>2</td>\n",
       "    </tr>\n",
       "    <tr>\n",
       "      <th>3</th>\n",
       "      <td>3</td>\n",
       "      <td>3</td>\n",
       "      <td>3</td>\n",
       "      <td>3</td>\n",
       "      <td>3</td>\n",
       "      <td>3</td>\n",
       "      <td>3</td>\n",
       "      <td>3</td>\n",
       "      <td>3</td>\n",
       "      <td>3</td>\n",
       "    </tr>\n",
       "    <tr>\n",
       "      <th>4</th>\n",
       "      <td>4</td>\n",
       "      <td>4</td>\n",
       "      <td>4</td>\n",
       "      <td>4</td>\n",
       "      <td>4</td>\n",
       "      <td>4</td>\n",
       "      <td>4</td>\n",
       "      <td>4</td>\n",
       "      <td>4</td>\n",
       "      <td>4</td>\n",
       "    </tr>\n",
       "    <tr>\n",
       "      <th>5</th>\n",
       "      <td>5</td>\n",
       "      <td>5</td>\n",
       "      <td>5</td>\n",
       "      <td>5</td>\n",
       "      <td>5</td>\n",
       "      <td>5</td>\n",
       "      <td>5</td>\n",
       "      <td>5</td>\n",
       "      <td>5</td>\n",
       "      <td>5</td>\n",
       "    </tr>\n",
       "    <tr>\n",
       "      <th>6</th>\n",
       "      <td>6</td>\n",
       "      <td>6</td>\n",
       "      <td>6</td>\n",
       "      <td>6</td>\n",
       "      <td>6</td>\n",
       "      <td>6</td>\n",
       "      <td>6</td>\n",
       "      <td>6</td>\n",
       "      <td>6</td>\n",
       "      <td>6</td>\n",
       "    </tr>\n",
       "    <tr>\n",
       "      <th>7</th>\n",
       "      <td>7</td>\n",
       "      <td>7</td>\n",
       "      <td>7</td>\n",
       "      <td>7</td>\n",
       "      <td>7</td>\n",
       "      <td>7</td>\n",
       "      <td>7</td>\n",
       "      <td>7</td>\n",
       "      <td>7</td>\n",
       "      <td>7</td>\n",
       "    </tr>\n",
       "    <tr>\n",
       "      <th>8</th>\n",
       "      <td>8</td>\n",
       "      <td>8</td>\n",
       "      <td>8</td>\n",
       "      <td>8</td>\n",
       "      <td>8</td>\n",
       "      <td>8</td>\n",
       "      <td>8</td>\n",
       "      <td>8</td>\n",
       "      <td>8</td>\n",
       "      <td>8</td>\n",
       "    </tr>\n",
       "    <tr>\n",
       "      <th>9</th>\n",
       "      <td>9</td>\n",
       "      <td>9</td>\n",
       "      <td>9</td>\n",
       "      <td>9</td>\n",
       "      <td>9</td>\n",
       "      <td>9</td>\n",
       "      <td>9</td>\n",
       "      <td>9</td>\n",
       "      <td>9</td>\n",
       "      <td>9</td>\n",
       "    </tr>\n",
       "    <tr>\n",
       "      <th>10</th>\n",
       "      <td>10</td>\n",
       "      <td>10</td>\n",
       "      <td>10</td>\n",
       "      <td>10</td>\n",
       "      <td>10</td>\n",
       "      <td>10</td>\n",
       "      <td>10</td>\n",
       "      <td>10</td>\n",
       "      <td>10</td>\n",
       "      <td>10</td>\n",
       "    </tr>\n",
       "    <tr>\n",
       "      <th>11</th>\n",
       "      <td>11</td>\n",
       "      <td>11</td>\n",
       "      <td>11</td>\n",
       "      <td>11</td>\n",
       "      <td>11</td>\n",
       "      <td>11</td>\n",
       "      <td>11</td>\n",
       "      <td>11</td>\n",
       "      <td>11</td>\n",
       "      <td>11</td>\n",
       "    </tr>\n",
       "    <tr>\n",
       "      <th>12</th>\n",
       "      <td>12</td>\n",
       "      <td>12</td>\n",
       "      <td>12</td>\n",
       "      <td>12</td>\n",
       "      <td>12</td>\n",
       "      <td>12</td>\n",
       "      <td>12</td>\n",
       "      <td>12</td>\n",
       "      <td>12</td>\n",
       "      <td>12</td>\n",
       "    </tr>\n",
       "    <tr>\n",
       "      <th>13</th>\n",
       "      <td>13</td>\n",
       "      <td>13</td>\n",
       "      <td>13</td>\n",
       "      <td>13</td>\n",
       "      <td>13</td>\n",
       "      <td>13</td>\n",
       "      <td>13</td>\n",
       "      <td>13</td>\n",
       "      <td>13</td>\n",
       "      <td>13</td>\n",
       "    </tr>\n",
       "    <tr>\n",
       "      <th>14</th>\n",
       "      <td>14</td>\n",
       "      <td>14</td>\n",
       "      <td>14</td>\n",
       "      <td>14</td>\n",
       "      <td>14</td>\n",
       "      <td>14</td>\n",
       "      <td>14</td>\n",
       "      <td>14</td>\n",
       "      <td>14</td>\n",
       "      <td>14</td>\n",
       "    </tr>\n",
       "    <tr>\n",
       "      <th>15</th>\n",
       "      <td>15</td>\n",
       "      <td>15</td>\n",
       "      <td>15</td>\n",
       "      <td>15</td>\n",
       "      <td>15</td>\n",
       "      <td>15</td>\n",
       "      <td>15</td>\n",
       "      <td>15</td>\n",
       "      <td>15</td>\n",
       "      <td>15</td>\n",
       "    </tr>\n",
       "    <tr>\n",
       "      <th>16</th>\n",
       "      <td>16</td>\n",
       "      <td>16</td>\n",
       "      <td>16</td>\n",
       "      <td>16</td>\n",
       "      <td>16</td>\n",
       "      <td>16</td>\n",
       "      <td>16</td>\n",
       "      <td>16</td>\n",
       "      <td>16</td>\n",
       "      <td>16</td>\n",
       "    </tr>\n",
       "    <tr>\n",
       "      <th>17</th>\n",
       "      <td>17</td>\n",
       "      <td>17</td>\n",
       "      <td>17</td>\n",
       "      <td>17</td>\n",
       "      <td>17</td>\n",
       "      <td>17</td>\n",
       "      <td>17</td>\n",
       "      <td>17</td>\n",
       "      <td>17</td>\n",
       "      <td>17</td>\n",
       "    </tr>\n",
       "    <tr>\n",
       "      <th>18</th>\n",
       "      <td>18</td>\n",
       "      <td>18</td>\n",
       "      <td>18</td>\n",
       "      <td>18</td>\n",
       "      <td>18</td>\n",
       "      <td>18</td>\n",
       "      <td>18</td>\n",
       "      <td>18</td>\n",
       "      <td>18</td>\n",
       "      <td>18</td>\n",
       "    </tr>\n",
       "    <tr>\n",
       "      <th>19</th>\n",
       "      <td>19</td>\n",
       "      <td>19</td>\n",
       "      <td>19</td>\n",
       "      <td>19</td>\n",
       "      <td>19</td>\n",
       "      <td>19</td>\n",
       "      <td>19</td>\n",
       "      <td>19</td>\n",
       "      <td>19</td>\n",
       "      <td>19</td>\n",
       "    </tr>\n",
       "  </tbody>\n",
       "</table>\n",
       "</div>"
      ],
      "text/plain": [
       "       ArrayInt64[0]  ArrayInt64[1]  ArrayInt64[2]  ArrayInt64[3]  \\\n",
       "entry                                                               \n",
       "0                  0              0              0              0   \n",
       "1                  1              1              1              1   \n",
       "2                  2              2              2              2   \n",
       "3                  3              3              3              3   \n",
       "4                  4              4              4              4   \n",
       "5                  5              5              5              5   \n",
       "6                  6              6              6              6   \n",
       "7                  7              7              7              7   \n",
       "8                  8              8              8              8   \n",
       "9                  9              9              9              9   \n",
       "10                10             10             10             10   \n",
       "11                11             11             11             11   \n",
       "12                12             12             12             12   \n",
       "13                13             13             13             13   \n",
       "14                14             14             14             14   \n",
       "15                15             15             15             15   \n",
       "16                16             16             16             16   \n",
       "17                17             17             17             17   \n",
       "18                18             18             18             18   \n",
       "19                19             19             19             19   \n",
       "\n",
       "       ArrayInt64[4]  ArrayInt64[5]  ArrayInt64[6]  ArrayInt64[7]  \\\n",
       "entry                                                               \n",
       "0                  0              0              0              0   \n",
       "1                  1              1              1              1   \n",
       "2                  2              2              2              2   \n",
       "3                  3              3              3              3   \n",
       "4                  4              4              4              4   \n",
       "5                  5              5              5              5   \n",
       "6                  6              6              6              6   \n",
       "7                  7              7              7              7   \n",
       "8                  8              8              8              8   \n",
       "9                  9              9              9              9   \n",
       "10                10             10             10             10   \n",
       "11                11             11             11             11   \n",
       "12                12             12             12             12   \n",
       "13                13             13             13             13   \n",
       "14                14             14             14             14   \n",
       "15                15             15             15             15   \n",
       "16                16             16             16             16   \n",
       "17                17             17             17             17   \n",
       "18                18             18             18             18   \n",
       "19                19             19             19             19   \n",
       "\n",
       "       ArrayInt64[8]  ArrayInt64[9]  \n",
       "entry                                \n",
       "0                  0              0  \n",
       "1                  1              1  \n",
       "2                  2              2  \n",
       "3                  3              3  \n",
       "4                  4              4  \n",
       "5                  5              5  \n",
       "6                  6              6  \n",
       "7                  7              7  \n",
       "8                  8              8  \n",
       "9                  9              9  \n",
       "10                10             10  \n",
       "11                11             11  \n",
       "12                12             12  \n",
       "13                13             13  \n",
       "14                14             14  \n",
       "15                15             15  \n",
       "16                16             16  \n",
       "17                17             17  \n",
       "18                18             18  \n",
       "19                19             19  "
      ]
     },
     "execution_count": 99,
     "metadata": {},
     "output_type": "execute_result"
    }
   ],
   "source": [
    "tree.pandas.df(\"ArrayInt64\", entrystop=20)"
   ]
  },
  {
   "cell_type": "markdown",
   "metadata": {},
   "source": [
    "## Multiple values per event: leaf-lists\n",
    "\n",
    "Another of ROOT's fundamental TBranch types is a \"[leaf-list](https://root.cern.ch/root/htmldoc/guides/users-guide/Trees.html#adding-a-branch-to-hold-a-list-of-variables),\" or a TBranch with multiple TLeaves. (**Note:** in ROOT terminology, \"TBranch\" is a data structure that usually points to data in TBaskets and \"TLeaf\" is the _data type_ descriptor. TBranches and TLeaves have no relationship to the interior and endpoints of a tree structure in computer science.)\n",
    "\n",
    "The Numpy analogue of a leaf-list is a [structured array](https://docs.scipy.org/doc/numpy/user/basics.rec.html), a [dtype](https://docs.scipy.org/doc/numpy/reference/arrays.dtypes.html) with named fields, which is Numpy's view into a C array of structs (with or without padding)."
   ]
  },
  {
   "cell_type": "code",
   "execution_count": 100,
   "metadata": {},
   "outputs": [
    {
     "data": {
      "text/plain": [
       "array([(1.1, 1,  97), (2.2, 2,  98), (3.3, 3,  99), (4. , 4, 100),\n",
       "       (5.5, 5, 101)], dtype=[('x', '<f8'), ('y', '<i4'), ('z', 'i1')])"
      ]
     },
     "execution_count": 100,
     "metadata": {},
     "output_type": "execute_result"
    }
   ],
   "source": [
    "tree = uproot.open(\"https://scikit-hep.org/uproot/examples/leaflist.root\")[\"tree\"]\n",
    "array = tree.array(\"leaflist\")\n",
    "array"
   ]
  },
  {
   "cell_type": "markdown",
   "metadata": {},
   "source": [
    "This array is presented as an array of tuples, though it's actually a contiguous block of memory with floating point numbers (`\"x\"`), integers (`\"y\"`), and single characters (`\"z\"`) adjacent to each other."
   ]
  },
  {
   "cell_type": "code",
   "execution_count": 101,
   "metadata": {},
   "outputs": [
    {
     "data": {
      "text/plain": [
       "(1.1, 1, 97)"
      ]
     },
     "execution_count": 101,
     "metadata": {},
     "output_type": "execute_result"
    }
   ],
   "source": [
    "array[0]"
   ]
  },
  {
   "cell_type": "code",
   "execution_count": 102,
   "metadata": {},
   "outputs": [
    {
     "data": {
      "text/plain": [
       "array([1.1, 2.2, 3.3, 4. , 5.5])"
      ]
     },
     "execution_count": 102,
     "metadata": {},
     "output_type": "execute_result"
    }
   ],
   "source": [
    "array[\"x\"]"
   ]
  },
  {
   "cell_type": "code",
   "execution_count": 103,
   "metadata": {},
   "outputs": [
    {
     "data": {
      "text/plain": [
       "array([1, 2, 3, 4, 5], dtype=int32)"
      ]
     },
     "execution_count": 103,
     "metadata": {},
     "output_type": "execute_result"
    }
   ],
   "source": [
    "array[\"y\"]"
   ]
  },
  {
   "cell_type": "code",
   "execution_count": 104,
   "metadata": {},
   "outputs": [
    {
     "data": {
      "text/plain": [
       "array([ 97,  98,  99, 100, 101], dtype=int8)"
      ]
     },
     "execution_count": 104,
     "metadata": {},
     "output_type": "execute_result"
    }
   ],
   "source": [
    "array[\"z\"]"
   ]
  },
  {
   "cell_type": "markdown",
   "metadata": {},
   "source": [
    "The [dtype](https://docs.scipy.org/doc/numpy/reference/arrays.dtypes.html) for this array defines the field stucture. Its [item size](https://docs.scipy.org/doc/numpy/reference/generated/numpy.ndarray.itemsize.html) is `8 + 4 + 1 = 13`, not a power of 2, as arrays of primitive types are."
   ]
  },
  {
   "cell_type": "code",
   "execution_count": 105,
   "metadata": {},
   "outputs": [
    {
     "data": {
      "text/plain": [
       "dtype([('x', '<f8'), ('y', '<i4'), ('z', 'i1')])"
      ]
     },
     "execution_count": 105,
     "metadata": {},
     "output_type": "execute_result"
    }
   ],
   "source": [
    "array.dtype"
   ]
  },
  {
   "cell_type": "code",
   "execution_count": 106,
   "metadata": {},
   "outputs": [
    {
     "data": {
      "text/plain": [
       "13"
      ]
     },
     "execution_count": 106,
     "metadata": {},
     "output_type": "execute_result"
    }
   ],
   "source": [
    "array.dtype.itemsize"
   ]
  },
  {
   "cell_type": "markdown",
   "metadata": {},
   "source": [
    "ROOT TBranches may have multiple values per event _and_ a leaf-list structure, and [Numpy arrays](https://docs.scipy.org/doc/numpy/reference/generated/numpy.array.html) may have non-trivial shape _and_ [dtype fields](https://docs.scipy.org/doc/numpy/reference/arrays.dtypes.html), so the translation between ROOT and Numpy is one-to-one."
   ]
  },
  {
   "cell_type": "markdown",
   "metadata": {},
   "source": [
    "Leaf-list TBranches are exploded into one column per field when viewed as a [pandas.DataFrame](https://pandas.pydata.org/pandas-docs/stable/reference/api/pandas.DataFrame.html)."
   ]
  },
  {
   "cell_type": "code",
   "execution_count": 107,
   "metadata": {},
   "outputs": [
    {
     "data": {
      "text/html": [
       "<div>\n",
       "<style scoped>\n",
       "    .dataframe tbody tr th:only-of-type {\n",
       "        vertical-align: middle;\n",
       "    }\n",
       "\n",
       "    .dataframe tbody tr th {\n",
       "        vertical-align: top;\n",
       "    }\n",
       "\n",
       "    .dataframe thead th {\n",
       "        text-align: right;\n",
       "    }\n",
       "</style>\n",
       "<table border=\"1\" class=\"dataframe\">\n",
       "  <thead>\n",
       "    <tr style=\"text-align: right;\">\n",
       "      <th></th>\n",
       "      <th>leaflist.x</th>\n",
       "      <th>leaflist.y</th>\n",
       "      <th>leaflist.z</th>\n",
       "    </tr>\n",
       "    <tr>\n",
       "      <th>entry</th>\n",
       "      <th></th>\n",
       "      <th></th>\n",
       "      <th></th>\n",
       "    </tr>\n",
       "  </thead>\n",
       "  <tbody>\n",
       "    <tr>\n",
       "      <th>0</th>\n",
       "      <td>1.1</td>\n",
       "      <td>1</td>\n",
       "      <td>97</td>\n",
       "    </tr>\n",
       "    <tr>\n",
       "      <th>1</th>\n",
       "      <td>2.2</td>\n",
       "      <td>2</td>\n",
       "      <td>98</td>\n",
       "    </tr>\n",
       "    <tr>\n",
       "      <th>2</th>\n",
       "      <td>3.3</td>\n",
       "      <td>3</td>\n",
       "      <td>99</td>\n",
       "    </tr>\n",
       "    <tr>\n",
       "      <th>3</th>\n",
       "      <td>4.0</td>\n",
       "      <td>4</td>\n",
       "      <td>100</td>\n",
       "    </tr>\n",
       "    <tr>\n",
       "      <th>4</th>\n",
       "      <td>5.5</td>\n",
       "      <td>5</td>\n",
       "      <td>101</td>\n",
       "    </tr>\n",
       "  </tbody>\n",
       "</table>\n",
       "</div>"
      ],
      "text/plain": [
       "       leaflist.x  leaflist.y  leaflist.z\n",
       "entry                                    \n",
       "0             1.1           1          97\n",
       "1             2.2           2          98\n",
       "2             3.3           3          99\n",
       "3             4.0           4         100\n",
       "4             5.5           5         101"
      ]
     },
     "execution_count": 107,
     "metadata": {},
     "output_type": "execute_result"
    }
   ],
   "source": [
    "tree.pandas.df(\"leaflist\")"
   ]
  },
  {
   "cell_type": "markdown",
   "metadata": {},
   "source": [
    "The **flatname** parameter determines how fixed-width arrays and field names are translated into Pandas names; the default is `uproot._connect._pandas.default_flatname` (a function from **branchname** _(str)_, **fieldname** _(str)_, **index** _(int)_ to Pandas column name _(str)_)."
   ]
  },
  {
   "cell_type": "markdown",
   "metadata": {},
   "source": [
    "## Multiple values per event: jagged arrays\n",
    "\n",
    "In physics data, it is even more common to have an arbitrary number of values per event than a fixed number of values per event. Consider, for instance, particles produced in a collision, tracks in a jet, hits on a track, etc.\n",
    "\n",
    "Unlike fixed-width arrays and a fixed number of fields per element, Numpy has no analogue for this type. It is fundamentally outside of Numpy's scope because Numpy describes rectangular tables of data. As we have seen above, Pandas has some support for this so-called \"jagged\" (sometimes \"ragged\") data, but only through manipulation of its index ([pandas.MultiIndex](https://pandas.pydata.org/pandas-docs/stable/user_guide/advanced.html)), not the data themselves.\n",
    "\n",
    "For this, uproot fills a new `JaggedArray` data structure (from the awkward-array library, like `ChunkedArray` and `VirtualArray`)."
   ]
  },
  {
   "cell_type": "code",
   "execution_count": 108,
   "metadata": {},
   "outputs": [
    {
     "data": {
      "text/plain": [
       "<JaggedArray [[] [1] [2 2] ... [17 17 17 ... 17 17 17] [18 18 18 ... 18 18 18] [19 19 19 ... 19 19 19]] at 0x7ac11614ae10>"
      ]
     },
     "execution_count": 108,
     "metadata": {},
     "output_type": "execute_result"
    }
   ],
   "source": [
    "tree = uproot.open(\"https://scikit-hep.org/uproot/examples/nesteddirs.root\")[\"one/two/tree\"]\n",
    "array = tree.array(\"SliceInt64\", entrystop=20)\n",
    "array"
   ]
  },
  {
   "cell_type": "markdown",
   "metadata": {},
   "source": [
    "These `JaggedArrays` are made of [Numpy arrays](https://docs.scipy.org/doc/numpy/reference/generated/numpy.array.html) and follow the same [Numpy slicing rules](https://docs.scipy.org/doc/numpy/reference/arrays.indexing.html), including [advanced indexing](https://docs.scipy.org/doc/numpy/reference/arrays.indexing.html#advanced-indexing).\n",
    "\n",
    "Awkward-array generalizes Numpy in many ways—details can be found [in its documentation](https://github.com/scikit-hep/awkward-array)."
   ]
  },
  {
   "cell_type": "code",
   "execution_count": 109,
   "metadata": {},
   "outputs": [
    {
     "data": {
      "text/plain": [
       "array([0, 1, 2, 3, 4, 5, 6, 7, 8, 9, 0, 1, 2, 3, 4, 5, 6, 7, 8, 9])"
      ]
     },
     "execution_count": 109,
     "metadata": {},
     "output_type": "execute_result"
    }
   ],
   "source": [
    "array.counts"
   ]
  },
  {
   "cell_type": "code",
   "execution_count": 110,
   "metadata": {},
   "outputs": [
    {
     "data": {
      "text/plain": [
       "array([ 1,  2,  2,  3,  3,  3,  4,  4,  4,  4,  5,  5,  5,  5,  5,  6,  6,\n",
       "        6,  6,  6,  6,  7,  7,  7,  7,  7,  7,  7,  8,  8,  8,  8,  8,  8,\n",
       "        8,  8,  9,  9,  9,  9,  9,  9,  9,  9,  9, 11, 12, 12, 13, 13, 13,\n",
       "       14, 14, 14, 14, 15, 15, 15, 15, 15, 16, 16, 16, 16, 16, 16, 17, 17,\n",
       "       17, 17, 17, 17, 17, 18, 18, 18, 18, 18, 18, 18, 18, 19, 19, 19, 19,\n",
       "       19, 19, 19, 19, 19])"
      ]
     },
     "execution_count": 110,
     "metadata": {},
     "output_type": "execute_result"
    }
   ],
   "source": [
    "array.flatten()"
   ]
  },
  {
   "cell_type": "code",
   "execution_count": 111,
   "metadata": {},
   "outputs": [
    {
     "data": {
      "text/plain": [
       "<JaggedArray [[] [1] [2 2] [3 3 3] [4 4 4 4] [5 5 5 5 5]] at 0x7ac1160f18d0>"
      ]
     },
     "execution_count": 111,
     "metadata": {},
     "output_type": "execute_result"
    }
   ],
   "source": [
    "array[:6]"
   ]
  },
  {
   "cell_type": "code",
   "execution_count": 112,
   "metadata": {},
   "outputs": [
    {
     "data": {
      "text/plain": [
       "array([ 2,  3,  4,  5,  6,  7,  8,  9, 12, 13, 14, 15, 16, 17, 18, 19])"
      ]
     },
     "execution_count": 112,
     "metadata": {},
     "output_type": "execute_result"
    }
   ],
   "source": [
    "array[array.counts > 1, 0]"
   ]
  },
  {
   "cell_type": "markdown",
   "metadata": {},
   "source": [
    "Here is an example of `JaggedArrays` in physics data:"
   ]
  },
  {
   "cell_type": "code",
   "execution_count": 113,
   "metadata": {},
   "outputs": [],
   "source": [
    "events2 = uproot.open(\"https://scikit-hep.org/uproot/examples/HZZ.root\")[\"events\"]"
   ]
  },
  {
   "cell_type": "code",
   "execution_count": 114,
   "metadata": {},
   "outputs": [
    {
     "data": {
      "text/plain": [
       "<JaggedArray [[54.7795 39.401695] [31.690445] [54.739788 47.488857] ... [62.39516] [174.20863] [69.55621]] at 0x7ac115fad128>"
      ]
     },
     "execution_count": 114,
     "metadata": {},
     "output_type": "execute_result"
    }
   ],
   "source": [
    "E, px, py, pz = events2.arrays([\"Muon_E\", \"Muon_P[xyz]\"], outputtype=tuple)\n",
    "E"
   ]
  },
  {
   "cell_type": "code",
   "execution_count": 115,
   "metadata": {},
   "outputs": [
    {
     "data": {
      "text/plain": [
       "<JaggedArray [[54.7794 39.401554] [31.69027] [54.739685 47.48874] ... [62.395073] [174.2086] [69.55613]] at 0x7ac1160214e0>"
      ]
     },
     "execution_count": 115,
     "metadata": {},
     "output_type": "execute_result"
    }
   ],
   "source": [
    "pt = numpy.sqrt(px**2 + py**2)\n",
    "p = numpy.sqrt(px**2 + py**2 + pz**2)\n",
    "p"
   ]
  },
  {
   "cell_type": "code",
   "execution_count": 116,
   "metadata": {},
   "outputs": [
    {
     "data": {
      "text/plain": [
       "<JaggedArray [[-0.15009262 -0.29527554] [0.7538137] [0.2069292 1.0412954] ... [-1.2350469] [1.6653312] [1.0626991]] at 0x7ac116021ac8>"
      ]
     },
     "execution_count": 116,
     "metadata": {},
     "output_type": "execute_result"
    }
   ],
   "source": [
    "eta = numpy.log((p + pz)/(p - pz))/2\n",
    "eta"
   ]
  },
  {
   "cell_type": "code",
   "execution_count": 117,
   "metadata": {},
   "outputs": [
    {
     "data": {
      "text/plain": [
       "<JaggedArray [[-2.9247396 0.01837404] [-1.6042395] [-0.41738483 1.5430332] ... [-2.666572] [1.552847] [-0.980149]] at 0x7ac115f5ccc0>"
      ]
     },
     "execution_count": 117,
     "metadata": {},
     "output_type": "execute_result"
    }
   ],
   "source": [
    "phi = numpy.arctan2(py, px)\n",
    "phi"
   ]
  },
  {
   "cell_type": "code",
   "execution_count": 118,
   "metadata": {},
   "outputs": [
    {
     "data": {
      "text/plain": [
       "array([2, 1, 2, ..., 1, 1, 1])"
      ]
     },
     "execution_count": 118,
     "metadata": {},
     "output_type": "execute_result"
    }
   ],
   "source": [
    "pt.counts"
   ]
  },
  {
   "cell_type": "code",
   "execution_count": 119,
   "metadata": {},
   "outputs": [
    {
     "data": {
      "text/plain": [
       "array([54.168106, 37.744152, 24.417913, ..., 33.461536, 63.619816,\n",
       "       42.93995 ], dtype=float32)"
      ]
     },
     "execution_count": 119,
     "metadata": {},
     "output_type": "execute_result"
    }
   ],
   "source": [
    "pt.flatten()"
   ]
  },
  {
   "cell_type": "code",
   "execution_count": 120,
   "metadata": {},
   "outputs": [
    {
     "data": {
      "text/plain": [
       "<JaggedArray [[54.168106 37.744152] [24.417913] [53.58827 29.811996] [88.63194 77.951485] [81.011406 47.175045] [41.591053 30.844215]] at 0x7ac116021748>"
      ]
     },
     "execution_count": 120,
     "metadata": {},
     "output_type": "execute_result"
    }
   ],
   "source": [
    "pt[:6]"
   ]
  },
  {
   "cell_type": "markdown",
   "metadata": {},
   "source": [
    "Note that if you want to histogram the inner contents of these arrays (i.e. histogram of particles, ignoring event boundaries), functions like [numpy.histogram](https://docs.scipy.org/doc/numpy/reference/generated/numpy.histogram.html) require non-jagged arrays, so flatten them with a call to `.flatten()`.\n",
    "\n",
    "To select elements of inner lists (Pandas's [DataFrame.xs](https://pandas.pydata.org/pandas-docs/stable/reference/api/pandas.DataFrame.xs.html)), first require the list to have at least that many elements."
   ]
  },
  {
   "cell_type": "code",
   "execution_count": 121,
   "metadata": {},
   "outputs": [
    {
     "data": {
      "text/plain": [
       "array([54.168106, 53.58827 , 88.63194 , ..., 58.38824 , 61.645054,\n",
       "       44.971596], dtype=float32)"
      ]
     },
     "execution_count": 121,
     "metadata": {},
     "output_type": "execute_result"
    }
   ],
   "source": [
    "pt[pt.counts > 1, 0]"
   ]
  },
  {
   "cell_type": "markdown",
   "metadata": {},
   "source": [
    "`JaggedArrays` of booleans select from inner lists (i.e. put a cut on particles):"
   ]
  },
  {
   "cell_type": "code",
   "execution_count": 122,
   "metadata": {},
   "outputs": [
    {
     "data": {
      "text/plain": [
       "<JaggedArray [[True False] [False] [True False] ... [False] [True] [False]] at 0x7ac115f5c438>"
      ]
     },
     "execution_count": 122,
     "metadata": {},
     "output_type": "execute_result"
    }
   ],
   "source": [
    "pt > 50"
   ]
  },
  {
   "cell_type": "code",
   "execution_count": 123,
   "metadata": {},
   "outputs": [
    {
     "data": {
      "text/plain": [
       "<JaggedArray [[-0.15009262] [] [0.2069292] ... [] [1.6653312] []] at 0x7ac116021780>"
      ]
     },
     "execution_count": 123,
     "metadata": {},
     "output_type": "execute_result"
    }
   ],
   "source": [
    "eta[pt > 50]"
   ]
  },
  {
   "cell_type": "markdown",
   "metadata": {},
   "source": [
    "And Numpy arrays of booleans select from outer lists (i.e. put a cut on events):"
   ]
  },
  {
   "cell_type": "code",
   "execution_count": 124,
   "metadata": {},
   "outputs": [
    {
     "data": {
      "text/plain": [
       "<JaggedArray [[-0.15009262 -0.29527554] [0.2069292 1.0412954] [2.2215228 2.1647348] ... [0.23674133 0.49973577] [-0.38897678 -0.013611516] [1.6653312]] at 0x7ac115f5c550>"
      ]
     },
     "execution_count": 124,
     "metadata": {},
     "output_type": "execute_result"
    }
   ],
   "source": [
    "eta[pt.max() > 50]"
   ]
  },
  {
   "cell_type": "markdown",
   "metadata": {},
   "source": [
    "Reducers like `count`, `sum`, `min`, `max`, `any` (boolean), or `all` (boolean) apply per-event, turning a `JaggedArray` into a Numpy array."
   ]
  },
  {
   "cell_type": "code",
   "execution_count": 125,
   "metadata": {},
   "outputs": [
    {
     "data": {
      "text/plain": [
       "array([54.168106, 24.417913, 53.58827 , ..., 33.461536, 63.619816,\n",
       "       42.93995 ], dtype=float32)"
      ]
     },
     "execution_count": 125,
     "metadata": {},
     "output_type": "execute_result"
    }
   ],
   "source": [
    "pt.max()"
   ]
  },
  {
   "cell_type": "markdown",
   "metadata": {},
   "source": [
    "You can even do combinatorics, such as `a.cross(b)` to compute the Cartesian product of `a` and `b` per event, or `a.choose(n)` to choose `n` distinct combinations of elements per event."
   ]
  },
  {
   "cell_type": "code",
   "execution_count": 126,
   "metadata": {},
   "outputs": [
    {
     "data": {
      "text/plain": [
       "<JaggedArray [[(54.168106, 37.744152)] [] [(53.58827, 29.811996)] ... [] [] []] at 0x7ac115f3d048>"
      ]
     },
     "execution_count": 126,
     "metadata": {},
     "output_type": "execute_result"
    }
   ],
   "source": [
    "pt.choose(2)"
   ]
  },
  {
   "cell_type": "markdown",
   "metadata": {},
   "source": [
    "Some of these functions have \"arg\" versions that return integers, which can be used in indexing."
   ]
  },
  {
   "cell_type": "code",
   "execution_count": 127,
   "metadata": {},
   "outputs": [
    {
     "data": {
      "text/plain": [
       "<JaggedArray [[1] [0] [1] ... [0] [0] [0]] at 0x7ac1a8343da0>"
      ]
     },
     "execution_count": 127,
     "metadata": {},
     "output_type": "execute_result"
    }
   ],
   "source": [
    "abs(eta).argmax()"
   ]
  },
  {
   "cell_type": "code",
   "execution_count": 128,
   "metadata": {},
   "outputs": [
    {
     "data": {
      "text/plain": [
       "<JaggedArray [[(0, 1)] [] [(0, 1)] ... [] [] []] at 0x7ac1a8c25f60>"
      ]
     },
     "execution_count": 128,
     "metadata": {},
     "output_type": "execute_result"
    }
   ],
   "source": [
    "pairs = pt.argchoose(2)\n",
    "pairs"
   ]
  },
  {
   "cell_type": "code",
   "execution_count": 129,
   "metadata": {},
   "outputs": [
    {
     "data": {
      "text/plain": [
       "(<JaggedArray [[0] [] [0] ... [] [] []] at 0x7ac115f5c1d0>,\n",
       " <JaggedArray [[1] [] [1] ... [] [] []] at 0x7ac115f5c400>)"
      ]
     },
     "execution_count": 129,
     "metadata": {},
     "output_type": "execute_result"
    }
   ],
   "source": [
    "left  = pairs.i0\n",
    "right = pairs.i1\n",
    "left, right"
   ]
  },
  {
   "cell_type": "markdown",
   "metadata": {},
   "source": [
    "Masses of unique pairs of muons, for events that have them:"
   ]
  },
  {
   "cell_type": "code",
   "execution_count": 130,
   "metadata": {},
   "outputs": [
    {
     "data": {
      "text/plain": [
       "<JaggedArray [[90.227806] [] [74.746544] ... [] [] []] at 0x7ac1a83ee828>"
      ]
     },
     "execution_count": 130,
     "metadata": {},
     "output_type": "execute_result"
    }
   ],
   "source": [
    "masses = numpy.sqrt((E[left] + E[right])**2 - (px[left] + px[right])**2 -\n",
    "                    (py[left] + py[right])**2 - (pz[left] + pz[right])**2)\n",
    "masses"
   ]
  },
  {
   "cell_type": "code",
   "execution_count": 131,
   "metadata": {},
   "outputs": [
    {
     "data": {
      "image/png": "[encoded data removed]",
      "text/plain": [
       "<Figure size 432x288 with 1 Axes>"
      ]
     },
     "metadata": {
      "needs_background": "light"
     },
     "output_type": "display_data"
    }
   ],
   "source": [
    "counts, edges = numpy.histogram(masses.flatten(), bins=120, range=(0, 120))\n",
    "\n",
    "matplotlib.pyplot.step(x=edges, y=numpy.append(counts, 0), where=\"post\");\n",
    "matplotlib.pyplot.xlim(edges[0], edges[-1]);\n",
    "matplotlib.pyplot.ylim(0, counts.max() * 1.1);\n",
    "matplotlib.pyplot.xlabel(\"mass\");\n",
    "matplotlib.pyplot.ylabel(\"events per bin\");"
   ]
  },
  {
   "cell_type": "markdown",
   "metadata": {},
   "source": [
    "## Jagged array performance\n",
    "\n",
    "`JaggedArrays` are compact in memory and fast to read. Whereas [root_numpy](https://pypi.org/project/root-numpy/) reads data like `std::vector<float>` per event into a Numpy array of Numpy arrays (Numpy's object `\"O\"` [dtype](https://docs.scipy.org/doc/numpy/reference/arrays.dtypes.html)), which has data locality issues, `JaggedArray` consists of two contiguous arrays: one containing content (the `floats`) and the other representing structure via `offsets` (random access) or `counts`."
   ]
  },
  {
   "cell_type": "code",
   "execution_count": 132,
   "metadata": {},
   "outputs": [
    {
     "data": {
      "text/plain": [
       "array([90.227806, 74.746544, 89.75766 , ..., 92.06495 , 85.44384 ,\n",
       "       75.96062 ], dtype=float32)"
      ]
     },
     "execution_count": 132,
     "metadata": {},
     "output_type": "execute_result"
    }
   ],
   "source": [
    "masses.content"
   ]
  },
  {
   "cell_type": "code",
   "execution_count": 133,
   "metadata": {},
   "outputs": [
    {
     "data": {
      "text/plain": [
       "array([   0,    1,    1, ..., 1521, 1521, 1521])"
      ]
     },
     "execution_count": 133,
     "metadata": {},
     "output_type": "execute_result"
    }
   ],
   "source": [
    "masses.offsets"
   ]
  },
  {
   "cell_type": "code",
   "execution_count": 134,
   "metadata": {},
   "outputs": [
    {
     "data": {
      "text/plain": [
       "array([1, 0, 1, ..., 0, 0, 0])"
      ]
     },
     "execution_count": 134,
     "metadata": {},
     "output_type": "execute_result"
    }
   ],
   "source": [
    "masses.counts"
   ]
  },
  {
   "cell_type": "markdown",
   "metadata": {},
   "source": [
    "Fortunately, ROOT files are themselves structured this way, with variable-width data represented by contents and offsets in a TBasket. These arrays do not need to be deserialized individually, but can be merely cast as Numpy arrays in one Python call. The lack of per-event processing is why reading in uproot and processing data with awkward-array can be fast, despite being written in Python.\n",
    "\n",
    "<br>\n",
    "\n",
    "<center><img src=\"https://raw.githubusercontent.com/scikit-hep/uproot/master/docs/logscales.png\" width=\"75%\"></center>"
   ]
  },
  {
   "cell_type": "markdown",
   "metadata": {},
   "source": [
    "## Special physics objects: Lorentz vectors\n",
    "\n",
    "Although any C++ type can in principle be read (see below), some are important enough to be given convenience methods for analysis. These are not defined in uproot (which is strictly concerned with I/O), but in [uproot-methods](https://github.com/scikit-hep/uproot-methods). If you need certain classes to have user-friendly methods in Python, you're encouraged to contribute them to [uproot-methods](https://github.com/scikit-hep/uproot-methods).\n",
    "\n",
    "One of these classes is `TLorentzVectorArray`, which defines an _array_ of Lorentz vectors."
   ]
  },
  {
   "cell_type": "code",
   "execution_count": 135,
   "metadata": {},
   "outputs": [],
   "source": [
    "events3 = uproot.open(\"https://scikit-hep.org/uproot/examples/HZZ-objects.root\")[\"events\"]"
   ]
  },
  {
   "cell_type": "code",
   "execution_count": 136,
   "metadata": {},
   "outputs": [
    {
     "data": {
      "text/plain": [
       "<JaggedArrayMethods [[TLorentzVector(x=-52.899, y=-11.655, z=-8.1608, t=54.779) TLorentzVector(x=37.738, y=0.69347, z=-11.308, t=39.402)] [TLorentzVector(x=-0.81646, y=-24.404, z=20.2, t=31.69)] [TLorentzVector(x=48.988, y=-21.723, z=11.168, t=54.74) TLorentzVector(x=0.82757, y=29.801, z=36.965, t=47.489)] ... [TLorentzVector(x=-29.757, y=-15.304, z=-52.664, t=62.395)] [TLorentzVector(x=1.1419, y=63.61, z=162.18, t=174.21)] [TLorentzVector(x=23.913, y=-35.665, z=54.719, t=69.556)]] at 0x7ac115ec03c8>"
      ]
     },
     "execution_count": 136,
     "metadata": {},
     "output_type": "execute_result"
    }
   ],
   "source": [
    "muons = events3.array(\"muonp4\")\n",
    "muons"
   ]
  },
  {
   "cell_type": "markdown",
   "metadata": {},
   "source": [
    "In the print-out, these appear to be Python objects, but they're high-performance arrays that are only turned into objects when you look at individuals."
   ]
  },
  {
   "cell_type": "code",
   "execution_count": 137,
   "metadata": {},
   "outputs": [
    {
     "data": {
      "text/plain": [
       "(uproot_methods.classes.TLorentzVector.TLorentzVector,\n",
       " TLorentzVector(x=-52.899, y=-11.655, z=-8.1608, t=54.779))"
      ]
     },
     "execution_count": 137,
     "metadata": {},
     "output_type": "execute_result"
    }
   ],
   "source": [
    "muon = muons[0, 0]\n",
    "type(muon), muon"
   ]
  },
  {
   "cell_type": "markdown",
   "metadata": {},
   "source": [
    "This object has all the usual kinematics methods,"
   ]
  },
  {
   "cell_type": "code",
   "execution_count": 138,
   "metadata": {},
   "outputs": [
    {
     "data": {
      "text/plain": [
       "0.10559298741436905"
      ]
     },
     "execution_count": 138,
     "metadata": {},
     "output_type": "execute_result"
    }
   ],
   "source": [
    "muon.mass"
   ]
  },
  {
   "cell_type": "code",
   "execution_count": 139,
   "metadata": {},
   "outputs": [
    {
     "data": {
      "text/plain": [
       "-2.9431136434497858"
      ]
     },
     "execution_count": 139,
     "metadata": {},
     "output_type": "execute_result"
    }
   ],
   "source": [
    "muons[0, 0].delta_phi(muons[0, 1])"
   ]
  },
  {
   "cell_type": "markdown",
   "metadata": {},
   "source": [
    "But an array of Lorentz vectors also has these methods, and they are computed in bulk (faster than creating each object and calling the method on each)."
   ]
  },
  {
   "cell_type": "code",
   "execution_count": 140,
   "metadata": {},
   "outputs": [
    {
     "name": "stderr",
     "output_type": "stream",
     "text": [
      "/home/jpivarski/miniconda3/lib/python3.7/site-packages/uproot_methods-0.7.2-py3.7.egg/uproot_methods/classes/TLorentzVector.py:189: RuntimeWarning: invalid value encountered in sqrt\n",
      "  return self._trymemo(\"mass\", lambda self: self.awkward.numpy.sqrt(self.mag2))\n"
     ]
    },
    {
     "data": {
      "text/plain": [
       "<JaggedArray [[0.10559298741436905 0.10545247041042287] [0.105499240400313] [0.10696309110601164 0.10513788128369116] ... [0.1054382466674704] [0.0975059956172863] [0.10447224169767522]] at 0x7ac115ebaef0>"
      ]
     },
     "execution_count": 140,
     "metadata": {},
     "output_type": "execute_result"
    }
   ],
   "source": [
    "muons.mass   # some mass**2 are slightly negative, hence the Numpy warning about negative square roots"
   ]
  },
  {
   "cell_type": "markdown",
   "metadata": {},
   "source": [
    "(**Note:** if you don't want to see Numpy warnings, use [numpy.seterr](https://docs.scipy.org/doc/numpy/reference/generated/numpy.seterr.html).)"
   ]
  },
  {
   "cell_type": "code",
   "execution_count": 141,
   "metadata": {},
   "outputs": [
    {
     "data": {
      "text/plain": [
       "<JaggedArray [[2.9466923822257822] [] [2.1305881273993306] ... [] [] []] at 0x7ac11616cc88>"
      ]
     },
     "execution_count": 141,
     "metadata": {},
     "output_type": "execute_result"
    }
   ],
   "source": [
    "pairs = muons.choose(2)\n",
    "lefts  = pairs.i0\n",
    "rights = pairs.i1\n",
    "lefts.delta_r(rights)"
   ]
  },
  {
   "cell_type": "markdown",
   "metadata": {},
   "source": [
    "TBranches with C++ class `TLorentzVector` are automatically converted into `TLorentzVectorArrays`. Although they're in wide use, the C++ `TLorentzVector` class is deprecated in favor of [ROOT::Math::LorentzVector](https://root.cern/doc/v612/classROOT_1_1Math_1_1LorentzVector.html). Unlike the old class, the new vectors can be represented with a variety of data types and coordinate systems, and they're split into multiple branches, so uproot sees them as four branches, each representing the components.\n",
    "\n",
    "You can still use the `TLorentzVectorArray` Python class; you just need to use a special constructor to build the object from its branches."
   ]
  },
  {
   "cell_type": "code",
   "execution_count": 142,
   "metadata": {},
   "outputs": [],
   "source": [
    "# Suppose you have four component branches...\n",
    "E, px, py, pz = events2.arrays([\"Muon_E\", \"Muon_P[xyz]\"], outputtype=tuple)"
   ]
  },
  {
   "cell_type": "code",
   "execution_count": 143,
   "metadata": {},
   "outputs": [
    {
     "data": {
      "text/plain": [
       "<JaggedArrayMethods [[TLorentzVector(x=-52.899, y=-11.655, z=-8.1608, t=54.779) TLorentzVector(x=37.738, y=0.69347, z=-11.308, t=39.402)] [TLorentzVector(x=-0.81646, y=-24.404, z=20.2, t=31.69)] [TLorentzVector(x=48.988, y=-21.723, z=11.168, t=54.74) TLorentzVector(x=0.82757, y=29.801, z=36.965, t=47.489)] ... [TLorentzVector(x=-29.757, y=-15.304, z=-52.664, t=62.395)] [TLorentzVector(x=1.1419, y=63.61, z=162.18, t=174.21)] [TLorentzVector(x=23.913, y=-35.665, z=54.719, t=69.556)]] at 0x7ac10fe63908>"
      ]
     },
     "execution_count": 143,
     "metadata": {},
     "output_type": "execute_result"
    }
   ],
   "source": [
    "import uproot_methods\n",
    "\n",
    "array = uproot_methods.TLorentzVectorArray.from_cartesian(px, py, pz, E)\n",
    "array"
   ]
  },
  {
   "cell_type": "markdown",
   "metadata": {},
   "source": [
    "There are constructors for different coordinate systems. Internally, `TLorentzVectorArray` uses the coordinates you give it and only converts to other systems on demand."
   ]
  },
  {
   "cell_type": "code",
   "execution_count": 144,
   "metadata": {},
   "outputs": [
    {
     "data": {
      "text/plain": [
       "['from_cartesian',\n",
       " 'from_cylindrical',\n",
       " 'from_p3',\n",
       " 'from_ptetaphi',\n",
       " 'from_ptetaphie',\n",
       " 'from_ptetaphim',\n",
       " 'from_spherical',\n",
       " 'from_xyzm']"
      ]
     },
     "execution_count": 144,
     "metadata": {},
     "output_type": "execute_result"
    }
   ],
   "source": [
    "[x for x in dir(uproot_methods.TLorentzVectorArray) if x.startswith(\"from_\")]"
   ]
  },
  {
   "cell_type": "markdown",
   "metadata": {},
   "source": [
    "## Variable-width values: strings\n",
    "\n",
    "Strings are another fundamental type. In C++, they may be `char*`, `std::string`, or `TString`, but all string types are converted (on demand) to the same Python string type."
   ]
  },
  {
   "cell_type": "code",
   "execution_count": 145,
   "metadata": {},
   "outputs": [
    {
     "data": {
      "text/plain": [
       "<ObjectArray [b'hey-0' b'hey-1' b'hey-2' ... b'hey-27' b'hey-28' b'hey-29'] at 0x7ac109e0efd0>"
      ]
     },
     "execution_count": 145,
     "metadata": {},
     "output_type": "execute_result"
    }
   ],
   "source": [
    "branch = uproot.open(\"https://scikit-hep.org/uproot/examples/sample-6.14.00-zlib.root\")[\"sample\"][\"str\"]\n",
    "branch.array()"
   ]
  },
  {
   "cell_type": "markdown",
   "metadata": {},
   "source": [
    "As with most strings from ROOT, they are unencoded bytestrings (see the `b` before each quote). Since they're not names, there's no **namedecode**, but they can be decoded as needed using the usual Python method."
   ]
  },
  {
   "cell_type": "code",
   "execution_count": 146,
   "metadata": {},
   "outputs": [
    {
     "data": {
      "text/plain": [
       "['hey-0',\n",
       " 'hey-1',\n",
       " 'hey-2',\n",
       " 'hey-3',\n",
       " 'hey-4',\n",
       " 'hey-5',\n",
       " 'hey-6',\n",
       " 'hey-7',\n",
       " 'hey-8',\n",
       " 'hey-9',\n",
       " 'hey-10',\n",
       " 'hey-11',\n",
       " 'hey-12',\n",
       " 'hey-13',\n",
       " 'hey-14',\n",
       " 'hey-15',\n",
       " 'hey-16',\n",
       " 'hey-17',\n",
       " 'hey-18',\n",
       " 'hey-19',\n",
       " 'hey-20',\n",
       " 'hey-21',\n",
       " 'hey-22',\n",
       " 'hey-23',\n",
       " 'hey-24',\n",
       " 'hey-25',\n",
       " 'hey-26',\n",
       " 'hey-27',\n",
       " 'hey-28',\n",
       " 'hey-29']"
      ]
     },
     "execution_count": 146,
     "metadata": {},
     "output_type": "execute_result"
    }
   ],
   "source": [
    "[x.decode(\"utf-8\") for x in branch.array()]"
   ]
  },
  {
   "cell_type": "markdown",
   "metadata": {},
   "source": [
    "## Arbitrary objects in TTrees\n",
    "\n",
    "Uproot does not have a hard-coded deserialization for every C++ class type; it uses the \"streamers\" that ROOT includes in each file to learn how to deserialize the objects in that file. Even if you defined your own C++ classes, uproot should be able to read them. (**Caveat:** not all structure types have been implemented, so the coverage of C++ types is a work in progress.)\n",
    "\n",
    "In some cases, the deserialization is simplified by the fact that ROOT has \"split\" the objects. Instead of seeing a `JaggedArray` of objects, you see a `JaggedArray` of each attribute separately, such as the components of a [ROOT::Math::LorentzVector](https://root.cern/doc/v612/classROOT_1_1Math_1_1LorentzVector.html).\n",
    "\n",
    "In the example below, `Track` objects under `fTracks` have been split into `fTracks.fUniqueID`, `fTracks.fBits`, `fTracks.fPx`, `fTracks.fPy`, `fTracks.fPz`, etc."
   ]
  },
  {
   "cell_type": "code",
   "execution_count": 150,
   "metadata": {},
   "outputs": [
    {
     "name": "stdout",
     "output_type": "stream",
     "text": [
      "--2019-12-18 07:20:26--  https://scikit-hep.org/uproot/examples/Event.root\n",
      "Resolving scikit-hep.org (scikit-hep.org)... 185.199.109.153, 185.199.108.153, 185.199.111.153, ...\n",
      "Connecting to scikit-hep.org (scikit-hep.org)|185.199.109.153|:443... connected.\n",
      "HTTP request sent, awaiting response... 200 OK\n",
      "Length: 37533466 (36M) [application/octet-stream]\n",
      "Saving to: ‘Event.root’\n",
      "\n",
      "Event.root          100%[===================>]  35.79M  3.63MB/s    in 11s     \n",
      "\n",
      "2019-12-18 07:20:37 (3.35 MB/s) - ‘Event.root’ saved [37533466/37533466]\n",
      "\n"
     ]
    }
   ],
   "source": [
    "!wget https://scikit-hep.org/uproot/examples/Event.root"
   ]
  },
  {
   "cell_type": "code",
   "execution_count": 151,
   "metadata": {},
   "outputs": [
    {
     "name": "stdout",
     "output_type": "stream",
     "text": [
      "event                      TStreamerInfo              None\n",
      "TObject                    TStreamerInfo              None\n",
      "fUniqueID                  TStreamerBasicType         asdtype('>u4')\n",
      "fBits                      TStreamerBasicType         asdtype('>u4')\n",
      "\n",
      "fType[20]                  TStreamerBasicType         asdtype(\"('i1', (20,))\")\n",
      "fEventName                 TStreamerBasicType         asstring(4)\n",
      "fNtrack                    TStreamerBasicType         asdtype('>i4')\n",
      "fNseg                      TStreamerBasicType         asdtype('>i4')\n",
      "fNvertex                   TStreamerBasicType         asdtype('>u4')\n",
      "fFlag                      TStreamerBasicType         asdtype('>u4')\n",
      "fTemperature               TStreamerBasicType         asdtype('>f4', 'float64')\n",
      "fMeasures[10]              TStreamerBasicType         asdtype(\"('>i4', (10,))\")\n",
      "fMatrix[4][4]              TStreamerBasicType         asdtype(\"('>f4', (4, 4))\", \"('<f8', (4, 4))\")\n",
      "fClosestDistance           TStreamerBasicPointer      None\n",
      "fEvtHdr                    TStreamerObjectAny         None\n",
      "fEvtHdr.fEvtNum            TStreamerBasicType         asdtype('>i4')\n",
      "fEvtHdr.fRun               TStreamerBasicType         asdtype('>i4')\n",
      "fEvtHdr.fDate              TStreamerBasicType         asdtype('>i4')\n",
      "\n",
      "fTracks                    TStreamerObjectPointer     None\n",
      "fTracks.fUniqueID          TStreamerBasicType         asjagged(asdtype('>u4'))\n",
      "fTracks.fBits              TStreamerBasicType         asjagged(asdtype('>u4'))\n",
      "fTracks.fPx                TStreamerBasicType         asjagged(asdtype('>f4'))\n",
      "fTracks.fPy                TStreamerBasicType         asjagged(asdtype('>f4'))\n",
      "fTracks.fPz                TStreamerBasicType         asjagged(asdtype('>f4'))\n",
      "fTracks.fRandom            TStreamerBasicType         asjagged(asdtype('>f4'))\n",
      "fTracks.fMass2             TStreamerBasicType         asjagged(asfloat16(0.0, 0.0, 8, dtype([('exponent', 'u1'), ('mantissa', '>u2')]), dtype('float32')))\n",
      "fTracks.fBx                TStreamerBasicType         asjagged(asfloat16(0.0, 0.0, 10, dtype([('exponent', 'u1'), ('mantissa', '>u2')]), dtype('float32')))\n",
      "fTracks.fBy                TStreamerBasicType         asjagged(asfloat16(0.0, 0.0, 10, dtype([('exponent', 'u1'), ('mantissa', '>u2')]), dtype('float32')))\n",
      "fTracks.fMeanCharge        TStreamerBasicType         asjagged(asdtype('>f4'))\n",
      "fTracks.fXfirst            TStreamerBasicType         asjagged(asfloat16(0, 0, 12, dtype([('exponent', 'u1'), ('mantissa', '>u2')]), dtype('float32')))\n",
      "fTracks.fXlast             TStreamerBasicType         asjagged(asfloat16(0, 0, 12, dtype([('exponent', 'u1'), ('mantissa', '>u2')]), dtype('float32')))\n",
      "fTracks.fYfirst            TStreamerBasicType         asjagged(asfloat16(0, 0, 12, dtype([('exponent', 'u1'), ('mantissa', '>u2')]), dtype('float32')))\n",
      "fTracks.fYlast             TStreamerBasicType         asjagged(asfloat16(0, 0, 12, dtype([('exponent', 'u1'), ('mantissa', '>u2')]), dtype('float32')))\n",
      "fTracks.fZfirst            TStreamerBasicType         asjagged(asfloat16(0, 0, 12, dtype([('exponent', 'u1'), ('mantissa', '>u2')]), dtype('float32')))\n",
      "fTracks.fZlast             TStreamerBasicType         asjagged(asfloat16(0, 0, 12, dtype([('exponent', 'u1'), ('mantissa', '>u2')]), dtype('float32')))\n",
      "fTracks.fCharge            TStreamerBasicType         asjagged(asdouble32(-1.0, 1.0, 2, dtype('>u4'), dtype('float64')))\n",
      "fTracks.fVertex[3]         TStreamerBasicType         asjagged(asdouble32(-30.0, 30.0, 16, dtype(('>u4', (3,))), dtype(('<f8', (3,)))))\n",
      "fTracks.fNpoint            TStreamerBasicType         asjagged(asdtype('>i4'))\n",
      "fTracks.fValid             TStreamerBasicType         asjagged(asdtype('>i2'))\n",
      "fTracks.fNsp               TStreamerBasicType         asjagged(asdtype('>u4'))\n",
      "fTracks.fPointValue        TStreamerBasicPointer      None\n",
      "fTracks.fTriggerBits.fUniqueID\n",
      "                           TStreamerBasicType         asjagged(asdtype('>u4'))\n",
      "fTracks.fTriggerBits.fBits TStreamerBasicType         asjagged(asdtype('>u4'))\n",
      "fTracks.fTriggerBits.fNbits\n",
      "                           TStreamerBasicType         asjagged(asdtype('>u4'))\n",
      "fTracks.fTriggerBits.fNbytes\n",
      "                           TStreamerBasicType         asjagged(asdtype('>u4'))\n",
      "fTracks.fTriggerBits.fAllBits\n",
      "                           TStreamerBasicPointer      asjagged(asdtype('uint8'), 1)\n",
      "fTracks.fTArray[3]         TStreamerBasicType         asjagged(asdtype(\"('>f4', (3,))\"))\n",
      "\n",
      "fHighPt                    TStreamerObjectPointer     asgenobj(TRefArray)\n",
      "fMuons                     TStreamerObjectPointer     asgenobj(TRefArray)\n",
      "fLastTrack                 TStreamerInfo              asobj(<uproot.rootio.TRef>)\n",
      "fWebHistogram              TStreamerInfo              asobj(<uproot.rootio.TRef>)\n",
      "fH                         TStreamerObjectPointer     asgenobj(TH1F)\n",
      "fTriggerBits               TStreamerInfo              None\n",
      "fTriggerBits.TObject       (no streamer)              None\n",
      "fTriggerBits.fUniqueID     TStreamerBasicType         asdtype('>u4')\n",
      "fTriggerBits.fBits         TStreamerBasicType         asdtype('>u4')\n",
      "\n",
      "fTriggerBits.fNbits        TStreamerBasicType         asdtype('>u4')\n",
      "fTriggerBits.fNbytes       TStreamerBasicType         asdtype('>u4')\n",
      "fTriggerBits.fAllBits      TStreamerBasicPointer      asjagged(asdtype('uint8'), 1)\n",
      "\n",
      "fIsValid                   TStreamerBasicType         asdtype('bool')\n",
      "\n"
     ]
    }
   ],
   "source": [
    "tree = uproot.open(\"Event.root\")[\"T\"]\n",
    "tree.show()"
   ]
  },
  {
   "cell_type": "markdown",
   "metadata": {},
   "source": [
    "In this view, many of the attributes are _not_ special classes and can be read as arrays of numbers,"
   ]
  },
  {
   "cell_type": "code",
   "execution_count": 152,
   "metadata": {},
   "outputs": [
    {
     "data": {
      "text/plain": [
       "array([20.28261757, 20.47114182, 20.5931778 , 20.5848484 , 20.80287933,\n",
       "       20.2972393 , 20.30301666, 20.87490845, 20.56552505, 20.67128181,\n",
       "       20.74524879, 20.85200119, 20.26188469, 20.82903862, 20.02412415,\n",
       "       20.97918129, 20.71551132, 20.60189629, 20.11310196, 20.53161049])"
      ]
     },
     "execution_count": 152,
     "metadata": {},
     "output_type": "execute_result"
    }
   ],
   "source": [
    "tree.array(\"fTemperature\", entrystop=20)"
   ]
  },
  {
   "cell_type": "markdown",
   "metadata": {},
   "source": [
    "as arrays of fixed-width matrices,"
   ]
  },
  {
   "cell_type": "code",
   "execution_count": 153,
   "metadata": {},
   "outputs": [
    {
     "data": {
      "text/plain": [
       "array([[[ 1.54053164,  0.09474282,  1.52469206,  0.        ],\n",
       "        [-0.13630907,  0.80078429,  1.70623565,  0.        ],\n",
       "        [-1.16029346,  2.012362  ,  4.02206421,  0.        ],\n",
       "        [ 0.        ,  0.        ,  0.        ,  0.        ]],\n",
       "\n",
       "       [[ 0.41865557,  1.60363352, -0.56923842,  0.        ],\n",
       "        [ 0.06950195,  0.79105824,  2.0322361 ,  0.        ],\n",
       "        [ 0.05688119,  2.52811217,  3.91394544,  0.        ],\n",
       "        [ 0.        ,  0.        ,  0.        ,  0.        ]],\n",
       "\n",
       "       [[-1.24031985,  2.3477006 , -0.67482847,  0.        ],\n",
       "        [ 1.22933233,  1.39499295,  2.17524433,  0.        ],\n",
       "        [ 0.18559125,  2.40421987,  4.56326485,  0.        ],\n",
       "        [ 0.        ,  0.        ,  0.        ,  0.        ]],\n",
       "\n",
       "       [[-0.43785933, -0.05061727,  0.28988785,  0.        ],\n",
       "        [-0.90204114,  0.88527524,  2.34751844,  0.        ],\n",
       "        [ 0.3241719 ,  0.79971647,  4.13229847,  0.        ],\n",
       "        [ 0.        ,  0.        ,  0.        ,  0.        ]],\n",
       "\n",
       "       [[-0.98912323,  0.97513503,  1.03762376,  0.        ],\n",
       "        [-0.96955669, -0.05892833,  3.02420664,  0.        ],\n",
       "        [ 1.10181248,  3.31268907,  6.04244947,  0.        ],\n",
       "        [ 0.        ,  0.        ,  0.        ,  0.        ]],\n",
       "\n",
       "       [[ 1.1283927 ,  1.20095801,  0.7379719 ,  0.        ],\n",
       "        [ 0.32370013,  1.08198583,  2.96736264,  0.        ],\n",
       "        [ 1.19329214,  2.01726198,  3.93975949,  0.        ],\n",
       "        [ 0.        ,  0.        ,  0.        ,  0.        ]]])"
      ]
     },
     "execution_count": 153,
     "metadata": {},
     "output_type": "execute_result"
    }
   ],
   "source": [
    "tree.array(\"fMatrix[4][4]\", entrystop=6)"
   ]
  },
  {
   "cell_type": "markdown",
   "metadata": {},
   "source": [
    "as jagged arrays (of ROOT's \"Float16_t\" encoding),"
   ]
  },
  {
   "cell_type": "code",
   "execution_count": 154,
   "metadata": {},
   "outputs": [
    {
     "data": {
      "text/plain": [
       "<JaggedArray [[4.5 4.5 4.5 ... 4.5 4.5 4.5] [4.5 4.5 4.5 ... 4.5 4.5 4.5] [8.90625 8.90625 8.90625 ... 8.90625 8.90625 8.90625] [8.90625 8.90625 8.90625 ... 8.90625 8.90625 8.90625] [8.90625 8.90625 8.90625 ... 8.90625 8.90625 8.90625] [4.5 4.5 4.5 ... 4.5 4.5 4.5]] at 0x7ac105a13588>"
      ]
     },
     "execution_count": 154,
     "metadata": {},
     "output_type": "execute_result"
    }
   ],
   "source": [
    "tree.array(\"fTracks.fMass2\", entrystop=6)"
   ]
  },
  {
   "cell_type": "markdown",
   "metadata": {},
   "source": [
    "or as jagged arrays of fixed arrays (of ROOT's \"Double32_t\" encoding),"
   ]
  },
  {
   "cell_type": "code",
   "execution_count": 155,
   "metadata": {},
   "outputs": [
    {
     "data": {
      "text/plain": [
       "<JaggedArray [[[8.783523 17.513435 29.286354] [12.712547 18.882881 32.797363] [11.507339 19.916798 30.246092] ... [10.574707 18.890305 33.728233] [12.15555 18.71774 27.312075] [9.859776 19.74885 29.493528]] [[11.219862 21.20887 30.624903] [11.040182 24.79719 31.77871] [10.012672 20.93199 30.9403] ... [11.168169 23.217058 32.748943] [9.50235 21.121288 31.071629] [10.8550205 16.183943 26.904243]] [[8.624067 18.600851 26.04787] [10.689135 20.227545 29.83834] [11.296425 21.689695 27.481518] ... [10.669026 17.53861 27.396368] [10.695017 21.800402 29.768854] [9.190737 19.556316 30.239576]] [[10.730627 21.374237 29.189438] [10.917027 17.502947 24.684587] [10.719291 15.140461 30.947819] ... [11.342936 21.652617 30.104565] [10.155848 19.01908 31.161093] [9.246191 18.550188 29.727875]] [[11.012184 18.038168 25.433424] [9.5870495 19.802078 30.07635] [10.900804 19.059767 28.11974] ... [10.958439 19.644995 24.516222] [9.493415 19.871706 30.69776] [9.26706 21.658216 36.870094]] [[10.6818 23.174397 32.048332] [9.386814 19.217764 30.706171] [11.497931 16.519543 29.432865] ... [11.120119 20.196941 29.856403] [12.256461 21.39977 27.87131] [10.704875 20.647184 29.791487]]] at 0x7ac105a1c2b0>"
      ]
     },
     "execution_count": 155,
     "metadata": {},
     "output_type": "execute_result"
    }
   ],
   "source": [
    "tree.array(\"fTracks.fTArray[3]\", entrystop=6)"
   ]
  },
  {
   "cell_type": "markdown",
   "metadata": {},
   "source": [
    "However, some types are not fully split by ROOT and have to be deserialized individually (not vectorally). This example includes _histograms_ in the TTree, and histograms are sufficiently complex that they cannot be split."
   ]
  },
  {
   "cell_type": "code",
   "execution_count": 156,
   "metadata": {},
   "outputs": [
    {
     "data": {
      "text/plain": [
       "<ObjectArray [<b'TH1F' b'hstat' 0x7ac105a8a9a8> <b'TH1F' b'hstat' 0x7ac105a8a9f8> <b'TH1F' b'hstat' 0x7ac105a8a7c8> <b'TH1F' b'hstat' 0x7ac105a8a9a8> <b'TH1F' b'hstat' 0x7ac105a8a9f8> <b'TH1F' b'hstat' 0x7ac105a8a7c8>] at 0x7ac116114438>"
      ]
     },
     "execution_count": 156,
     "metadata": {},
     "output_type": "execute_result"
    }
   ],
   "source": [
    "tree.array(\"fH\", entrystop=6)"
   ]
  },
  {
   "cell_type": "markdown",
   "metadata": {},
   "source": [
    "Each of those is a standard histogram object, something that would ordinarily be in a `TDirectory`, not a `TTree`. It has histogram convenience methods (see below)."
   ]
  },
  {
   "cell_type": "code",
   "execution_count": 157,
   "metadata": {},
   "outputs": [
    {
     "name": "stdout",
     "output_type": "stream",
     "text": [
      "b'Event Histogram'\n",
      "[0. 0. 0. 0. 0. 0. 0. 0. 0. 0. 0. 0. 0. 0. 0. 0. 0. 0. 0. 0. 0. 0. 0. 0.\n",
      " 0. 0. 0. 0. 1. 0. 0. 0. 0. 0. 0. 0. 0. 0. 0. 0. 0. 0. 0. 0. 0. 0. 0. 0.\n",
      " 0. 0. 0. 0. 0. 0. 0. 0. 0. 0. 0. 0. 0. 0. 0. 0. 0. 0. 0. 0. 0. 0. 0. 0.\n",
      " 0. 0. 0. 0. 0. 0. 0. 0. 0. 0. 0. 0. 0. 0. 0. 0. 0. 0. 0. 0. 0. 0. 0. 0.\n",
      " 0. 0. 0. 0.]\n",
      "b'Event Histogram'\n",
      "[0. 0. 0. 0. 0. 0. 0. 0. 0. 0. 0. 0. 0. 0. 0. 0. 0. 0. 0. 0. 0. 0. 0. 0.\n",
      " 0. 0. 0. 0. 1. 0. 0. 0. 0. 0. 0. 0. 0. 0. 0. 0. 0. 0. 0. 0. 0. 0. 0. 1.\n",
      " 0. 0. 0. 0. 0. 0. 0. 0. 0. 0. 0. 0. 0. 0. 0. 0. 0. 0. 0. 0. 0. 0. 0. 0.\n",
      " 0. 0. 0. 0. 0. 0. 0. 0. 0. 0. 0. 0. 0. 0. 0. 0. 0. 0. 0. 0. 0. 0. 0. 0.\n",
      " 0. 0. 0. 0.]\n",
      "b'Event Histogram'\n",
      "[0. 0. 0. 0. 0. 0. 0. 0. 0. 0. 0. 0. 0. 0. 0. 0. 0. 0. 0. 0. 0. 0. 0. 0.\n",
      " 0. 0. 0. 0. 1. 0. 0. 0. 0. 0. 0. 0. 0. 0. 0. 0. 0. 0. 0. 0. 0. 0. 0. 1.\n",
      " 0. 0. 0. 0. 0. 0. 0. 0. 0. 0. 0. 1. 0. 0. 0. 0. 0. 0. 0. 0. 0. 0. 0. 0.\n",
      " 0. 0. 0. 0. 0. 0. 0. 0. 0. 0. 0. 0. 0. 0. 0. 0. 0. 0. 0. 0. 0. 0. 0. 0.\n",
      " 0. 0. 0. 0.]\n",
      "\n",
      "...\n",
      "\n",
      "b'Event Histogram'\n",
      "[14. 18. 14. 11. 15. 13. 12. 13.  8.  8.  9. 10. 10.  7.  7. 10.  8. 12.\n",
      "  6.  8.  7.  9. 10. 12. 10. 11. 10. 10. 10.  8. 14. 13.  9.  7. 12. 10.\n",
      "  7.  6.  9. 13. 11.  8. 10.  9.  7.  4.  7. 10.  8.  8.  9.  9.  7. 12.\n",
      " 11.  9. 10.  7. 10. 13. 13. 11.  9.  9.  8.  8. 10. 12.  7.  5.  9. 10.\n",
      " 12. 13. 10. 14. 10. 10.  8. 12. 12. 11. 16. 12.  8. 12.  7.  9.  8.  7.\n",
      " 10.  7. 11. 11.  8. 13.  9.  8. 14. 16.]\n",
      "b'Event Histogram'\n",
      "[14. 18. 14. 11. 15. 13. 12. 13.  8.  8.  9. 10. 10.  7.  8. 10.  8. 12.\n",
      "  6.  8.  7.  9. 10. 12. 10. 11. 10. 10. 10.  8. 14. 13.  9.  7. 12. 10.\n",
      "  7.  6.  9. 13. 11.  8. 10.  9.  7.  4.  7. 10.  8.  8.  9.  9.  7. 12.\n",
      " 11.  9. 10.  7. 10. 13. 13. 11.  9.  9.  8.  8. 10. 12.  7.  5.  9. 10.\n",
      " 12. 13. 10. 14. 10. 10.  8. 12. 12. 11. 16. 12.  8. 12.  7.  9.  8.  7.\n",
      " 10.  7. 11. 11.  8. 13.  9.  8. 14. 16.]\n",
      "b'Event Histogram'\n",
      "[14. 18. 14. 11. 15. 13. 12. 13.  8.  8.  9. 10. 10.  7.  8. 10.  8. 12.\n",
      "  6.  8.  7.  9. 10. 12. 10. 11. 10. 10. 10.  8. 14. 13.  9.  7. 12. 10.\n",
      "  7.  6.  9. 13. 11.  8. 10.  9.  7.  4.  7. 10.  8.  8.  9.  9.  7. 12.\n",
      " 11.  9. 10.  7. 10. 13. 13. 11.  9.  9.  8.  8. 10. 12.  7.  5.  9. 10.\n",
      " 12. 13. 10. 14. 10. 10.  8. 12. 12. 11. 16. 12.  8. 12.  7.  9.  9.  7.\n",
      " 10.  7. 11. 11.  8. 13.  9.  8. 14. 16.]\n"
     ]
    }
   ],
   "source": [
    "for histogram in tree.array(\"fH\", entrystop=3):\n",
    "    print(histogram.title)\n",
    "    print(histogram.values)\n",
    "print(\"\\n...\\n\")\n",
    "for histogram in tree.array(\"fH\", entrystart=-3):\n",
    "    print(histogram.title)\n",
    "    print(histogram.values)"
   ]
  },
  {
   "cell_type": "markdown",
   "metadata": {},
   "source": [
    "The criteria for whether an object can be read vectorially in Numpy (fast) or individually in Python (slow) is whether it has a fixed width—all objects having the same number of bytes—or a variable width. You can see this in the TBranch's `interpretation` as the distinction between [uproot.asobj](https://uproot.readthedocs.io/en/latest/interpretation.html#uproot-interp-objects-asobj) (fixed width, vector read) and [uproot.asgenobj](https://uproot.readthedocs.io/en/latest/interpretation.html#uproot-interp-objects-asgenobj) (variable width, read into Python objects)."
   ]
  },
  {
   "cell_type": "code",
   "execution_count": 158,
   "metadata": {},
   "outputs": [
    {
     "data": {
      "text/plain": [
       "asjagged(asobj(<uproot_methods.classes.TLorentzVector.Methods>), 10)"
      ]
     },
     "execution_count": 158,
     "metadata": {},
     "output_type": "execute_result"
    }
   ],
   "source": [
    "# TLorentzVectors all have the same number of fixed width components, so they can be read vectorially.\n",
    "events3[\"muonp4\"].interpretation"
   ]
  },
  {
   "cell_type": "code",
   "execution_count": 159,
   "metadata": {},
   "outputs": [
    {
     "data": {
      "text/plain": [
       "asgenobj(TH1F)"
      ]
     },
     "execution_count": 159,
     "metadata": {},
     "output_type": "execute_result"
    }
   ],
   "source": [
    "# Histograms contain name strings and variable length lists, so they must be read as Python objects.\n",
    "tree[\"fH\"].interpretation"
   ]
  },
  {
   "cell_type": "markdown",
   "metadata": {},
   "source": [
    "## Doubly nested jagged arrays (i.e. `std::vector<std::vector<T>>`)\n",
    "\n",
    "Variable length lists are an exception to the above—up to one level of depth. This is why `JaggedArrays`, representing types such as `std::vector<T>` for a fixed-width `T`, can be read vectorially. Unfortunately, the same does not apply to doubly nested jagged arrays, such as `std::vector<std::vector<T>>`."
   ]
  },
  {
   "cell_type": "code",
   "execution_count": 160,
   "metadata": {},
   "outputs": [
    {
     "data": {
      "text/plain": [
       "asgenobj(STLVector(STLVector(asdtype('>f8'))))"
      ]
     },
     "execution_count": 160,
     "metadata": {},
     "output_type": "execute_result"
    }
   ],
   "source": [
    "branch = uproot.open(\"https://scikit-hep.org/uproot/examples/vectorVectorDouble.root\")[\"t\"][\"x\"]\n",
    "branch.interpretation"
   ]
  },
  {
   "cell_type": "code",
   "execution_count": 161,
   "metadata": {},
   "outputs": [
    {
     "data": {
      "text/plain": [
       "b'vector<vector<double> >'"
      ]
     },
     "execution_count": 161,
     "metadata": {},
     "output_type": "execute_result"
    }
   ],
   "source": [
    "branch._streamer._fTypeName"
   ]
  },
  {
   "cell_type": "code",
   "execution_count": 162,
   "metadata": {},
   "outputs": [
    {
     "data": {
      "text/plain": [
       "<ObjectArray [[] [[], []] [[10.0], [], [10.0, 20.0]] [[20.0, -21.0, -22.0]] [[200.0], [-201.0], [202.0]]] at 0x7ac1059fbf28>"
      ]
     },
     "execution_count": 162,
     "metadata": {},
     "output_type": "execute_result"
    }
   ],
   "source": [
    "array = branch.array()\n",
    "array"
   ]
  },
  {
   "cell_type": "markdown",
   "metadata": {},
   "source": [
    "Although you see something that looks like a `JaggedArray`, the type is `ObjectArray`, meaning that you only have some bytes with an auto-generated prescription for turning them into Python objects (from the \"streamers,\" self-describing the ROOT file). You can't apply the usual `JaggedArray` slicing."
   ]
  },
  {
   "cell_type": "code",
   "execution_count": 163,
   "metadata": {},
   "outputs": [],
   "source": [
    "try:\n",
    "    array[array.counts > 0, 0]\n",
    "except Exception as err:\n",
    "    print(type(err), err)"
   ]
  },
  {
   "cell_type": "markdown",
   "metadata": {},
   "source": [
    "To get `JaggedArray` semantics, use `awkward.fromiter` to convert the arbitrary Python objects into awkward-arrays."
   ]
  },
  {
   "cell_type": "code",
   "execution_count": 164,
   "metadata": {},
   "outputs": [
    {
     "data": {
      "text/plain": [
       "<JaggedArray [[] [[] []] [[10.0] [] [10.0 20.0]] [[20.0 -21.0 -22.0]] [[200.0] [-201.0] [202.0]]] at 0x7ac1059fbb38>"
      ]
     },
     "execution_count": 164,
     "metadata": {},
     "output_type": "execute_result"
    }
   ],
   "source": [
    "jagged = awkward.fromiter(array)\n",
    "jagged"
   ]
  },
  {
   "cell_type": "code",
   "execution_count": 165,
   "metadata": {},
   "outputs": [
    {
     "data": {
      "text/plain": [
       "<JaggedArray [[] [10.0] [20.0 -21.0 -22.0] [200.0]] at 0x7ac105a4a668>"
      ]
     },
     "execution_count": 165,
     "metadata": {},
     "output_type": "execute_result"
    }
   ],
   "source": [
    "jagged[jagged.counts > 0, 0]"
   ]
  },
  {
   "cell_type": "markdown",
   "metadata": {},
   "source": [
    "Doubly nested `JaggedArrays` are a native type in awkward-array: they can be any number of levels deep."
   ]
  },
  {
   "cell_type": "code",
   "execution_count": 166,
   "metadata": {},
   "outputs": [
    {
     "data": {
      "text/plain": [
       "<JaggedArray [[] [] [10.0] ... [200.0] [-201.0] [202.0]] at 0x7ac105a4a828>"
      ]
     },
     "execution_count": 166,
     "metadata": {},
     "output_type": "execute_result"
    }
   ],
   "source": [
    "jagged.flatten()"
   ]
  },
  {
   "cell_type": "code",
   "execution_count": 167,
   "metadata": {},
   "outputs": [
    {
     "data": {
      "text/plain": [
       "array([  10.,   10.,   20.,   20.,  -21.,  -22.,  200., -201.,  202.])"
      ]
     },
     "execution_count": 167,
     "metadata": {},
     "output_type": "execute_result"
    }
   ],
   "source": [
    "jagged.flatten().flatten()"
   ]
  },
  {
   "cell_type": "code",
   "execution_count": 168,
   "metadata": {},
   "outputs": [
    {
     "data": {
      "text/plain": [
       "<JaggedArray [[] [0.0 0.0] [10.0 0.0 30.0] [-23.0] [200.0 -201.0 202.0]] at 0x7ac105a4c400>"
      ]
     },
     "execution_count": 168,
     "metadata": {},
     "output_type": "execute_result"
    }
   ],
   "source": [
    "jagged.sum()"
   ]
  },
  {
   "cell_type": "code",
   "execution_count": 169,
   "metadata": {},
   "outputs": [
    {
     "data": {
      "text/plain": [
       "array([  0.,   0.,  40., -23., 201.])"
      ]
     },
     "execution_count": 169,
     "metadata": {},
     "output_type": "execute_result"
    }
   ],
   "source": [
    "jagged.sum().sum()"
   ]
  },
  {
   "cell_type": "markdown",
   "metadata": {},
   "source": [
    "# Parallel array reading\n",
    "\n",
    "Uproot supports reading, deserialization, and array-building in parallel. All of the array-reading functions have **executor** and **blocking** parameters:\n",
    "\n",
    "   * **executor:** a Python 3 [Executor](https://docs.python.org/3/library/concurrent.futures.html) object, which schedules and runs tasks in parallel;\n",
    "   * **blocking:** if `True` _(default)_, the array-reading function blocks (waits) until the result is ready, then returns it. If `False`, it immediately returns a zero-argument function that, when called, blocks until the result is ready. This zero-argument function is a simple type of \"future.\""
   ]
  },
  {
   "cell_type": "code",
   "execution_count": 170,
   "metadata": {},
   "outputs": [
    {
     "data": {
      "text/plain": [
       "<function uproot.tree.TBranchMethods.array.<locals>.wait()>"
      ]
     },
     "execution_count": 170,
     "metadata": {},
     "output_type": "execute_result"
    }
   ],
   "source": [
    "import concurrent.futures\n",
    "\n",
    "# ThreadPoolExecutor divides work among multiple threads.\n",
    "# Avoid ProcessPoolExecutor because the finalized arrays would have to be reserialized to pass between processes.\n",
    "executor = concurrent.futures.ThreadPoolExecutor()\n",
    "\n",
    "result = tree.array(\"fTracks.fVertex[3]\", executor=executor, blocking=False)\n",
    "result"
   ]
  },
  {
   "cell_type": "markdown",
   "metadata": {},
   "source": [
    "We can work on other things while the array is being read."
   ]
  },
  {
   "cell_type": "code",
   "execution_count": 171,
   "metadata": {},
   "outputs": [
    {
     "data": {
      "text/plain": [
       "<JaggedArray [[[-0.11444091796875 -0.11993408203125 -7.8790283203125] [0.032958984375 -0.0604248046875 -1.27349853515625] [0.13458251953125 0.0439453125 -1.783447265625] ... [0.194091796875 0.07049560546875 0.7598876953125] [-0.09521484375 0.106201171875 -6.62384033203125] [-0.025634765625 -0.010986328125 18.3343505859375]] [[-0.1080322265625 -0.1116943359375 -3.52203369140625] [-0.0732421875 0.24078369140625 3.39019775390625] [0.245361328125 0.029296875 -16.171875] ... [0.05126953125 0.07598876953125 12.0721435546875] [-0.1153564453125 -0.19500732421875 7.9541015625] [-0.18951416015625 -0.02838134765625 -6.5277099609375]] [[-0.091552734375 -0.0860595703125 3.54766845703125] [-0.11077880859375 -0.28564453125 -1.1297607421875] [0.05126953125 -0.2801513671875 -1.7523193359375] ... [-0.02197265625 0.05859375 -8.671875] [-0.0164794921875 -0.1409912109375 -0.22613525390625] [-0.03753662109375 -0.05767822265625 21.66046142578125]] ... [[-0.0128173828125 0.2215576171875 -3.21258544921875] [0.0054931640625 -0.25360107421875 0.53466796875] [-0.025634765625 -0.025634765625 6.6522216796875] ... [0.02105712890625 -0.16387939453125 -1.446533203125] [0.07232666015625 0.44952392578125 -16.16455078125] [0.0823974609375 -0.08056640625 9.9444580078125]] [[0.01373291015625 -0.06500244140625 -3.680419921875] [-0.05767822265625 -0.01922607421875 -2.92510986328125] [0.06317138671875 -0.20782470703125 -11.5118408203125] ... [0.00823974609375 -0.0311279296875 -11.839599609375] [-0.09063720703125 -0.047607421875 -10.6365966796875] [0.010986328125 -0.2984619140625 0.7855224609375]] [[0.113525390625 -0.07232666015625 4.2095947265625] [-0.142822265625 0.205078125 8.75152587890625] [0.04119873046875 0.02655029296875 2.4114990234375] ... [0.0531005859375 0.04486083984375 6.5423583984375] [0.09979248046875 0.15380859375 5.4840087890625] [-0.10162353515625 -0.54290771484375 -5.8502197265625]]] at 0x7ac10596de48>"
      ]
     },
     "execution_count": 171,
     "metadata": {},
     "output_type": "execute_result"
    }
   ],
   "source": [
    "# and now get the array (waiting, if necessary, for it to complete)\n",
    "result()"
   ]
  },
  {
   "cell_type": "markdown",
   "metadata": {},
   "source": [
    "The **executor** and **blocking** parameters are often used together, but they do not have to be. You can collect data in parallel but let the array-reading function block until it is finished:"
   ]
  },
  {
   "cell_type": "code",
   "execution_count": 172,
   "metadata": {},
   "outputs": [
    {
     "data": {
      "text/plain": [
       "<JaggedArray [[[-0.11444091796875 -0.11993408203125 -7.8790283203125] [0.032958984375 -0.0604248046875 -1.27349853515625] [0.13458251953125 0.0439453125 -1.783447265625] ... [0.194091796875 0.07049560546875 0.7598876953125] [-0.09521484375 0.106201171875 -6.62384033203125] [-0.025634765625 -0.010986328125 18.3343505859375]] [[-0.1080322265625 -0.1116943359375 -3.52203369140625] [-0.0732421875 0.24078369140625 3.39019775390625] [0.245361328125 0.029296875 -16.171875] ... [0.05126953125 0.07598876953125 12.0721435546875] [-0.1153564453125 -0.19500732421875 7.9541015625] [-0.18951416015625 -0.02838134765625 -6.5277099609375]] [[-0.091552734375 -0.0860595703125 3.54766845703125] [-0.11077880859375 -0.28564453125 -1.1297607421875] [0.05126953125 -0.2801513671875 -1.7523193359375] ... [-0.02197265625 0.05859375 -8.671875] [-0.0164794921875 -0.1409912109375 -0.22613525390625] [-0.03753662109375 -0.05767822265625 21.66046142578125]] ... [[-0.0128173828125 0.2215576171875 -3.21258544921875] [0.0054931640625 -0.25360107421875 0.53466796875] [-0.025634765625 -0.025634765625 6.6522216796875] ... [0.02105712890625 -0.16387939453125 -1.446533203125] [0.07232666015625 0.44952392578125 -16.16455078125] [0.0823974609375 -0.08056640625 9.9444580078125]] [[0.01373291015625 -0.06500244140625 -3.680419921875] [-0.05767822265625 -0.01922607421875 -2.92510986328125] [0.06317138671875 -0.20782470703125 -11.5118408203125] ... [0.00823974609375 -0.0311279296875 -11.839599609375] [-0.09063720703125 -0.047607421875 -10.6365966796875] [0.010986328125 -0.2984619140625 0.7855224609375]] [[0.113525390625 -0.07232666015625 4.2095947265625] [-0.142822265625 0.205078125 8.75152587890625] [0.04119873046875 0.02655029296875 2.4114990234375] ... [0.0531005859375 0.04486083984375 6.5423583984375] [0.09979248046875 0.15380859375 5.4840087890625] [-0.10162353515625 -0.54290771484375 -5.8502197265625]]] at 0x7ac1059f7208>"
      ]
     },
     "execution_count": 172,
     "metadata": {},
     "output_type": "execute_result"
    }
   ],
   "source": [
    "tree.array(\"fTracks.fVertex[3]\", executor=executor)"
   ]
  },
  {
   "cell_type": "markdown",
   "metadata": {},
   "source": [
    "The other case, non-blocking return without parallel processing (**executor=None** and **blocking=False**) is not very useful because all the work of creating the array would be done on the main thread (meaning: you have to wait) and then you would be returned a zero-argument function to reveal it.\n",
    "\n",
    "   * **executor=None**, **blocking=True**: common case\n",
    "   * **executor=executor**, **blocking=True**: read in parallel, but wait for it to finish\n",
    "   * **executor=executor**, **blocking=False**: read in parallel and immediately return a future\n",
    "   * **executor=None**, **blocking=False**: not useful but not excluded."
   ]
  },
  {
   "cell_type": "markdown",
   "metadata": {},
   "source": [
    "Although parallel processing has been integrated into uproot's design, it only provides a performance improvement in cases that are dominated by read time in non-Python functions. Python's [Global Interpreter Lock](https://realpython.com/python-gil/) (GIL) severely limits parallel scaling of Python calls, but external functions that release the GIL (not all do) are immune.\n",
    "\n",
    "Thus, if reading is slow because the ROOT file has a lot of small TBaskets, requiring uproot to step through them using Python calls, parallelizing that work in many threads has limited benefit because those threads stop and wait for each other due to Python's GIL. If reading is slow because the ROOT file is heavily compressed—for instance, with LZMA—then parallel reading is beneficial and scales well with the number of threads.\n",
    "\n",
    "<center><img src=\"https://raw.githubusercontent.com/scikit-hep/uproot/master/docs/scaling.png\" width=\"75%\"></center>"
   ]
  },
  {
   "cell_type": "markdown",
   "metadata": {},
   "source": [
    "If, on the other other hand, processing time is dominated by your analysis code and not file-reading, then parallelizing the file-reading won't help. Instead, you want to [parallelize your whole analysis](https://sebastianraschka.com/Articles/2014_multiprocessing.html), and a good way to do that in Python is with [multiprocessing](https://docs.python.org/3/library/multiprocessing.html) from the Python Standard Library.\n",
    "\n",
    "If you do split your analysis into multiple processes, you _probably don't_ want to also parallelize the array-reading within each process. It's easy to make performance worse by making it too complicated. Particle physics analysis is usually embarrassingly parallel, well suited to splitting the work into independent tasks, each of which is single-threaded.\n",
    "\n",
    "Another option, of course, is to use a batch system (Condor, Slurm, GRID, etc.). It can be advantageous to parallelize your work across machines with a batch system and across CPU cores with [multiprocessing](https://docs.python.org/3/library/multiprocessing.html)."
   ]
  },
  {
   "cell_type": "markdown",
   "metadata": {},
   "source": [
    "# Histograms, TProfiles, TGraphs, and others\n",
    "\n",
    "TTrees are not the only kinds of objects to analyze in ROOT files; we are also interested in aggregated data in histograms, profiles, and graphs. Uproot uses the ROOT file's \"streamers\" to learn how to deserialize any object, but an anonymous deserialization often isn't useful:"
   ]
  },
  {
   "cell_type": "code",
   "execution_count": 179,
   "metadata": {},
   "outputs": [
    {
     "data": {
      "text/plain": [
       "{b'ProcessID0;1': uproot.rootio.TProcessID,\n",
       " b'htime;1': uproot.rootio.TH1F,\n",
       " b'T;1': uproot.rootio.TTree,\n",
       " b'hstat;1': uproot.rootio.TH1F}"
      ]
     },
     "execution_count": 179,
     "metadata": {},
     "output_type": "execute_result"
    }
   ],
   "source": [
    "file = uproot.open(\"Event.root\")\n",
    "dict(file.classes())"
   ]
  },
  {
   "cell_type": "code",
   "execution_count": 180,
   "metadata": {},
   "outputs": [
    {
     "data": {
      "text/plain": [
       "<TProcessID b'ProcessID0' at 0x7ac1059778d0>"
      ]
     },
     "execution_count": 180,
     "metadata": {},
     "output_type": "execute_result"
    }
   ],
   "source": [
    "processid = file[\"ProcessID0\"]\n",
    "processid"
   ]
  },
  {
   "cell_type": "markdown",
   "metadata": {},
   "source": [
    "What is a `TProcessID`?"
   ]
  },
  {
   "cell_type": "code",
   "execution_count": 181,
   "metadata": {},
   "outputs": [
    {
     "data": {
      "text/plain": [
       "['fName', 'fTitle']"
      ]
     },
     "execution_count": 181,
     "metadata": {},
     "output_type": "execute_result"
    }
   ],
   "source": [
    "processid._members()"
   ]
  },
  {
   "cell_type": "markdown",
   "metadata": {},
   "source": [
    "Something with an `fName` and `fTitle`..."
   ]
  },
  {
   "cell_type": "code",
   "execution_count": 182,
   "metadata": {},
   "outputs": [
    {
     "data": {
      "text/plain": [
       "(b'ProcessID0', b'3ec87674-3aa2-11e9-bb02-0301a8c0beef')"
      ]
     },
     "execution_count": 182,
     "metadata": {},
     "output_type": "execute_result"
    }
   ],
   "source": [
    "processid._fName, processid._fTitle     # note the underscore; these are private members"
   ]
  },
  {
   "cell_type": "markdown",
   "metadata": {},
   "source": [
    "Some C++ classes have Pythonic overloads to make them more useful in Python. Here's a way to find out which ones have been defined so far:"
   ]
  },
  {
   "cell_type": "code",
   "execution_count": 183,
   "metadata": {},
   "outputs": [
    {
     "data": {
      "text/plain": [
       "['TGraph',\n",
       " 'TGraphAsymmErrors',\n",
       " 'TGraphErrors',\n",
       " 'TH1',\n",
       " 'TH2',\n",
       " 'TH3',\n",
       " 'THnSparse',\n",
       " 'TLorentzVector',\n",
       " 'TVector2',\n",
       " 'TVector3']"
      ]
     },
     "execution_count": 183,
     "metadata": {},
     "output_type": "execute_result"
    }
   ],
   "source": [
    "import pkgutil\n",
    "\n",
    "[modname for importer, modname, ispkg in pkgutil.walk_packages(uproot_methods.classes.__path__)]"
   ]
  },
  {
   "cell_type": "markdown",
   "metadata": {},
   "source": [
    "This file contains `TH1F` objects, which is a subclass of `TH1`. The `TH1` methods will extend it."
   ]
  },
  {
   "cell_type": "code",
   "execution_count": 184,
   "metadata": {},
   "outputs": [
    {
     "data": {
      "text/plain": [
       "array([ 0.,  1.,  2.,  3.,  4.,  5.,  6.,  7.,  8.,  9., 10.])"
      ]
     },
     "execution_count": 184,
     "metadata": {},
     "output_type": "execute_result"
    }
   ],
   "source": [
    "file[\"htime\"].edges"
   ]
  },
  {
   "cell_type": "code",
   "execution_count": 185,
   "metadata": {},
   "outputs": [
    {
     "data": {
      "text/plain": [
       "array([0.33352208, 0.30402994, 0.32451916, 0.3509729 , 0.36894202,\n",
       "       0.30728292, 0.30681205, 0.341563  , 0.16150808, 0.        ],\n",
       "      dtype=float32)"
      ]
     },
     "execution_count": 185,
     "metadata": {},
     "output_type": "execute_result"
    }
   ],
   "source": [
    "file[\"htime\"].values"
   ]
  },
  {
   "cell_type": "code",
   "execution_count": 186,
   "metadata": {},
   "outputs": [
    {
     "name": "stdout",
     "output_type": "stream",
     "text": [
      "                   0                                                     0.38739\n",
      "                   +-----------------------------------------------------------+\n",
      "[-inf, 0) 0.021839 |***                                                        |\n",
      "[0, 1)    0.33352  |***************************************************        |\n",
      "[1, 2)    0.30403  |**********************************************             |\n",
      "[2, 3)    0.32452  |*************************************************          |\n",
      "[3, 4)    0.35097  |*****************************************************      |\n",
      "[4, 5)    0.36894  |********************************************************   |\n",
      "[5, 6)    0.30728  |***********************************************            |\n",
      "[6, 7)    0.30681  |***********************************************            |\n",
      "[7, 8)    0.34156  |****************************************************       |\n",
      "[8, 9)    0.16151  |*************************                                  |\n",
      "[9, 10)   0        |                                                           |\n",
      "[10, inf] 0        |                                                           |\n",
      "                   +-----------------------------------------------------------+\n"
     ]
    }
   ],
   "source": [
    "file[\"htime\"].show()"
   ]
  },
  {
   "cell_type": "markdown",
   "metadata": {},
   "source": [
    "The purpose of most of these methods is to extract data, which includes conversion to common Python formats."
   ]
  },
  {
   "cell_type": "code",
   "execution_count": 187,
   "metadata": {},
   "outputs": [
    {
     "name": "stdout",
     "output_type": "stream",
     "text": [
      "                           0                                               41529\n",
      "                           +---------------------------------------------------+\n",
      "(underflow)          0     |                                                   |\n",
      "Dijet                39551 |*************************************************  |\n",
      "MET                  27951 |**********************************                 |\n",
      "MuonVeto             27911 |**********************************                 |\n",
      "IsoMuonTrackVeto     27861 |**********************************                 |\n",
      "ElectronVeto         27737 |**********************************                 |\n",
      "IsoElectronTrackVeto 27460 |**********************************                 |\n",
      "IsoPionTrackVeto     26751 |*********************************                  |\n",
      "(overflow)           0     |                                                   |\n",
      "                           +---------------------------------------------------+\n"
     ]
    }
   ],
   "source": [
    "uproot.open(\"https://scikit-hep.org/uproot/examples/issue33.root\")[\"cutflow\"].show()"
   ]
  },
  {
   "cell_type": "code",
   "execution_count": 188,
   "metadata": {},
   "outputs": [
    {
     "data": {
      "text/html": [
       "<div>\n",
       "<style scoped>\n",
       "    .dataframe tbody tr th:only-of-type {\n",
       "        vertical-align: middle;\n",
       "    }\n",
       "\n",
       "    .dataframe tbody tr th {\n",
       "        vertical-align: top;\n",
       "    }\n",
       "\n",
       "    .dataframe thead th {\n",
       "        text-align: right;\n",
       "    }\n",
       "</style>\n",
       "<table border=\"1\" class=\"dataframe\">\n",
       "  <thead>\n",
       "    <tr style=\"text-align: right;\">\n",
       "      <th></th>\n",
       "      <th>count</th>\n",
       "      <th>variance</th>\n",
       "    </tr>\n",
       "    <tr>\n",
       "      <th>Real-Time to write versus time</th>\n",
       "      <th></th>\n",
       "      <th></th>\n",
       "    </tr>\n",
       "  </thead>\n",
       "  <tbody>\n",
       "    <tr>\n",
       "      <th>[-inf, 0.0)</th>\n",
       "      <td>0.021839</td>\n",
       "      <td>0.000477</td>\n",
       "    </tr>\n",
       "    <tr>\n",
       "      <th>[0.0, 1.0)</th>\n",
       "      <td>0.333522</td>\n",
       "      <td>0.111237</td>\n",
       "    </tr>\n",
       "    <tr>\n",
       "      <th>[1.0, 2.0)</th>\n",
       "      <td>0.304030</td>\n",
       "      <td>0.092434</td>\n",
       "    </tr>\n",
       "    <tr>\n",
       "      <th>[2.0, 3.0)</th>\n",
       "      <td>0.324519</td>\n",
       "      <td>0.105313</td>\n",
       "    </tr>\n",
       "    <tr>\n",
       "      <th>[3.0, 4.0)</th>\n",
       "      <td>0.350973</td>\n",
       "      <td>0.123182</td>\n",
       "    </tr>\n",
       "    <tr>\n",
       "      <th>[4.0, 5.0)</th>\n",
       "      <td>0.368942</td>\n",
       "      <td>0.136118</td>\n",
       "    </tr>\n",
       "    <tr>\n",
       "      <th>[5.0, 6.0)</th>\n",
       "      <td>0.307283</td>\n",
       "      <td>0.094423</td>\n",
       "    </tr>\n",
       "    <tr>\n",
       "      <th>[6.0, 7.0)</th>\n",
       "      <td>0.306812</td>\n",
       "      <td>0.094134</td>\n",
       "    </tr>\n",
       "    <tr>\n",
       "      <th>[7.0, 8.0)</th>\n",
       "      <td>0.341563</td>\n",
       "      <td>0.116665</td>\n",
       "    </tr>\n",
       "    <tr>\n",
       "      <th>[8.0, 9.0)</th>\n",
       "      <td>0.161508</td>\n",
       "      <td>0.026085</td>\n",
       "    </tr>\n",
       "    <tr>\n",
       "      <th>[9.0, 10.0)</th>\n",
       "      <td>0.000000</td>\n",
       "      <td>0.000000</td>\n",
       "    </tr>\n",
       "    <tr>\n",
       "      <th>[10.0, inf)</th>\n",
       "      <td>0.000000</td>\n",
       "      <td>0.000000</td>\n",
       "    </tr>\n",
       "  </tbody>\n",
       "</table>\n",
       "</div>"
      ],
      "text/plain": [
       "                                   count  variance\n",
       "Real-Time to write versus time                    \n",
       "[-inf, 0.0)                     0.021839  0.000477\n",
       "[0.0, 1.0)                      0.333522  0.111237\n",
       "[1.0, 2.0)                      0.304030  0.092434\n",
       "[2.0, 3.0)                      0.324519  0.105313\n",
       "[3.0, 4.0)                      0.350973  0.123182\n",
       "[4.0, 5.0)                      0.368942  0.136118\n",
       "[5.0, 6.0)                      0.307283  0.094423\n",
       "[6.0, 7.0)                      0.306812  0.094134\n",
       "[7.0, 8.0)                      0.341563  0.116665\n",
       "[8.0, 9.0)                      0.161508  0.026085\n",
       "[9.0, 10.0)                     0.000000  0.000000\n",
       "[10.0, inf)                     0.000000  0.000000"
      ]
     },
     "execution_count": 188,
     "metadata": {},
     "output_type": "execute_result"
    }
   ],
   "source": [
    "file[\"htime\"].pandas()"
   ]
  },
  {
   "cell_type": "code",
   "execution_count": 189,
   "metadata": {},
   "outputs": [
    {
     "name": "stdout",
     "output_type": "stream",
     "text": [
      "dependent_variables:\n",
      "- header:\n",
      "    name: counts\n",
      "    units: null\n",
      "  qualifiers: []\n",
      "  values:\n",
      "  - errors:\n",
      "    - label: stat\n",
      "      symerror: 0.33352208137512207\n",
      "    value: 0.33352208137512207\n",
      "  - errors:\n",
      "    - label: stat\n",
      "      symerror: 0.3040299415588379\n",
      "    value: 0.3040299415588379\n",
      "  - errors:\n",
      "    - label: stat\n",
      "      symerror: 0.32451915740966797\n",
      "    value: 0.32451915740966797\n",
      "  - errors:\n",
      "    - label: stat\n",
      "      symerror: 0.35097289085388184\n",
      "    value: 0.35097289085388184\n",
      "  - errors:\n",
      "    - label: stat\n",
      "      symerror: 0.3689420223236084\n",
      "    value: 0.3689420223236084\n",
      "  - errors:\n",
      "    - label: stat\n",
      "      symerror: 0.3072829246520996\n",
      "    value: 0.3072829246520996\n",
      "  - errors:\n",
      "    - label: stat\n",
      "      symerror: 0.306812047958374\n",
      "    value: 0.306812047958374\n",
      "  - errors:\n",
      "    - label: stat\n",
      "      symerror: 0.34156298637390137\n",
      "    value: 0.34156298637390137\n",
      "  - errors:\n",
      "    - label: stat\n",
      "      symerror: 0.16150808334350586\n",
      "    value: 0.16150808334350586\n",
      "  - errors:\n",
      "    - label: stat\n",
      "      symerror: 0.0\n",
      "    value: 0.0\n",
      "independent_variables:\n",
      "- header:\n",
      "    name: Real-Time to write versus time\n",
      "    units: null\n",
      "  values:\n",
      "  - high: 1.0\n",
      "    low: 0.0\n",
      "  - high: 2.0\n",
      "    low: 1.0\n",
      "  - high: 3.0\n",
      "    low: 2.0\n",
      "  - high: 4.0\n",
      "    low: 3.0\n",
      "  - high: 5.0\n",
      "    low: 4.0\n",
      "  - high: 6.0\n",
      "    low: 5.0\n",
      "  - high: 7.0\n",
      "    low: 6.0\n",
      "  - high: 8.0\n",
      "    low: 7.0\n",
      "  - high: 9.0\n",
      "    low: 8.0\n",
      "  - high: 10.0\n",
      "    low: 9.0\n",
      "\n"
     ]
    }
   ],
   "source": [
    "print(file[\"htime\"].hepdata())"
   ]
  },
  {
   "cell_type": "markdown",
   "metadata": {},
   "source": [
    "Numpy histograms, used as a common format through the scientific Python ecosystem, are just a tuple of counts/bin contents and edge positions. (There's one more edge than contents to cover left and right.)"
   ]
  },
  {
   "cell_type": "code",
   "execution_count": 190,
   "metadata": {},
   "outputs": [
    {
     "data": {
      "text/plain": [
       "(array([0.33352208, 0.30402994, 0.32451916, 0.3509729 , 0.36894202,\n",
       "        0.30728292, 0.30681205, 0.341563  , 0.16150808, 0.        ],\n",
       "       dtype=float32),\n",
       " array([ 0.,  1.,  2.,  3.,  4.,  5.,  6.,  7.,  8.,  9., 10.]))"
      ]
     },
     "execution_count": 190,
     "metadata": {},
     "output_type": "execute_result"
    }
   ],
   "source": [
    "file[\"htime\"].numpy()"
   ]
  },
  {
   "cell_type": "code",
   "execution_count": 192,
   "metadata": {},
   "outputs": [
    {
     "data": {
      "text/plain": [
       "(array([[0., 0., 0., ..., 0., 0., 0.],\n",
       "        [0., 0., 0., ..., 0., 0., 0.],\n",
       "        [0., 0., 0., ..., 0., 0., 0.],\n",
       "        ...,\n",
       "        [0., 0., 0., ..., 0., 0., 0.],\n",
       "        [0., 0., 0., ..., 0., 0., 0.],\n",
       "        [0., 0., 0., ..., 0., 0., 0.]], dtype=float32),\n",
       " [(array([-4. , -3.8, -3.6, -3.4, -3.2, -3. , -2.8, -2.6, -2.4, -2.2, -2. ,\n",
       "          -1.8, -1.6, -1.4, -1.2, -1. , -0.8, -0.6, -0.4, -0.2,  0. ,  0.2,\n",
       "           0.4,  0.6,  0.8,  1. ,  1.2,  1.4,  1.6,  1.8,  2. ,  2.2,  2.4,\n",
       "           2.6,  2.8,  3. ,  3.2,  3.4,  3.6,  3.8,  4. ]),\n",
       "   array([-4. , -3.8, -3.6, -3.4, -3.2, -3. , -2.8, -2.6, -2.4, -2.2, -2. ,\n",
       "          -1.8, -1.6, -1.4, -1.2, -1. , -0.8, -0.6, -0.4, -0.2,  0. ,  0.2,\n",
       "           0.4,  0.6,  0.8,  1. ,  1.2,  1.4,  1.6,  1.8,  2. ,  2.2,  2.4,\n",
       "           2.6,  2.8,  3. ,  3.2,  3.4,  3.6,  3.8,  4. ]))])"
      ]
     },
     "execution_count": 192,
     "metadata": {},
     "output_type": "execute_result"
    }
   ],
   "source": [
    "uproot.open(\"samples/hepdata-example.root\")[\"hpxpy\"].numpy()"
   ]
  },
  {
   "cell_type": "markdown",
   "metadata": {},
   "source": [
    "# Creating and writing data to ROOT files\n",
    "\n",
    "Uproot has a limited (but growing!) ability to _write_ ROOT files. Two types currently supported are `TObjString` (for debugging) and histograms.\n",
    "\n",
    "To write to a ROOT file in uproot, the file must be opened for writing using `uproot.create`, `uproot.recreate`, or `uproot.update` (corresponding to ROOT's `\"CREATE\"`, `\"RECREATE\"`, and `\"UPDATE\"` file modes). The compression level is given by `uproot.ZLIB(n)`, `uproot.LZMA(n)`, `uproot.LZ4(n)`, or `None`."
   ]
  },
  {
   "cell_type": "code",
   "execution_count": 193,
   "metadata": {},
   "outputs": [],
   "source": [
    "file = uproot.recreate(\"tmp.root\", compression=uproot.ZLIB(4))"
   ]
  },
  {
   "cell_type": "markdown",
   "metadata": {},
   "source": [
    "Unlike objects created by [uproot.open](https://uproot.readthedocs.io/en/latest/opening-files.html#uproot-open), you can _assign_ to this `file`. Just as reading behaves like getting an object from a Python dict, writing behaves like putting an object into a Python dict.\n",
    "\n",
    "**Note:** this is a fundamental departure from how ROOT uses names. In ROOT, a name is a part of an object that is _also_ used for lookup. With a dict-like interface, the object need not have a name; only the lookup mechanism (e.g. [ROOTDirectory](https://uproot.readthedocs.io/en/latest/root-io.html#uproot-rootio-rootdirectory)) needs to manage names.\n",
    "\n",
    "When you write objects to the ROOT file, they can be unnamed things like a Python string, but they get \"stamped\" with the lookup name once they go into the file."
   ]
  },
  {
   "cell_type": "code",
   "execution_count": 194,
   "metadata": {},
   "outputs": [],
   "source": [
    "file[\"name\"] = \"Some object, like a TObjString.\""
   ]
  },
  {
   "cell_type": "markdown",
   "metadata": {},
   "source": [
    "The object is now in the file. ROOT would be able to open this file and read the data, like this:\n",
    "\n",
    "```c++\n",
    "root [0] auto file = TFile::Open(\"tmp.root\");\n",
    "root [1] file->ls();\n",
    "```\n",
    "```\n",
    "TFile**\t\ttmp.root\t\n",
    " TFile*\t\ttmp.root\t\n",
    "  KEY: TObjString\tname;1\tCollectable string class\n",
    "```\n",
    "```c++\n",
    "root [2] TObjString* data;\n",
    "root [3] file->GetObject(\"name\", data);\n",
    "root [4] data->GetString()\n",
    "```\n",
    "```\n",
    "(const TString &) \"Some object, like a TObjString.\"[31]\n",
    "```\n",
    "\n",
    "We can also read it back in uproot, like this:"
   ]
  },
  {
   "cell_type": "code",
   "execution_count": 195,
   "metadata": {},
   "outputs": [
    {
     "data": {
      "text/plain": [
       "[b'name;1']"
      ]
     },
     "execution_count": 195,
     "metadata": {},
     "output_type": "execute_result"
    }
   ],
   "source": [
    "file.keys()"
   ]
  },
  {
   "cell_type": "code",
   "execution_count": 196,
   "metadata": {},
   "outputs": [
    {
     "data": {
      "text/plain": [
       "{b'name;1': uproot.rootio.TObjString}"
      ]
     },
     "execution_count": 196,
     "metadata": {},
     "output_type": "execute_result"
    }
   ],
   "source": [
    "dict(file.classes())"
   ]
  },
  {
   "cell_type": "code",
   "execution_count": 197,
   "metadata": {},
   "outputs": [
    {
     "data": {
      "text/plain": [
       "b'Some object, like a TObjString.'"
      ]
     },
     "execution_count": 197,
     "metadata": {},
     "output_type": "execute_result"
    }
   ],
   "source": [
    "file[\"name\"]"
   ]
  },
  {
   "cell_type": "markdown",
   "metadata": {},
   "source": [
    "(Notice that it lost its encoding—it is now a bytestring.)"
   ]
  },
  {
   "cell_type": "markdown",
   "metadata": {},
   "source": [
    "## Writing histograms\n",
    "\n",
    "Histograms can be written to the file in the same way: by assignment (choosing a name at the time of assignment). The histograms may be taken from another file and modified,"
   ]
  },
  {
   "cell_type": "code",
   "execution_count": 198,
   "metadata": {},
   "outputs": [
    {
     "name": "stdout",
     "output_type": "stream",
     "text": [
      "                  0                                                       2410.8\n",
      "                  +------------------------------------------------------------+\n",
      "[-inf, -3)   0    |                                                            |\n",
      "[-3, -2.4)   68   |**                                                          |\n",
      "[-2.4, -1.8) 285  |*******                                                     |\n",
      "[-1.8, -1.2) 755  |*******************                                         |\n",
      "[-1.2, -0.6) 1580 |***************************************                     |\n",
      "[-0.6, 0)    2296 |*********************************************************   |\n",
      "[0, 0.6)     2286 |*********************************************************   |\n",
      "[0.6, 1.2)   1570 |***************************************                     |\n",
      "[1.2, 1.8)   795  |********************                                        |\n",
      "[1.8, 2.4)   289  |*******                                                     |\n",
      "[2.4, 3)     76   |**                                                          |\n",
      "[3, inf]     0    |                                                            |\n",
      "                  +------------------------------------------------------------+\n",
      "                    0                                                    0.24108\n",
      "                    +----------------------------------------------------------+\n",
      "[-inf, -3)   0      |                                                          |\n",
      "[-3, -2.4)   0.0068 |**                                                        |\n",
      "[-2.4, -1.8) 0.0285 |*******                                                   |\n",
      "[-1.8, -1.2) 0.0755 |******************                                        |\n",
      "[-1.2, -0.6) 0.158  |**************************************                    |\n",
      "[-0.6, 0)    0.2296 |*******************************************************   |\n",
      "[0, 0.6)     0.2286 |*******************************************************   |\n",
      "[0.6, 1.2)   0.157  |**************************************                    |\n",
      "[1.2, 1.8)   0.0795 |*******************                                       |\n",
      "[1.8, 2.4)   0.0289 |*******                                                   |\n",
      "[2.4, 3)     0.0076 |**                                                        |\n",
      "[3, inf]     0      |                                                          |\n",
      "                    +----------------------------------------------------------+\n"
     ]
    }
   ],
   "source": [
    "histogram = uproot.open(\"https://scikit-hep.org/uproot/examples/histograms.root\")[\"one\"]\n",
    "histogram.show()\n",
    "norm = histogram.allvalues.sum()\n",
    "for i in range(len(histogram)):\n",
    "    histogram[i] /= norm\n",
    "histogram.show()\n",
    "    \n",
    "file[\"normalized\"] = histogram"
   ]
  },
  {
   "cell_type": "markdown",
   "metadata": {},
   "source": [
    "or it may be created entirely in Python."
   ]
  },
  {
   "cell_type": "code",
   "execution_count": 199,
   "metadata": {},
   "outputs": [],
   "source": [
    "import types\n",
    "import uproot_methods.classes.TH1\n",
    "\n",
    "class MyTH1(uproot_methods.classes.TH1.Methods, list):\n",
    "    def __init__(self, low, high, values, title=\"\"):\n",
    "        self._fXaxis = types.SimpleNamespace()\n",
    "        self._fXaxis._fNbins = len(values)\n",
    "        self._fXaxis._fXmin = low\n",
    "        self._fXaxis._fXmax = high\n",
    "        for x in values:\n",
    "            self.append(float(x))\n",
    "        self._fTitle = title\n",
    "        self._classname = \"TH1F\"\n",
    "        \n",
    "histogram = MyTH1(-5, 5, [0, 1, 1, 1, 1, 1, 1, 1, 1, 1, 1, 0])\n",
    "\n",
    "file[\"synthetic\"] = histogram"
   ]
  },
  {
   "cell_type": "code",
   "execution_count": 200,
   "metadata": {},
   "outputs": [
    {
     "name": "stdout",
     "output_type": "stream",
     "text": [
      "                      0                                                     1.05\n",
      "                      +--------------------------------------------------------+\n",
      "[-inf, -5)          0 |                                                        |\n",
      "[-5, -4.1667)       1 |*****************************************************   |\n",
      "[-4.1667, -3.3333)  1 |*****************************************************   |\n",
      "[-3.3333, -2.5)     1 |*****************************************************   |\n",
      "[-2.5, -1.6667)     1 |*****************************************************   |\n",
      "[-1.6667, -0.83333) 1 |*****************************************************   |\n",
      "[-0.83333, 0)       1 |*****************************************************   |\n",
      "[0, 0.83333)        1 |*****************************************************   |\n",
      "[0.83333, 1.6667)   1 |*****************************************************   |\n",
      "[1.6667, 2.5)       1 |*****************************************************   |\n",
      "[2.5, 3.3333)       1 |*****************************************************   |\n",
      "[5, inf]            0 |                                                        |\n",
      "                      +--------------------------------------------------------+\n"
     ]
    }
   ],
   "source": [
    "file[\"synthetic\"].show()"
   ]
  },
  {
   "cell_type": "markdown",
   "metadata": {},
   "source": [
    "But it is particularly useful that uproot recognizes [Numpy histograms](https://docs.scipy.org/doc/numpy/reference/generated/numpy.histogram.html), which may have come from other libraries."
   ]
  },
  {
   "cell_type": "code",
   "execution_count": 201,
   "metadata": {},
   "outputs": [],
   "source": [
    "file[\"from_numpy\"] = numpy.histogram(numpy.random.normal(0, 1, 10000))"
   ]
  },
  {
   "cell_type": "code",
   "execution_count": 202,
   "metadata": {},
   "outputs": [
    {
     "name": "stdout",
     "output_type": "stream",
     "text": [
      "                          0                                               3209.8\n",
      "                          +----------------------------------------------------+\n",
      "[-inf, -4.2249)      0    |                                                    |\n",
      "[-4.2249, -3.3867)   6    |                                                    |\n",
      "[-3.3867, -2.5484)   63   |*                                                   |\n",
      "[-2.5484, -1.7101)   376  |******                                              |\n",
      "[-1.7101, -0.8718)   1438 |***********************                             |\n",
      "[-0.8718, -0.033514) 2975 |************************************************    |\n",
      "[-0.033514, 0.80477) 3057 |**************************************************  |\n",
      "[0.80477, 1.6431)    1570 |*************************                           |\n",
      "[1.6431, 2.4813)     442  |*******                                             |\n",
      "[2.4813, 3.3196)     66   |*                                                   |\n",
      "[3.3196, 4.1579)     7    |                                                    |\n",
      "[4.1579, inf]        0    |                                                    |\n",
      "                          +----------------------------------------------------+\n"
     ]
    }
   ],
   "source": [
    "file[\"from_numpy\"].show()"
   ]
  },
  {
   "cell_type": "code",
   "execution_count": 203,
   "metadata": {},
   "outputs": [],
   "source": [
    "file[\"from_numpy2d\"] = numpy.histogram2d(numpy.random.normal(0, 1, 10000), numpy.random.normal(0, 1, 10000))"
   ]
  },
  {
   "cell_type": "code",
   "execution_count": 204,
   "metadata": {},
   "outputs": [
    {
     "data": {
      "text/plain": [
       "(array([[  0.,   0.,   1.,   0.,   3.,   3.,   2.,   0.,   0.,   0.],\n",
       "        [  0.,   3.,  12.,  21.,  33.,  23.,  22.,   4.,   0.,   0.],\n",
       "        [  0.,   6.,  35.,  96., 152., 174.,  93.,  28.,   5.,   2.],\n",
       "        [  7.,  16.,  91., 284., 470., 434., 266.,  69.,  16.,   1.],\n",
       "        [  1.,  37., 146., 471., 766., 759., 425., 140.,  24.,   1.],\n",
       "        [  1.,  38., 145., 512., 771., 715., 394., 138.,  22.,   6.],\n",
       "        [  4.,  16.,  86., 252., 417., 414., 249.,  56.,  10.,   0.],\n",
       "        [  1.,   5.,  25.,  98., 136., 133.,  82.,  21.,   3.,   0.],\n",
       "        [  0.,   1.,   8.,  12.,  23.,  28.,  14.,   4.,   3.,   0.],\n",
       "        [  0.,   0.,   1.,   3.,   4.,   4.,   2.,   1.,   0.,   0.]]),\n",
       " [(array([-3.71371807, -2.9587047 , -2.20369132, -1.44867795, -0.69366458,\n",
       "           0.06134879,  0.81636217,  1.57137554,  2.32638891,  3.08140228,\n",
       "           3.83641566]),\n",
       "   array([-3.80131588, -3.0313005 , -2.26128512, -1.49126974, -0.72125436,\n",
       "           0.04876102,  0.8187764 ,  1.58879178,  2.35880716,  3.12882254,\n",
       "           3.89883792]))])"
      ]
     },
     "execution_count": 204,
     "metadata": {},
     "output_type": "execute_result"
    }
   ],
   "source": [
    "file[\"from_numpy2d\"].numpy()"
   ]
  },
  {
   "cell_type": "markdown",
   "metadata": {},
   "source": [
    "## Writing TTrees\n",
    "\n",
    "Uproot can now write TTrees (documented on the [main README](https://github.com/scikit-hep/uproot#writing-ttrees)), but the interactive tutorial has not been written."
   ]
  }
 ],
 "metadata": {
  "kernelspec": {
   "display_name": "Python 3",
   "language": "python",
   "name": "python3"
  },
  "language_info": {
   "codemirror_mode": {
    "name": "ipython",
    "version": 3
   },
   "file_extension": ".py",
   "mimetype": "text/x-python",
   "name": "python",
   "nbconvert_exporter": "python",
   "pygments_lexer": "ipython3",
   "version": "3.7.3"
  }
 },
 "nbformat": 4,
 "nbformat_minor": 4
}

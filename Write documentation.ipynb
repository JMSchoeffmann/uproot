{
 "cells": [
  {
   "cell_type": "markdown",
   "metadata": {},
   "source": [
    "# Writing TTrees"
   ]
  },
  {
   "cell_type": "markdown",
   "metadata": {},
   "source": [
    "As of now, uproot can create ROOT files with TTrees containing baskets with flat data.  "
   ]
  },
  {
   "cell_type": "markdown",
   "metadata": {},
   "source": [
    "Basic usage - "
   ]
  },
  {
   "cell_type": "code",
   "execution_count": 1,
   "metadata": {},
   "outputs": [],
   "source": [
    "import uproot\n",
    "\n",
    "branchdict = {\"branch\": \"int32\"}\n",
    "tree = uproot.newtree(branchdict)\n",
    "with uproot.recreate(\"example.root\") as f:\n",
    "    f[\"t\"] = tree\n",
    "    f[\"t\"][\"branch\"].newbasket([1, 2, 3, 4, 5])"
   ]
  },
  {
   "cell_type": "markdown",
   "metadata": {},
   "source": [
    "Reading it back in uproot - "
   ]
  },
  {
   "cell_type": "code",
   "execution_count": 2,
   "metadata": {},
   "outputs": [
    {
     "data": {
      "text/plain": [
       "array([1, 2, 3, 4, 5], dtype=int32)"
      ]
     },
     "execution_count": 2,
     "metadata": {},
     "output_type": "execute_result"
    }
   ],
   "source": [
    "f = uproot.open(\"example.root\")\n",
    "f[\"t\"].array(\"branch\")"
   ]
  },
  {
   "cell_type": "markdown",
   "metadata": {},
   "source": [
    "Reading it back in ROOT -"
   ]
  },
  {
   "cell_type": "code",
   "execution_count": 3,
   "metadata": {},
   "outputs": [
    {
     "name": "stdout",
     "output_type": "stream",
     "text": [
      "Welcome to JupyROOT 6.18/00\n",
      "[[1.]\n",
      " [2.]\n",
      " [3.]\n",
      " [4.]\n",
      " [5.]]\n"
     ]
    }
   ],
   "source": [
    "import ROOT\n",
    "\n",
    "f = ROOT.TFile.Open(\"example.root\")\n",
    "tree = f.Get(\"t\")\n",
    "treedata = tree.AsMatrix([\"branch\"])\n",
    "print(treedata)"
   ]
  },
  {
   "cell_type": "markdown",
   "metadata": {},
   "source": [
    "Some important limitations to keep in mind - \n",
    "1. TTrees written by uproot are not compressed - however, basket data is compressed.\n",
    "2. Cannot implicitly create ROOT files with a TTree read by uproot. (Might be added as a feature in the future)"
   ]
  },
  {
   "cell_type": "markdown",
   "metadata": {},
   "source": [
    "You can look at the current state of the TTree when you are putting in data -"
   ]
  },
  {
   "cell_type": "code",
   "execution_count": 4,
   "metadata": {},
   "outputs": [],
   "source": [
    "import uproot\n",
    "\n",
    "branchdict = {\"branch\": \"int32\"}\n",
    "tree = uproot.newtree(branchdict)\n",
    "f = uproot.recreate(\"example.root\")\n",
    "f[\"t\"] = tree\n",
    "f[\"t\"][\"branch\"].newbasket([1, 2, 3, 4, 5])"
   ]
  },
  {
   "cell_type": "markdown",
   "metadata": {},
   "source": [
    "Read it - "
   ]
  },
  {
   "cell_type": "code",
   "execution_count": 5,
   "metadata": {},
   "outputs": [
    {
     "data": {
      "text/plain": [
       "array([1, 2, 3, 4, 5], dtype=int32)"
      ]
     },
     "execution_count": 5,
     "metadata": {},
     "output_type": "execute_result"
    }
   ],
   "source": [
    "f[\"t\"].array(\"branch\")"
   ]
  },
  {
   "cell_type": "markdown",
   "metadata": {},
   "source": [
    "You get all the reading methods - "
   ]
  },
  {
   "cell_type": "code",
   "execution_count": 6,
   "metadata": {},
   "outputs": [
    {
     "name": "stdout",
     "output_type": "stream",
     "text": [
      "allitems\n",
      "allkeys\n",
      "allvalues\n",
      "array\n",
      "arrays\n",
      "clusters\n",
      "get\n",
      "items\n",
      "iterate\n",
      "iteritems\n",
      "iterkeys\n",
      "itervalues\n",
      "keys\n",
      "lazyarray\n",
      "lazyarrays\n",
      "matches\n",
      "mempartitions\n",
      "name\n",
      "numbranches\n",
      "numentries\n",
      "pandas\n",
      "show\n",
      "title\n",
      "values\n"
     ]
    }
   ],
   "source": [
    "#Hiding private attributes\n",
    "for x in dir(f[\"t\"]):\n",
    "    if x.startswith(\"_\") == False:\n",
    "        print(x)"
   ]
  },
  {
   "cell_type": "code",
   "execution_count": 7,
   "metadata": {},
   "outputs": [
    {
     "name": "stdout",
     "output_type": "stream",
     "text": [
      "allitems\n",
      "allkeys\n",
      "allvalues\n",
      "array\n",
      "basket\n",
      "basket_compressedbytes\n",
      "basket_entrystart\n",
      "basket_entrystop\n",
      "basket_numentries\n",
      "basket_numitems\n",
      "basket_uncompressedbytes\n",
      "baskets\n",
      "compressedbytes\n",
      "compressionratio\n",
      "countbranch\n",
      "countleaf\n",
      "get\n",
      "interpretation\n",
      "items\n",
      "iterate_baskets\n",
      "iteritems\n",
      "iterkeys\n",
      "itervalues\n",
      "keys\n",
      "lazyarray\n",
      "mempartitions\n",
      "name\n",
      "newbasket\n",
      "numbaskets\n",
      "numbranches\n",
      "numentries\n",
      "numitems\n",
      "revertstring\n",
      "title\n",
      "uncompressedbytes\n",
      "values\n"
     ]
    }
   ],
   "source": [
    "#Hiding private attributes\n",
    "for x in dir(f[\"t\"][\"branch\"]):\n",
    "    if x.startswith(\"_\") == False:\n",
    "        print(x)"
   ]
  },
  {
   "cell_type": "markdown",
   "metadata": {},
   "source": [
    "Keep writing - "
   ]
  },
  {
   "cell_type": "code",
   "execution_count": null,
   "metadata": {},
   "outputs": [],
   "source": [
    "f[\"t\"][\"branch\"].newbasket([6, 7, 8, 9, 10])"
   ]
  },
  {
   "cell_type": "markdown",
   "metadata": {},
   "source": [
    "Just to check if it is a valid ROOT file - "
   ]
  },
  {
   "cell_type": "code",
   "execution_count": null,
   "metadata": {},
   "outputs": [],
   "source": [
    "import ROOT\n",
    "\n",
    "f = ROOT.TFile.Open(\"example.root\")\n",
    "tree = f.Get(\"t\")\n",
    "treedata = tree.AsMatrix([\"branch\"])\n",
    "print(treedata)"
   ]
  },
  {
   "cell_type": "code",
   "execution_count": null,
   "metadata": {},
   "outputs": [],
   "source": []
  }
 ],
 "metadata": {
  "kernelspec": {
   "display_name": "Python 3",
   "language": "python",
   "name": "python3"
  },
  "language_info": {
   "codemirror_mode": {
    "name": "ipython",
    "version": 3
   },
   "file_extension": ".py",
   "mimetype": "text/x-python",
   "name": "python",
   "nbconvert_exporter": "python",
   "pygments_lexer": "ipython3",
   "version": "3.7.4"
  }
 },
 "nbformat": 4,
 "nbformat_minor": 4
}

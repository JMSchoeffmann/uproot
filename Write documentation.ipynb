{
 "cells": [
  {
   "cell_type": "markdown",
   "metadata": {},
   "source": [
    "# Writing TTrees"
   ]
  },
  {
   "cell_type": "markdown",
   "metadata": {},
   "source": [
    "As of now, uproot can create ROOT files with TTrees containing baskets with flat data.  "
   ]
  },
  {
   "cell_type": "markdown",
   "metadata": {},
   "source": [
    "Basic usage - "
   ]
  },
  {
   "cell_type": "code",
   "execution_count": 1,
   "metadata": {},
   "outputs": [],
   "source": [
    "import uproot\n",
    "\n",
    "branchdict = {\"branch\": \"int32\"}\n",
    "tree = uproot.newtree(branchdict)\n",
    "with uproot.recreate(\"example.root\") as f:\n",
    "    f[\"t\"] = tree\n",
    "    f[\"t\"][\"branch\"].newbasket([1, 2, 3, 4, 5])"
   ]
  },
  {
   "cell_type": "markdown",
   "metadata": {},
   "source": [
    "Reading it back in uproot - "
   ]
  },
  {
   "cell_type": "code",
   "execution_count": 2,
   "metadata": {},
   "outputs": [
    {
     "data": {
      "text/plain": [
       "array([1, 2, 3, 4, 5], dtype=int32)"
      ]
     },
     "execution_count": 2,
     "metadata": {},
     "output_type": "execute_result"
    }
   ],
   "source": [
    "f = uproot.open(\"example.root\")\n",
    "f[\"t\"].array(\"branch\")"
   ]
  },
  {
   "cell_type": "markdown",
   "metadata": {},
   "source": [
    "Reading it back in ROOT -"
   ]
  },
  {
   "cell_type": "code",
   "execution_count": 3,
   "metadata": {},
   "outputs": [
    {
     "name": "stdout",
     "output_type": "stream",
     "text": [
      "Welcome to JupyROOT 6.18/00\n",
      "[[1.]\n",
      " [2.]\n",
      " [3.]\n",
      " [4.]\n",
      " [5.]]\n"
     ]
    }
   ],
   "source": [
    "import ROOT\n",
    "\n",
    "f = ROOT.TFile.Open(\"example.root\")\n",
    "tree = f.Get(\"t\")\n",
    "treedata = tree.AsMatrix([\"branch\"])\n",
    "print(treedata)"
   ]
  },
  {
   "cell_type": "markdown",
   "metadata": {},
   "source": [
    "Some important limitations to keep in mind - \n",
    "1. TTrees written by uproot are not compressed - however, basket data is compressed.\n",
    "2. Cannot implicitly create ROOT files with a TTree read by uproot. (Might be added as a feature in the future)"
   ]
  },
  {
   "cell_type": "markdown",
   "metadata": {},
   "source": [
    "You can look at the current state of the TTree when you are putting in data -"
   ]
  },
  {
   "cell_type": "code",
   "execution_count": 4,
   "metadata": {},
   "outputs": [],
   "source": [
    "import uproot\n",
    "\n",
    "branchdict = {\"branch\": \"int32\"}\n",
    "tree = uproot.newtree(branchdict)\n",
    "f = uproot.recreate(\"example.root\")\n",
    "f[\"t\"] = tree\n",
    "f[\"t\"][\"branch\"].newbasket([1, 2, 3, 4, 5])"
   ]
  },
  {
   "cell_type": "markdown",
   "metadata": {},
   "source": [
    "Read it - "
   ]
  },
  {
   "cell_type": "code",
   "execution_count": null,
   "metadata": {},
   "outputs": [],
   "source": [
    "f[\"t\"].array(\"branch\")"
   ]
  },
  {
   "cell_type": "markdown",
   "metadata": {},
   "source": [
    "You get all the reading methods - "
   ]
  },
  {
   "cell_type": "code",
   "execution_count": null,
   "metadata": {},
   "outputs": [],
   "source": [
    "#Hiding private attributes\n",
    "for x in dir(f[\"t\"]):\n",
    "    if x.startswith(\"_\") == False:\n",
    "        print(x)"
   ]
  },
  {
   "cell_type": "code",
   "execution_count": null,
   "metadata": {},
   "outputs": [],
   "source": [
    "#Hiding private attributes\n",
    "for x in dir(f[\"t\"][\"branch\"]):\n",
    "    if x.startswith(\"_\") == False:\n",
    "        print(x)"
   ]
  },
  {
   "cell_type": "markdown",
   "metadata": {},
   "source": [
    "Let's get some more information - "
   ]
  },
  {
   "cell_type": "code",
   "execution_count": null,
   "metadata": {},
   "outputs": [],
   "source": [
    "f[\"t\"][\"branch\"].basket(0)"
   ]
  },
  {
   "cell_type": "markdown",
   "metadata": {},
   "source": [
    "Keep writing - "
   ]
  },
  {
   "cell_type": "code",
   "execution_count": null,
   "metadata": {},
   "outputs": [],
   "source": [
    "f[\"t\"][\"branch\"].newbasket([6, 7, 8, 9, 10])"
   ]
  },
  {
   "cell_type": "markdown",
   "metadata": {},
   "source": [
    "Close the file!"
   ]
  },
  {
   "cell_type": "code",
   "execution_count": null,
   "metadata": {},
   "outputs": [],
   "source": [
    "f.close()"
   ]
  },
  {
   "cell_type": "markdown",
   "metadata": {},
   "source": [
    "Just to check if it is a valid ROOT file - "
   ]
  },
  {
   "cell_type": "code",
   "execution_count": null,
   "metadata": {},
   "outputs": [],
   "source": [
    "import ROOT\n",
    "\n",
    "f = ROOT.TFile.Open(\"example.root\")\n",
    "tree = f.Get(\"t\")\n",
    "treedata = tree.AsMatrix([\"branch\"])\n",
    "print(treedata)"
   ]
  },
  {
   "cell_type": "markdown",
   "metadata": {},
   "source": [
    "## Creating the Branches"
   ]
  },
  {
   "cell_type": "markdown",
   "metadata": {},
   "source": [
    "There are 2 ways to create a branch -"
   ]
  },
  {
   "cell_type": "code",
   "execution_count": null,
   "metadata": {},
   "outputs": [],
   "source": [
    "b = \"int32\"\n",
    "# b = \">i4\""
   ]
  },
  {
   "cell_type": "markdown",
   "metadata": {},
   "source": [
    "or"
   ]
  },
  {
   "cell_type": "code",
   "execution_count": null,
   "metadata": {},
   "outputs": [],
   "source": [
    "b = uproot.newbranch(\"int32\")\n",
    "# b = uproot.newbranch(\">i4\")"
   ]
  },
  {
   "cell_type": "markdown",
   "metadata": {},
   "source": [
    "The above method provides a lot more flexibility, letting you specify the flushsize, title of the branch and compression of the baskets along with the type of the branch."
   ]
  },
  {
   "cell_type": "markdown",
   "metadata": {},
   "source": [
    "Currently, the types of Branches supported by uproot are - \n",
    "\n",
    "* int8\n",
    "* f8\n",
    "* f4\n",
    "* int32 or i4\n",
    "* int64 or i8\n",
    "* Boolean or ?\n",
    "* i2"
   ]
  },
  {
   "cell_type": "markdown",
   "metadata": {},
   "source": [
    "To specify the title of the branch -"
   ]
  },
  {
   "cell_type": "code",
   "execution_count": null,
   "metadata": {},
   "outputs": [],
   "source": [
    "b = uproot.newbranch(\"int32\", title=\"This is the title\")"
   ]
  },
  {
   "cell_type": "markdown",
   "metadata": {},
   "source": [
    "## Creating the Tree"
   ]
  },
  {
   "cell_type": "markdown",
   "metadata": {},
   "source": [
    "Note that the name of the branches are not specified anywhere yet.\n",
    "\n",
    "The next step is to create a dictionary of all the branches with the branch name as the key and the branch(or the type) as the value - "
   ]
  },
  {
   "cell_type": "code",
   "execution_count": null,
   "metadata": {},
   "outputs": [],
   "source": [
    "branchdict = {\"branch1\": b, \"branch2\": \">i8\"}"
   ]
  },
  {
   "cell_type": "markdown",
   "metadata": {},
   "source": [
    "Then we create our tree with the dictionary we just created - "
   ]
  },
  {
   "cell_type": "code",
   "execution_count": null,
   "metadata": {},
   "outputs": [],
   "source": [
    "t = uproot.newtree(branchdict)"
   ]
  },
  {
   "cell_type": "markdown",
   "metadata": {},
   "source": [
    "Similar to the branches, we can specify the title, the flushsize and the compression using the newtree method."
   ]
  },
  {
   "cell_type": "markdown",
   "metadata": {},
   "source": [
    "Again, like the branches we can specify the title of the TTree like - "
   ]
  },
  {
   "cell_type": "code",
   "execution_count": null,
   "metadata": {},
   "outputs": [],
   "source": [
    "t = uproot.newtree(branchdict, title=\"TTree Title\")"
   ]
  },
  {
   "cell_type": "markdown",
   "metadata": {},
   "source": [
    "We can then write it to the file - "
   ]
  },
  {
   "cell_type": "code",
   "execution_count": null,
   "metadata": {},
   "outputs": [],
   "source": [
    "f = uproot.recreate(\"demo.root\")\n",
    "f[\"t\"] = t"
   ]
  },
  {
   "cell_type": "markdown",
   "metadata": {},
   "source": [
    "### Writing baskets"
   ]
  },
  {
   "cell_type": "markdown",
   "metadata": {},
   "source": [
    "We have 2 branches in our TTree -\n",
    "* branch1\n",
    "* branch2"
   ]
  },
  {
   "cell_type": "code",
   "execution_count": null,
   "metadata": {},
   "outputs": [],
   "source": [
    "# Write everything about append and extend"
   ]
  },
  {
   "cell_type": "markdown",
   "metadata": {},
   "source": [
    "If you want, you can write a basket to only 1 branch. But remember to add equal number of baskets to the other branches as well as ROOT assumes that all the branches have equal number of baskets and will not read the non-uniform baskets."
   ]
  },
  {
   "cell_type": "code",
   "execution_count": null,
   "metadata": {},
   "outputs": [],
   "source": [
    "f[\"t\"][\"branch1\"].newbasket([1, 2, 3])"
   ]
  },
  {
   "cell_type": "markdown",
   "metadata": {},
   "source": [
    "Add 3 more baskets to branch2!"
   ]
  },
  {
   "cell_type": "code",
   "execution_count": null,
   "metadata": {},
   "outputs": [],
   "source": [
    "f[\"t\"][\"branch2\"].newbasket([91, 92, 93])"
   ]
  },
  {
   "cell_type": "markdown",
   "metadata": {},
   "source": [
    "## Compression"
   ]
  },
  {
   "cell_type": "markdown",
   "metadata": {},
   "source": [
    "TTrees are not compressed, but this is not a huge penalty because the TTree in itself does not grow that large in size and most of the size of the TTree is because of the baskets that **are** compressed."
   ]
  },
  {
   "cell_type": "markdown",
   "metadata": {},
   "source": [
    "By default, the baskets of all the branches are compressed depending on the compression set for the file."
   ]
  },
  {
   "cell_type": "code",
   "execution_count": null,
   "metadata": {},
   "outputs": [],
   "source": [
    "branchdict = {\"branch\": \"int32\"}\n",
    "tree = uproot.newtree(branchdict)\n",
    "with uproot.recreate(\"example.root\", compression=uproot.LZMA(5)) as f:\n",
    "    f[\"t\"] = tree\n",
    "    f[\"t\"][\"branch\"].newbasket([1]*1000)"
   ]
  },
  {
   "cell_type": "markdown",
   "metadata": {},
   "source": [
    "In the above example the baskets in the branch are compressed using LZMA with level equal to 5."
   ]
  },
  {
   "cell_type": "markdown",
   "metadata": {},
   "source": [
    "You can specify the compression of all the branches if you want it to be separate from the compression specified for the entire file."
   ]
  },
  {
   "cell_type": "code",
   "execution_count": null,
   "metadata": {},
   "outputs": [],
   "source": [
    "branchdict = {\"branch\": \"int32\", \"testbranch\": \"int64\"}\n",
    "tree = uproot.newtree(branchdict, compression=uproot.LZ4(4)) # <-- LOOK HERE\n",
    "with uproot.recreate(\"example.root\", compression=uproot.LZMA(5)) as f:\n",
    "    f[\"t\"] = tree\n",
    "    f[\"t\"][\"branch\"].newbasket([1]*1000)\n",
    "    f[\"t\"][\"testbranch\"].newbasket([2]*1000)"
   ]
  },
  {
   "cell_type": "markdown",
   "metadata": {},
   "source": [
    "In the above example, the baskets in both branch \"branch\" and \"testbranch\" are compressed using LZ4 with level equal to 4.\n",
    "If the user adds other objects(new tree, histogram, strings) to the ROOT file, they will still follow the compression specified in the file of LZMA with level equal to 5."
   ]
  },
  {
   "cell_type": "markdown",
   "metadata": {},
   "source": [
    "You can also specify the compression of each branch individually.\n",
    "\n",
    "In the \"Creating the Branches\" section, we spoke about the compression option if one is using the newbranch interface to create the branch."
   ]
  },
  {
   "cell_type": "code",
   "execution_count": null,
   "metadata": {},
   "outputs": [],
   "source": [
    "b1 = uproot.newbranch(\"i4\", compression=uproot.ZLIB(5))\n",
    "b2 = uproot.newbranch(\"i8\", compression=uproot.LZMA(4))\n",
    "b3 = uproot.newbranch(\"f4\")\n",
    "\n",
    "branchdict = {\"branch1\": b1, \"branch2\": b2, \"branch3\": b3}\n",
    "tree = uproot.newtree(branchdict, compression=uproot.LZ4(4))\n",
    "with uproot.recreate(\"example.root\", compression=uproot.LZMA(5)) as f:\n",
    "    f[\"t\"] = tree\n",
    "    f[\"t\"][\"branch1\"].newbasket([1]*1000)\n",
    "    f[\"t\"][\"branch2\"].newbasket([2]*1000)\n",
    "    f[\"t\"][\"branch3\"].newbasket([3]*1000)"
   ]
  },
  {
   "cell_type": "markdown",
   "metadata": {},
   "source": [
    "In the above example, the baskets in branch \"branch1\" are compressed using ZLIB with level equal to 5.  \n",
    "The baskets in branch \"branch2\" are compressed using LZMA with level equal to 4.  \n",
    "The baskets in branch \"branch3\" follow the compression set using the newtree interface and is using LZ4 with level equal to 4.  "
   ]
  },
  {
   "cell_type": "code",
   "execution_count": null,
   "metadata": {},
   "outputs": [],
   "source": []
  }
 ],
 "metadata": {
  "kernelspec": {
   "display_name": "Python 3",
   "language": "python",
   "name": "python3"
  },
  "language_info": {
   "codemirror_mode": {
    "name": "ipython",
    "version": 3
   },
   "file_extension": ".py",
   "mimetype": "text/x-python",
   "name": "python",
   "nbconvert_exporter": "python",
   "pygments_lexer": "ipython3",
   "version": "3.7.4"
  }
 },
 "nbformat": 4,
 "nbformat_minor": 4
}
